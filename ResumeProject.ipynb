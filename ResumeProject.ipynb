{
 "cells": [
  {
   "cell_type": "markdown",
   "id": "9a80e32f",
   "metadata": {},
   "source": [
    "# Resume & Job offers - text analysis\n",
    "## Dawid Szyszko-Celiński (443709)"
   ]
  },
  {
   "cell_type": "markdown",
   "id": "32560129",
   "metadata": {},
   "source": [
    "### Aim of the project"
   ]
  },
  {
   "cell_type": "markdown",
   "id": "1de55672",
   "metadata": {},
   "source": [
    "The aim of the project is to perform text analysis of Resumes and job offers at the same time. In further parts I would like to simulate a few business cases considering recruitment process such as:\n",
    "\n",
    "1) We have one place that gathers all Resumes but want to internally divide into groups so that specialists from each branch can look at Resumes without redirecting resumes and they can be assessed directly by department manager / HR specialist\n",
    "\n",
    "2) We have a jobs offer portal and we want to automatically categorize job offers based if they are IT / Non-IT to make filtering more appealing and help users to find offers easier\n",
    "\n",
    "3) We are jobs offer portal and we gather both CVs and Resumes. We want to provide a service that will somehow connect chosen offer/resume so that both sides can contact potential employer/employee from portal reccomendation\n",
    "\n",
    "Resumes data comes from - https://www.kaggle.com/datasets/gauravduttakiit/resume-dataset\n",
    "\n",
    "Job offers data comes from - https://www.kaggle.com/datasets/madhab/jobposts/code"
   ]
  },
  {
   "cell_type": "markdown",
   "id": "ff842941",
   "metadata": {},
   "source": [
    "#### First let us load all necessary packages to perform analyses"
   ]
  },
  {
   "cell_type": "code",
   "execution_count": 1,
   "id": "603f6f39",
   "metadata": {},
   "outputs": [
    {
     "name": "stderr",
     "output_type": "stream",
     "text": [
      "C:\\Users\\justy\\AppData\\Local\\Programs\\Python\\Python39\\lib\\site-packages\\tqdm\\auto.py:22: TqdmWarning: IProgress not found. Please update jupyter and ipywidgets. See https://ipywidgets.readthedocs.io/en/stable/user_install.html\n",
      "  from .autonotebook import tqdm as notebook_tqdm\n"
     ]
    }
   ],
   "source": [
    "import pandas as pd\n",
    "import numpy as np\n",
    "import re\n",
    "import string\n",
    "import matplotlib.pyplot as plt\n",
    "import seaborn as sns\n",
    "import math\n",
    "import warnings\n",
    "\n",
    "from sklearn.model_selection import StratifiedShuffleSplit\n",
    "from sklearn.feature_extraction.text import CountVectorizer, TfidfVectorizer\n",
    "from sklearn.feature_extraction.text import TfidfTransformer\n",
    "from sklearn.naive_bayes import MultinomialNB\n",
    "from sklearn.pipeline import Pipeline\n",
    "from sklearn.svm import LinearSVC\n",
    "from sklearn.metrics import classification_report,confusion_matrix\n",
    "from sklearn.neighbors import KNeighborsClassifier\n",
    "from sklearn.linear_model import LogisticRegression\n",
    "from sklearn.ensemble import RandomForestClassifier\n",
    "from sklearn.model_selection import train_test_split\n",
    "from sklearn.metrics.pairwise import cosine_similarity\n",
    "\n",
    "import nltk\n",
    "from nltk.corpus import stopwords\n",
    "from nltk.stem import PorterStemmer\n",
    "from nltk.tokenize import word_tokenize\n",
    "from nltk.tag import pos_tag\n",
    "import nltk.classify.util\n",
    "from nltk.classify import NaiveBayesClassifier\n",
    "\n",
    "import transformers\n",
    "from transformers import BertTokenizer, BertModel\n",
    "import tensorflow as tf\n",
    "\n",
    "from sklearn.metrics import roc_auc_score\n",
    "from sklearn.manifold import TSNE\n",
    "\n",
    "from keras.preprocessing.text import Tokenizer\n",
    "#from keras.preprocessing.sequence import pad_sequences\n",
    "from tensorflow.keras.preprocessing.sequence import pad_sequences\n",
    "from keras.layers import LSTM, Conv1D, MaxPooling1D, Dropout\n",
    "from keras.utils.np_utils import to_categorical\n",
    "from keras.layers import Dense, Input, Flatten\n",
    "from keras.layers import GlobalAveragePooling1D, Embedding\n",
    "from keras.models import Model\n",
    "\n",
    "%matplotlib inline\n",
    "\n",
    "np.random.seed(7)"
   ]
  },
  {
   "cell_type": "markdown",
   "id": "9207146f",
   "metadata": {},
   "source": [
    "### Let us load Resume data first and perform some preprocessing"
   ]
  },
  {
   "cell_type": "code",
   "execution_count": 2,
   "id": "2e25e34f",
   "metadata": {},
   "outputs": [],
   "source": [
    "df_resume = pd.read_csv('.../UpdatedResumeDataSet.csv', encoding='utf-8')"
   ]
  },
  {
   "cell_type": "code",
   "execution_count": 3,
   "id": "1d3e807f",
   "metadata": {},
   "outputs": [
    {
     "name": "stdout",
     "output_type": "stream",
     "text": [
      "Index(['Category', 'Resume'], dtype='object')\n"
     ]
    }
   ],
   "source": [
    "print(df_resume.columns)\n",
    "\n",
    "## Add a new variable with length of resuem before cleaning\n",
    "\n",
    "df_resume[\"Resume_str\"] = df_resume[\"Resume\"].copy()\n",
    "df_resume['length']=df_resume['Resume_str'].apply(len)"
   ]
  },
  {
   "cell_type": "code",
   "execution_count": 4,
   "id": "375eaec1",
   "metadata": {},
   "outputs": [
    {
     "data": {
      "text/html": [
       "<div>\n",
       "<style scoped>\n",
       "    .dataframe tbody tr th:only-of-type {\n",
       "        vertical-align: middle;\n",
       "    }\n",
       "\n",
       "    .dataframe tbody tr th {\n",
       "        vertical-align: top;\n",
       "    }\n",
       "\n",
       "    .dataframe thead th {\n",
       "        text-align: right;\n",
       "    }\n",
       "</style>\n",
       "<table border=\"1\" class=\"dataframe\">\n",
       "  <thead>\n",
       "    <tr style=\"text-align: right;\">\n",
       "      <th></th>\n",
       "      <th>Category</th>\n",
       "      <th>Resume</th>\n",
       "      <th>Resume_str</th>\n",
       "      <th>length</th>\n",
       "    </tr>\n",
       "  </thead>\n",
       "  <tbody>\n",
       "    <tr>\n",
       "      <th>0</th>\n",
       "      <td>Data Science</td>\n",
       "      <td>Skills * Programming Languages: Python (pandas...</td>\n",
       "      <td>Skills * Programming Languages: Python (pandas...</td>\n",
       "      <td>4786</td>\n",
       "    </tr>\n",
       "    <tr>\n",
       "      <th>1</th>\n",
       "      <td>Data Science</td>\n",
       "      <td>Education Details \\r\\nMay 2013 to May 2017 B.E...</td>\n",
       "      <td>Education Details \\r\\nMay 2013 to May 2017 B.E...</td>\n",
       "      <td>1268</td>\n",
       "    </tr>\n",
       "    <tr>\n",
       "      <th>2</th>\n",
       "      <td>Data Science</td>\n",
       "      <td>Areas of Interest Deep Learning, Control Syste...</td>\n",
       "      <td>Areas of Interest Deep Learning, Control Syste...</td>\n",
       "      <td>1871</td>\n",
       "    </tr>\n",
       "    <tr>\n",
       "      <th>3</th>\n",
       "      <td>Data Science</td>\n",
       "      <td>Skills â¢ R â¢ Python â¢ SAP HANA â¢ Table...</td>\n",
       "      <td>Skills â¢ R â¢ Python â¢ SAP HANA â¢ Table...</td>\n",
       "      <td>6995</td>\n",
       "    </tr>\n",
       "    <tr>\n",
       "      <th>4</th>\n",
       "      <td>Data Science</td>\n",
       "      <td>Education Details \\r\\n MCA   YMCAUST,  Faridab...</td>\n",
       "      <td>Education Details \\r\\n MCA   YMCAUST,  Faridab...</td>\n",
       "      <td>452</td>\n",
       "    </tr>\n",
       "  </tbody>\n",
       "</table>\n",
       "</div>"
      ],
      "text/plain": [
       "       Category                                             Resume  \\\n",
       "0  Data Science  Skills * Programming Languages: Python (pandas...   \n",
       "1  Data Science  Education Details \\r\\nMay 2013 to May 2017 B.E...   \n",
       "2  Data Science  Areas of Interest Deep Learning, Control Syste...   \n",
       "3  Data Science  Skills â¢ R â¢ Python â¢ SAP HANA â¢ Table...   \n",
       "4  Data Science  Education Details \\r\\n MCA   YMCAUST,  Faridab...   \n",
       "\n",
       "                                          Resume_str  length  \n",
       "0  Skills * Programming Languages: Python (pandas...    4786  \n",
       "1  Education Details \\r\\nMay 2013 to May 2017 B.E...    1268  \n",
       "2  Areas of Interest Deep Learning, Control Syste...    1871  \n",
       "3  Skills â¢ R â¢ Python â¢ SAP HANA â¢ Table...    6995  \n",
       "4  Education Details \\r\\n MCA   YMCAUST,  Faridab...     452  "
      ]
     },
     "execution_count": 4,
     "metadata": {},
     "output_type": "execute_result"
    }
   ],
   "source": [
    "## Let us see how the data looks like\n",
    "df_resume.head()"
   ]
  },
  {
   "cell_type": "code",
   "execution_count": 5,
   "id": "df49e1cc",
   "metadata": {},
   "outputs": [
    {
     "data": {
      "text/plain": [
       "(array([ 0,  1,  2,  3,  4,  5,  6,  7,  8,  9, 10, 11, 12, 13, 14, 15, 16,\n",
       "        17, 18, 19, 20, 21, 22, 23, 24]),\n",
       " [Text(0, 0, 'Data Science'),\n",
       "  Text(1, 0, 'HR'),\n",
       "  Text(2, 0, 'Advocate'),\n",
       "  Text(3, 0, 'Arts'),\n",
       "  Text(4, 0, 'Web Designing'),\n",
       "  Text(5, 0, 'Mechanical Engineer'),\n",
       "  Text(6, 0, 'Sales'),\n",
       "  Text(7, 0, 'Health and fitness'),\n",
       "  Text(8, 0, 'Civil Engineer'),\n",
       "  Text(9, 0, 'Java Developer'),\n",
       "  Text(10, 0, 'Business Analyst'),\n",
       "  Text(11, 0, 'SAP Developer'),\n",
       "  Text(12, 0, 'Automation Testing'),\n",
       "  Text(13, 0, 'Electrical Engineering'),\n",
       "  Text(14, 0, 'Operations Manager'),\n",
       "  Text(15, 0, 'Python Developer'),\n",
       "  Text(16, 0, 'DevOps Engineer'),\n",
       "  Text(17, 0, 'Network Security Engineer'),\n",
       "  Text(18, 0, 'PMO'),\n",
       "  Text(19, 0, 'Database'),\n",
       "  Text(20, 0, 'Hadoop'),\n",
       "  Text(21, 0, 'ETL Developer'),\n",
       "  Text(22, 0, 'DotNet Developer'),\n",
       "  Text(23, 0, 'Blockchain'),\n",
       "  Text(24, 0, 'Testing')])"
      ]
     },
     "execution_count": 5,
     "metadata": {},
     "output_type": "execute_result"
    },
    {
     "data": {
      "image/png": "[encoded data removed]",
      "text/plain": [
       "<Figure size 432x288 with 1 Axes>"
      ]
     },
     "metadata": {
      "needs_background": "light"
     },
     "output_type": "display_data"
    }
   ],
   "source": [
    "## Now let`s check the unique values of Categoreis and their frequencies\n",
    "\n",
    "sns.countplot(x='Category', data=df_resume)\n",
    "plt.xticks(rotation=90)"
   ]
  },
  {
   "cell_type": "markdown",
   "id": "8304d345",
   "metadata": {},
   "source": [
    "Lets see the distribution of lengths of resumes and lenghts per resume category"
   ]
  },
  {
   "cell_type": "code",
   "execution_count": 6,
   "id": "af30e3e8",
   "metadata": {},
   "outputs": [
    {
     "data": {
      "text/plain": [
       "Text(0.5, 0, 'Length of Resumes')"
      ]
     },
     "execution_count": 6,
     "metadata": {},
     "output_type": "execute_result"
    },
    {
     "data": {
      "image/png": "[encoded data removed]",
      "text/plain": [
       "<Figure size 432x288 with 1 Axes>"
      ]
     },
     "metadata": {
      "needs_background": "light"
     },
     "output_type": "display_data"
    }
   ],
   "source": [
    "df_resume['length'].plot(bins=50,kind='hist')\n",
    "plt.xlabel('Length of Resumes')"
   ]
  },
  {
   "cell_type": "code",
   "execution_count": 7,
   "id": "f6ecafcf",
   "metadata": {},
   "outputs": [
    {
     "data": {
      "text/plain": [
       "([0,\n",
       "  1,\n",
       "  2,\n",
       "  3,\n",
       "  4,\n",
       "  5,\n",
       "  6,\n",
       "  7,\n",
       "  8,\n",
       "  9,\n",
       "  10,\n",
       "  11,\n",
       "  12,\n",
       "  13,\n",
       "  14,\n",
       "  15,\n",
       "  16,\n",
       "  17,\n",
       "  18,\n",
       "  19,\n",
       "  20,\n",
       "  21,\n",
       "  22,\n",
       "  23,\n",
       "  24],\n",
       " [Text(0, 0, ''),\n",
       "  Text(0, 0, ''),\n",
       "  Text(0, 0, ''),\n",
       "  Text(0, 0, ''),\n",
       "  Text(0, 0, ''),\n",
       "  Text(0, 0, ''),\n",
       "  Text(0, 0, ''),\n",
       "  Text(0, 0, ''),\n",
       "  Text(0, 0, ''),\n",
       "  Text(0, 0, ''),\n",
       "  Text(0, 0, ''),\n",
       "  Text(0, 0, ''),\n",
       "  Text(0, 0, ''),\n",
       "  Text(0, 0, ''),\n",
       "  Text(0, 0, ''),\n",
       "  Text(0, 0, ''),\n",
       "  Text(0, 0, ''),\n",
       "  Text(0, 0, ''),\n",
       "  Text(0, 0, ''),\n",
       "  Text(0, 0, ''),\n",
       "  Text(0, 0, ''),\n",
       "  Text(0, 0, ''),\n",
       "  Text(0, 0, ''),\n",
       "  Text(0, 0, ''),\n",
       "  Text(0, 0, '')])"
      ]
     },
     "execution_count": 7,
     "metadata": {},
     "output_type": "execute_result"
    },
    {
     "data": {
      "image/png": "[encoded data removed]",
      "text/plain": [
       "<Figure size 432x288 with 1 Axes>"
      ]
     },
     "metadata": {
      "needs_background": "light"
     },
     "output_type": "display_data"
    }
   ],
   "source": [
    "df_mean = df_resume.groupby(\"Category\")[\"length\"].mean()\n",
    "plt.bar(df_mean.index, df_mean.values)\n",
    "plt.xticks(rotation=90)"
   ]
  },
  {
   "cell_type": "markdown",
   "id": "72c11cc1",
   "metadata": {},
   "source": [
    "Now let us check the text"
   ]
  },
  {
   "cell_type": "code",
   "execution_count": 8,
   "id": "41b60028",
   "metadata": {},
   "outputs": [
    {
     "data": {
      "text/plain": [
       "'Education Details \\r\\nMay 2013 to May 2017 B.E   UIT-RGPV\\r\\nData Scientist \\r\\n\\r\\nData Scientist - Matelabs\\r\\nSkill Details \\r\\nPython- Exprience - Less than 1 year months\\r\\nStatsmodels- Exprience - 12 months\\r\\nAWS- Exprience - Less than 1 year months\\r\\nMachine learning- Exprience - Less than 1 year months\\r\\nSklearn- Exprience - Less than 1 year months\\r\\nScipy- Exprience - Less than 1 year months\\r\\nKeras- Exprience - Less than 1 year monthsCompany Details \\r\\ncompany - Matelabs\\r\\ndescription - ML Platform for business professionals, dummies and enthusiasts.\\r\\n60/A Koramangala 5th block,\\r\\nAchievements/Tasks behind sukh sagar, Bengaluru,\\r\\nIndia                               Developed and deployed auto preprocessing steps of machine learning mainly missing value\\r\\ntreatment, outlier detection, encoding, scaling, feature selection and dimensionality reduction.\\r\\nDeployed automated classification and regression model.\\r\\nlinkedin.com/in/aditya-rathore-\\r\\nb4600b146                           Reasearch and deployed the time series forecasting model ARIMA, SARIMAX, Holt-winter and\\r\\nProphet.\\r\\nWorked on meta-feature extracting problem.\\r\\ngithub.com/rathorology\\r\\nImplemented a state of the art research paper on outlier detection for mixed attributes.\\r\\ncompany - Matelabs\\r\\ndescription - '"
      ]
     },
     "execution_count": 8,
     "metadata": {},
     "output_type": "execute_result"
    }
   ],
   "source": [
    "## And example of resume\n",
    "df_resume['Resume_str'][1]"
   ]
  },
  {
   "cell_type": "markdown",
   "id": "84abf39f",
   "metadata": {},
   "source": [
    "As we can see the resume text is very messy, containing a lot of special signs. We shall clear the data before performing any analyses. It would be good to keep numbers like years of experience but for this project we will focus mostly on text. Future updates of the project may adress this issue."
   ]
  },
  {
   "cell_type": "markdown",
   "id": "1372ff1c",
   "metadata": {},
   "source": [
    "#### Cleaning the data"
   ]
  },
  {
   "cell_type": "code",
   "execution_count": 9,
   "id": "9f198ebb",
   "metadata": {},
   "outputs": [],
   "source": [
    "df_resume['Resume_str'] = df_resume['Resume_str'].map(lambda x: re.sub(\"[\\!?/:;''()``’“-”—#_-]\", ' ', x))\n",
    "df_resume['Resume_str'] = df_resume['Resume_str'].map(lambda x: re.sub(',', ' ', x))\n",
    "df_resume['Resume_str'] = df_resume['Resume_str'].map(lambda x: re.sub(r'[0-9]+', ' ', x))\n",
    "df_resume['Resume_str'] = df_resume['Resume_str'].map(lambda x: re.sub('%', ' ', x))\n",
    "df_resume['Resume_str'] = df_resume['Resume_str'].map(lambda x: re.sub(':', ' ', x))\n",
    "df_resume['Resume_str'] = df_resume['Resume_str'].map(lambda x: re.sub('&', 'and', x))\n",
    "df_resume['Resume_str'] = df_resume['Resume_str'].map(lambda x: re.sub('\"', ' ', x))\n",
    "df_resume['Resume_str'] = df_resume['Resume_str'].map(lambda x: re.sub('\\'', ' ', x))\n",
    "df_resume['Resume_str'] = df_resume['Resume_str'].map(lambda x: re.sub('\\|', ' ', x))\n",
    "df_resume['Resume_str'] = df_resume['Resume_str'].map(lambda x: re.sub('\\+', ' ', x))\n",
    "df_resume['Resume_str'] = df_resume['Resume_str'].map(lambda x: re.sub('\\$', 'dollar', x))\n",
    "df_resume['Resume_str'] = df_resume['Resume_str'].map(lambda x: re.sub('\\n', ' ', x))\n",
    "df_resume['Resume_str'] = df_resume['Resume_str'].map(lambda x: re.sub('\\xa0', ' ', x))\n",
    "df_resume['Resume_str'] = df_resume['Resume_str'].map(lambda x: re.sub('\\*', ' ', x))\n",
    "df_resume['Resume_str'] = df_resume['Resume_str'].map(lambda x: re.sub('－', '', x))\n",
    "df_resume['Resume_str'] = df_resume['Resume_str'].map(lambda x: re.sub('·', ' ', x))\n",
    "df_resume['Resume_str'] = df_resume['Resume_str'].map(lambda x: re.sub('\\.', ' ', x))\n",
    "df_resume['Resume_str'] = df_resume['Resume_str'].map(lambda x: re.sub('\\s+', ' ', x))\n",
    "df_resume['Resume_str'] = df_resume['Resume_str'].map(lambda x: x.lower())\n",
    "\n",
    "def remove_non_ascii(text):\n",
    "    return text.encode('ascii', 'ignore').decode('ascii')\n",
    "\n",
    "df_resume['Resume_str'] = df_resume['Resume_str'].map(lambda x: remove_non_ascii(x))"
   ]
  },
  {
   "cell_type": "markdown",
   "id": "e0d2ddb2",
   "metadata": {},
   "source": [
    "Now let us check the changes after cleaning the data"
   ]
  },
  {
   "cell_type": "code",
   "execution_count": 10,
   "id": "ee3865cf",
   "metadata": {},
   "outputs": [
    {
     "data": {
      "text/plain": [
       "'education details may to may b e uit rgpv data scientist data scientist matelabs skill details python exprience less than year months statsmodels exprience months aws exprience less than year months machine learning exprience less than year months sklearn exprience less than year months scipy exprience less than year months keras exprience less than year monthscompany details company matelabs description ml platform for business professionals dummies and enthusiasts a koramangala th block achievements tasks behind sukh sagar bengaluru india developed and deployed auto preprocessing steps of machine learning mainly missing value treatment outlier detection encoding scaling feature selection and dimensionality reduction deployed automated classification and regression model linkedin com in aditya rathore b b reasearch and deployed the time series forecasting model arima sarimax holt winter and prophet worked on meta feature extracting problem github com rathorology implemented a state of the art research paper on outlier detection for mixed attributes company matelabs description '"
      ]
     },
     "execution_count": 10,
     "metadata": {},
     "output_type": "execute_result"
    }
   ],
   "source": [
    "df_resume['Resume_str'][1]"
   ]
  },
  {
   "cell_type": "markdown",
   "id": "448da036",
   "metadata": {},
   "source": [
    "### Now let us delete stopwords and stem the data"
   ]
  },
  {
   "cell_type": "code",
   "execution_count": 11,
   "id": "f927a098",
   "metadata": {},
   "outputs": [],
   "source": [
    "resume_text = df_resume['Resume_str'].apply(lambda x: x.split())\n",
    "ps = PorterStemmer()\n",
    "\n",
    "for i in range(0,len(resume_text)):\n",
    "    words = []\n",
    "    for word in resume_text[i]:\n",
    "        words.append(ps.stem(word))\n",
    "    resume_text[i] = words\n"
   ]
  },
  {
   "cell_type": "code",
   "execution_count": 12,
   "id": "7c51f846",
   "metadata": {},
   "outputs": [
    {
     "data": {
      "text/plain": [
       "['skill',\n",
       " 'program',\n",
       " 'languag',\n",
       " 'python',\n",
       " 'panda',\n",
       " 'numpi',\n",
       " 'scipi',\n",
       " 'scikit',\n",
       " 'learn',\n",
       " 'matplotlib',\n",
       " 'sql',\n",
       " 'java',\n",
       " 'javascript',\n",
       " 'jqueri',\n",
       " 'machin',\n",
       " 'learn',\n",
       " 'regress',\n",
       " 'svm',\n",
       " 'nave',\n",
       " 'bay',\n",
       " 'knn',\n",
       " 'random',\n",
       " 'forest',\n",
       " 'decis',\n",
       " 'tree',\n",
       " 'boost',\n",
       " 'techniqu',\n",
       " 'cluster',\n",
       " 'analysi',\n",
       " 'word',\n",
       " 'embed',\n",
       " 'sentiment',\n",
       " 'analysi',\n",
       " 'natur',\n",
       " 'languag',\n",
       " 'process',\n",
       " 'dimension',\n",
       " 'reduct',\n",
       " 'topic',\n",
       " 'model',\n",
       " 'lda',\n",
       " 'nmf',\n",
       " 'pca',\n",
       " 'and',\n",
       " 'neural',\n",
       " 'net',\n",
       " 'databas',\n",
       " 'visual',\n",
       " 'mysql',\n",
       " 'sqlserver',\n",
       " 'cassandra',\n",
       " 'hbase',\n",
       " 'elasticsearch',\n",
       " 'd',\n",
       " 'js',\n",
       " 'dc',\n",
       " 'js',\n",
       " 'plotli',\n",
       " 'kibana',\n",
       " 'matplotlib',\n",
       " 'ggplot',\n",
       " 'tableau',\n",
       " 'other',\n",
       " 'regular',\n",
       " 'express',\n",
       " 'html',\n",
       " 'css',\n",
       " 'angular',\n",
       " 'logstash',\n",
       " 'kafka',\n",
       " 'python',\n",
       " 'flask',\n",
       " 'git',\n",
       " 'docker',\n",
       " 'comput',\n",
       " 'vision',\n",
       " 'open',\n",
       " 'cv',\n",
       " 'and',\n",
       " 'understand',\n",
       " 'of',\n",
       " 'deep',\n",
       " 'learn',\n",
       " 'educ',\n",
       " 'detail',\n",
       " 'data',\n",
       " 'scienc',\n",
       " 'assur',\n",
       " 'associ',\n",
       " 'data',\n",
       " 'scienc',\n",
       " 'assur',\n",
       " 'associ',\n",
       " 'ernst',\n",
       " 'and',\n",
       " 'young',\n",
       " 'llp',\n",
       " 'skill',\n",
       " 'detail',\n",
       " 'javascript',\n",
       " 'exprienc',\n",
       " 'month',\n",
       " 'jqueri',\n",
       " 'exprienc',\n",
       " 'month',\n",
       " 'python',\n",
       " 'exprienc',\n",
       " 'monthscompani',\n",
       " 'detail',\n",
       " 'compani',\n",
       " 'ernst',\n",
       " 'and',\n",
       " 'young',\n",
       " 'llp',\n",
       " 'descript',\n",
       " 'fraud',\n",
       " 'investig',\n",
       " 'and',\n",
       " 'disput',\n",
       " 'servic',\n",
       " 'assur',\n",
       " 'technolog',\n",
       " 'assist',\n",
       " 'review',\n",
       " 'tar',\n",
       " 'technolog',\n",
       " 'assist',\n",
       " 'review',\n",
       " 'assist',\n",
       " 'in',\n",
       " 'acceler',\n",
       " 'the',\n",
       " 'review',\n",
       " 'process',\n",
       " 'and',\n",
       " 'run',\n",
       " 'analyt',\n",
       " 'and',\n",
       " 'gener',\n",
       " 'report',\n",
       " 'core',\n",
       " 'member',\n",
       " 'of',\n",
       " 'a',\n",
       " 'team',\n",
       " 'help',\n",
       " 'in',\n",
       " 'develop',\n",
       " 'autom',\n",
       " 'review',\n",
       " 'platform',\n",
       " 'tool',\n",
       " 'from',\n",
       " 'scratch',\n",
       " 'for',\n",
       " 'assist',\n",
       " 'e',\n",
       " 'discoveri',\n",
       " 'domain',\n",
       " 'thi',\n",
       " 'tool',\n",
       " 'implement',\n",
       " 'predict',\n",
       " 'code',\n",
       " 'and',\n",
       " 'topic',\n",
       " 'model',\n",
       " 'by',\n",
       " 'autom',\n",
       " 'review',\n",
       " 'result',\n",
       " 'in',\n",
       " 'reduc',\n",
       " 'labor',\n",
       " 'cost',\n",
       " 'and',\n",
       " 'time',\n",
       " 'spent',\n",
       " 'dure',\n",
       " 'the',\n",
       " 'lawyer',\n",
       " 'review',\n",
       " 'understand',\n",
       " 'the',\n",
       " 'end',\n",
       " 'to',\n",
       " 'end',\n",
       " 'flow',\n",
       " 'of',\n",
       " 'the',\n",
       " 'solut',\n",
       " 'do',\n",
       " 'research',\n",
       " 'and',\n",
       " 'develop',\n",
       " 'for',\n",
       " 'classif',\n",
       " 'model',\n",
       " 'predict',\n",
       " 'analysi',\n",
       " 'and',\n",
       " 'mine',\n",
       " 'of',\n",
       " 'the',\n",
       " 'inform',\n",
       " 'present',\n",
       " 'in',\n",
       " 'text',\n",
       " 'data',\n",
       " 'work',\n",
       " 'on',\n",
       " 'analyz',\n",
       " 'the',\n",
       " 'output',\n",
       " 'and',\n",
       " 'precis',\n",
       " 'monitor',\n",
       " 'for',\n",
       " 'the',\n",
       " 'entir',\n",
       " 'tool',\n",
       " 'tar',\n",
       " 'assist',\n",
       " 'in',\n",
       " 'predict',\n",
       " 'code',\n",
       " 'topic',\n",
       " 'model',\n",
       " 'from',\n",
       " 'the',\n",
       " 'evid',\n",
       " 'by',\n",
       " 'follow',\n",
       " 'ey',\n",
       " 'standard',\n",
       " 'develop',\n",
       " 'the',\n",
       " 'classifi',\n",
       " 'model',\n",
       " 'in',\n",
       " 'order',\n",
       " 'to',\n",
       " 'identifi',\n",
       " 'red',\n",
       " 'flag',\n",
       " 'and',\n",
       " 'fraud',\n",
       " 'relat',\n",
       " 'issu',\n",
       " 'tool',\n",
       " 'and',\n",
       " 'technolog',\n",
       " 'python',\n",
       " 'scikit',\n",
       " 'learn',\n",
       " 'tfidf',\n",
       " 'word',\n",
       " 'vec',\n",
       " 'doc',\n",
       " 'vec',\n",
       " 'cosin',\n",
       " 'similar',\n",
       " 'nave',\n",
       " 'bay',\n",
       " 'lda',\n",
       " 'nmf',\n",
       " 'for',\n",
       " 'topic',\n",
       " 'model',\n",
       " 'vader',\n",
       " 'and',\n",
       " 'text',\n",
       " 'blob',\n",
       " 'for',\n",
       " 'sentiment',\n",
       " 'analysi',\n",
       " 'matplot',\n",
       " 'lib',\n",
       " 'tableau',\n",
       " 'dashboard',\n",
       " 'for',\n",
       " 'report',\n",
       " 'multipl',\n",
       " 'data',\n",
       " 'scienc',\n",
       " 'and',\n",
       " 'analyt',\n",
       " 'project',\n",
       " 'usa',\n",
       " 'client',\n",
       " 'text',\n",
       " 'analyt',\n",
       " 'motor',\n",
       " 'vehicl',\n",
       " 'custom',\n",
       " 'review',\n",
       " 'data',\n",
       " 'receiv',\n",
       " 'custom',\n",
       " 'feedback',\n",
       " 'survey',\n",
       " 'data',\n",
       " 'for',\n",
       " 'past',\n",
       " 'one',\n",
       " 'year',\n",
       " 'perform',\n",
       " 'sentiment',\n",
       " 'posit',\n",
       " 'neg',\n",
       " 'and',\n",
       " 'neutral',\n",
       " 'and',\n",
       " 'time',\n",
       " 'seri',\n",
       " 'analysi',\n",
       " 'on',\n",
       " 'custom',\n",
       " 'comment',\n",
       " 'across',\n",
       " 'all',\n",
       " 'categori',\n",
       " 'creat',\n",
       " 'heat',\n",
       " 'map',\n",
       " 'of',\n",
       " 'term',\n",
       " 'by',\n",
       " 'survey',\n",
       " 'categori',\n",
       " 'base',\n",
       " 'on',\n",
       " 'frequenc',\n",
       " 'of',\n",
       " 'word',\n",
       " 'extract',\n",
       " 'posit',\n",
       " 'and',\n",
       " 'neg',\n",
       " 'word',\n",
       " 'across',\n",
       " 'all',\n",
       " 'the',\n",
       " 'survey',\n",
       " 'categori',\n",
       " 'and',\n",
       " 'plot',\n",
       " 'word',\n",
       " 'cloud',\n",
       " 'creat',\n",
       " 'custom',\n",
       " 'tableau',\n",
       " 'dashboard',\n",
       " 'for',\n",
       " 'effect',\n",
       " 'report',\n",
       " 'and',\n",
       " 'visual',\n",
       " 'chatbot',\n",
       " 'develop',\n",
       " 'a',\n",
       " 'user',\n",
       " 'friendli',\n",
       " 'chatbot',\n",
       " 'for',\n",
       " 'one',\n",
       " 'of',\n",
       " 'our',\n",
       " 'product',\n",
       " 'which',\n",
       " 'handl',\n",
       " 'simpl',\n",
       " 'question',\n",
       " 'about',\n",
       " 'hour',\n",
       " 'of',\n",
       " 'oper',\n",
       " 'reserv',\n",
       " 'option',\n",
       " 'and',\n",
       " 'so',\n",
       " 'on',\n",
       " 'thi',\n",
       " 'chat',\n",
       " 'bot',\n",
       " 'serv',\n",
       " 'entir',\n",
       " 'product',\n",
       " 'relat',\n",
       " 'question',\n",
       " 'give',\n",
       " 'overview',\n",
       " 'of',\n",
       " 'tool',\n",
       " 'via',\n",
       " 'qa',\n",
       " 'platform',\n",
       " 'and',\n",
       " 'also',\n",
       " 'give',\n",
       " 'recommend',\n",
       " 'respons',\n",
       " 'so',\n",
       " 'that',\n",
       " 'user',\n",
       " 'question',\n",
       " 'to',\n",
       " 'build',\n",
       " 'chain',\n",
       " 'of',\n",
       " 'relev',\n",
       " 'answer',\n",
       " 'thi',\n",
       " 'too',\n",
       " 'ha',\n",
       " 'intellig',\n",
       " 'to',\n",
       " 'build',\n",
       " 'the',\n",
       " 'pipelin',\n",
       " 'of',\n",
       " 'question',\n",
       " 'as',\n",
       " 'per',\n",
       " 'user',\n",
       " 'requir',\n",
       " 'and',\n",
       " 'ask',\n",
       " 'the',\n",
       " 'relev',\n",
       " 'recommend',\n",
       " 'question',\n",
       " 'tool',\n",
       " 'and',\n",
       " 'technolog',\n",
       " 'python',\n",
       " 'natur',\n",
       " 'languag',\n",
       " 'process',\n",
       " 'nltk',\n",
       " 'spaci',\n",
       " 'topic',\n",
       " 'model',\n",
       " 'sentiment',\n",
       " 'analysi',\n",
       " 'word',\n",
       " 'embed',\n",
       " 'scikit',\n",
       " 'learn',\n",
       " 'javascript',\n",
       " 'jqueri',\n",
       " 'sqlserver',\n",
       " 'inform',\n",
       " 'govern',\n",
       " 'organ',\n",
       " 'to',\n",
       " 'make',\n",
       " 'inform',\n",
       " 'decis',\n",
       " 'about',\n",
       " 'all',\n",
       " 'of',\n",
       " 'the',\n",
       " 'inform',\n",
       " 'they',\n",
       " 'store',\n",
       " 'the',\n",
       " 'integr',\n",
       " 'inform',\n",
       " 'govern',\n",
       " 'portfolio',\n",
       " 'synthes',\n",
       " 'intellig',\n",
       " 'across',\n",
       " 'unstructur',\n",
       " 'data',\n",
       " 'sourc',\n",
       " 'and',\n",
       " 'facilit',\n",
       " 'action',\n",
       " 'to',\n",
       " 'ensur',\n",
       " 'organ',\n",
       " 'are',\n",
       " 'best',\n",
       " 'posit',\n",
       " 'to',\n",
       " 'counter',\n",
       " 'inform',\n",
       " 'risk',\n",
       " 'scan',\n",
       " 'data',\n",
       " 'from',\n",
       " 'multipl',\n",
       " 'sourc',\n",
       " 'of',\n",
       " 'format',\n",
       " 'and',\n",
       " 'pars',\n",
       " 'differ',\n",
       " 'file',\n",
       " 'format',\n",
       " 'extract',\n",
       " 'meta',\n",
       " 'data',\n",
       " 'inform',\n",
       " 'push',\n",
       " 'result',\n",
       " 'for',\n",
       " 'index',\n",
       " 'elast',\n",
       " 'search',\n",
       " 'and',\n",
       " 'creat',\n",
       " 'custom',\n",
       " 'interact',\n",
       " 'dashboard',\n",
       " 'use',\n",
       " 'kibana',\n",
       " 'preform',\n",
       " 'rot',\n",
       " 'analysi',\n",
       " 'on',\n",
       " 'the',\n",
       " 'data',\n",
       " 'which',\n",
       " 'give',\n",
       " 'inform',\n",
       " 'of',\n",
       " 'data',\n",
       " 'which',\n",
       " 'help',\n",
       " 'identifi',\n",
       " 'content',\n",
       " 'that',\n",
       " 'is',\n",
       " 'either',\n",
       " 'redund',\n",
       " 'outdat',\n",
       " 'or',\n",
       " 'trivial',\n",
       " 'preform',\n",
       " 'full',\n",
       " 'text',\n",
       " 'search',\n",
       " 'analysi',\n",
       " 'on',\n",
       " 'elast',\n",
       " 'search',\n",
       " 'with',\n",
       " 'predefin',\n",
       " 'method',\n",
       " 'which',\n",
       " 'can',\n",
       " 'tag',\n",
       " 'as',\n",
       " 'pii',\n",
       " 'person',\n",
       " 'identifi',\n",
       " 'inform',\n",
       " 'social',\n",
       " 'secur',\n",
       " 'number',\n",
       " 'address',\n",
       " 'name',\n",
       " 'etc',\n",
       " 'which',\n",
       " 'frequent',\n",
       " 'target',\n",
       " 'dure',\n",
       " 'cyber',\n",
       " 'attack',\n",
       " 'tool',\n",
       " 'and',\n",
       " 'technolog',\n",
       " 'python',\n",
       " 'flask',\n",
       " 'elast',\n",
       " 'search',\n",
       " 'kibana',\n",
       " 'fraud',\n",
       " 'analyt',\n",
       " 'platform',\n",
       " 'fraud',\n",
       " 'analyt',\n",
       " 'and',\n",
       " 'investig',\n",
       " 'platform',\n",
       " 'to',\n",
       " 'review',\n",
       " 'all',\n",
       " 'red',\n",
       " 'flag',\n",
       " 'case',\n",
       " 'fap',\n",
       " 'is',\n",
       " 'a',\n",
       " 'fraud',\n",
       " 'analyt',\n",
       " 'and',\n",
       " 'investig',\n",
       " 'platform',\n",
       " 'with',\n",
       " 'inbuilt',\n",
       " 'case',\n",
       " 'manag',\n",
       " 'and',\n",
       " 'suit',\n",
       " 'of',\n",
       " 'analyt',\n",
       " 'for',\n",
       " 'variou',\n",
       " 'erp',\n",
       " 'system',\n",
       " 'it',\n",
       " 'can',\n",
       " 'be',\n",
       " 'use',\n",
       " 'by',\n",
       " 'client',\n",
       " 'to',\n",
       " 'interrog',\n",
       " 'their',\n",
       " 'account',\n",
       " 'system',\n",
       " 'for',\n",
       " 'identifi',\n",
       " 'the',\n",
       " 'anomali',\n",
       " 'which',\n",
       " 'can',\n",
       " 'be',\n",
       " 'indic',\n",
       " 'of',\n",
       " 'fraud',\n",
       " 'by',\n",
       " 'run',\n",
       " 'advanc',\n",
       " 'analyt',\n",
       " 'tool',\n",
       " 'and',\n",
       " 'technolog',\n",
       " 'html',\n",
       " 'javascript',\n",
       " 'sqlserver',\n",
       " 'jqueri',\n",
       " 'css',\n",
       " 'bootstrap',\n",
       " 'node',\n",
       " 'js',\n",
       " 'd',\n",
       " 'js',\n",
       " 'dc',\n",
       " 'js']"
      ]
     },
     "execution_count": 12,
     "metadata": {},
     "output_type": "execute_result"
    }
   ],
   "source": [
    "## We can see that the text is stemmed right now\n",
    "\n",
    "resume_text[0]"
   ]
  },
  {
   "cell_type": "code",
   "execution_count": 13,
   "id": "681deaae",
   "metadata": {},
   "outputs": [],
   "source": [
    "stop_words = nltk.corpus.stopwords.words('english')\n",
    "\n",
    "stop_words = pd.Series(stop_words).map(lambda x: re.sub('\\n', '', x))\n",
    "stop_words = stop_words.map(lambda x: re.sub(\"[,\\!?/:;''()``]_\", '', x))\n",
    "stop_words = stop_words.map(lambda x: re.sub(r\"([.]+)\", '', x))"
   ]
  },
  {
   "cell_type": "code",
   "execution_count": 14,
   "id": "f2a03e5b",
   "metadata": {},
   "outputs": [],
   "source": [
    "## stemming stopwords\n",
    "for i in range(0,len(stop_words)):\n",
    "    stop_words[i] = ps.stem(stop_words[i])\n",
    "\n",
    "stop_words\n",
    "\n",
    "## making stopwords back a list\n",
    "stop_words = list(stop_words)\n",
    "\n",
    "## removing stopwords\n",
    "for i in range(0,len(resume_text)):\n",
    "    resume_text[i] = [word for word in resume_text[i] if not word in list(stop_words)]"
   ]
  },
  {
   "cell_type": "code",
   "execution_count": 15,
   "id": "b2a7bd3b",
   "metadata": {},
   "outputs": [
    {
     "data": {
      "text/plain": [
       "['skill',\n",
       " 'program',\n",
       " 'languag',\n",
       " 'python',\n",
       " 'panda',\n",
       " 'numpi',\n",
       " 'scipi',\n",
       " 'scikit',\n",
       " 'learn',\n",
       " 'matplotlib',\n",
       " 'sql',\n",
       " 'java',\n",
       " 'javascript',\n",
       " 'jqueri',\n",
       " 'machin',\n",
       " 'learn',\n",
       " 'regress',\n",
       " 'svm',\n",
       " 'nave',\n",
       " 'bay',\n",
       " 'knn',\n",
       " 'random',\n",
       " 'forest',\n",
       " 'decis',\n",
       " 'tree',\n",
       " 'boost',\n",
       " 'techniqu',\n",
       " 'cluster',\n",
       " 'analysi',\n",
       " 'word',\n",
       " 'embed',\n",
       " 'sentiment',\n",
       " 'analysi',\n",
       " 'natur',\n",
       " 'languag',\n",
       " 'process',\n",
       " 'dimension',\n",
       " 'reduct',\n",
       " 'topic',\n",
       " 'model',\n",
       " 'lda',\n",
       " 'nmf',\n",
       " 'pca',\n",
       " 'neural',\n",
       " 'net',\n",
       " 'databas',\n",
       " 'visual',\n",
       " 'mysql',\n",
       " 'sqlserver',\n",
       " 'cassandra',\n",
       " 'hbase',\n",
       " 'elasticsearch',\n",
       " 'js',\n",
       " 'dc',\n",
       " 'js',\n",
       " 'plotli',\n",
       " 'kibana',\n",
       " 'matplotlib',\n",
       " 'ggplot',\n",
       " 'tableau',\n",
       " 'regular',\n",
       " 'express',\n",
       " 'html',\n",
       " 'css',\n",
       " 'angular',\n",
       " 'logstash',\n",
       " 'kafka',\n",
       " 'python',\n",
       " 'flask',\n",
       " 'git',\n",
       " 'docker',\n",
       " 'comput',\n",
       " 'vision',\n",
       " 'open',\n",
       " 'cv',\n",
       " 'understand',\n",
       " 'deep',\n",
       " 'learn',\n",
       " 'educ',\n",
       " 'detail',\n",
       " 'data',\n",
       " 'scienc',\n",
       " 'assur',\n",
       " 'associ',\n",
       " 'data',\n",
       " 'scienc',\n",
       " 'assur',\n",
       " 'associ',\n",
       " 'ernst',\n",
       " 'young',\n",
       " 'llp',\n",
       " 'skill',\n",
       " 'detail',\n",
       " 'javascript',\n",
       " 'exprienc',\n",
       " 'month',\n",
       " 'jqueri',\n",
       " 'exprienc',\n",
       " 'month',\n",
       " 'python',\n",
       " 'exprienc',\n",
       " 'monthscompani',\n",
       " 'detail',\n",
       " 'compani',\n",
       " 'ernst',\n",
       " 'young',\n",
       " 'llp',\n",
       " 'descript',\n",
       " 'fraud',\n",
       " 'investig',\n",
       " 'disput',\n",
       " 'servic',\n",
       " 'assur',\n",
       " 'technolog',\n",
       " 'assist',\n",
       " 'review',\n",
       " 'tar',\n",
       " 'technolog',\n",
       " 'assist',\n",
       " 'review',\n",
       " 'assist',\n",
       " 'acceler',\n",
       " 'review',\n",
       " 'process',\n",
       " 'run',\n",
       " 'analyt',\n",
       " 'gener',\n",
       " 'report',\n",
       " 'core',\n",
       " 'member',\n",
       " 'team',\n",
       " 'help',\n",
       " 'develop',\n",
       " 'autom',\n",
       " 'review',\n",
       " 'platform',\n",
       " 'tool',\n",
       " 'scratch',\n",
       " 'assist',\n",
       " 'e',\n",
       " 'discoveri',\n",
       " 'domain',\n",
       " 'tool',\n",
       " 'implement',\n",
       " 'predict',\n",
       " 'code',\n",
       " 'topic',\n",
       " 'model',\n",
       " 'autom',\n",
       " 'review',\n",
       " 'result',\n",
       " 'reduc',\n",
       " 'labor',\n",
       " 'cost',\n",
       " 'time',\n",
       " 'spent',\n",
       " 'lawyer',\n",
       " 'review',\n",
       " 'understand',\n",
       " 'end',\n",
       " 'end',\n",
       " 'flow',\n",
       " 'solut',\n",
       " 'research',\n",
       " 'develop',\n",
       " 'classif',\n",
       " 'model',\n",
       " 'predict',\n",
       " 'analysi',\n",
       " 'mine',\n",
       " 'inform',\n",
       " 'present',\n",
       " 'text',\n",
       " 'data',\n",
       " 'work',\n",
       " 'analyz',\n",
       " 'output',\n",
       " 'precis',\n",
       " 'monitor',\n",
       " 'entir',\n",
       " 'tool',\n",
       " 'tar',\n",
       " 'assist',\n",
       " 'predict',\n",
       " 'code',\n",
       " 'topic',\n",
       " 'model',\n",
       " 'evid',\n",
       " 'follow',\n",
       " 'ey',\n",
       " 'standard',\n",
       " 'develop',\n",
       " 'classifi',\n",
       " 'model',\n",
       " 'order',\n",
       " 'identifi',\n",
       " 'red',\n",
       " 'flag',\n",
       " 'fraud',\n",
       " 'relat',\n",
       " 'issu',\n",
       " 'tool',\n",
       " 'technolog',\n",
       " 'python',\n",
       " 'scikit',\n",
       " 'learn',\n",
       " 'tfidf',\n",
       " 'word',\n",
       " 'vec',\n",
       " 'doc',\n",
       " 'vec',\n",
       " 'cosin',\n",
       " 'similar',\n",
       " 'nave',\n",
       " 'bay',\n",
       " 'lda',\n",
       " 'nmf',\n",
       " 'topic',\n",
       " 'model',\n",
       " 'vader',\n",
       " 'text',\n",
       " 'blob',\n",
       " 'sentiment',\n",
       " 'analysi',\n",
       " 'matplot',\n",
       " 'lib',\n",
       " 'tableau',\n",
       " 'dashboard',\n",
       " 'report',\n",
       " 'multipl',\n",
       " 'data',\n",
       " 'scienc',\n",
       " 'analyt',\n",
       " 'project',\n",
       " 'usa',\n",
       " 'client',\n",
       " 'text',\n",
       " 'analyt',\n",
       " 'motor',\n",
       " 'vehicl',\n",
       " 'custom',\n",
       " 'review',\n",
       " 'data',\n",
       " 'receiv',\n",
       " 'custom',\n",
       " 'feedback',\n",
       " 'survey',\n",
       " 'data',\n",
       " 'past',\n",
       " 'one',\n",
       " 'year',\n",
       " 'perform',\n",
       " 'sentiment',\n",
       " 'posit',\n",
       " 'neg',\n",
       " 'neutral',\n",
       " 'time',\n",
       " 'seri',\n",
       " 'analysi',\n",
       " 'custom',\n",
       " 'comment',\n",
       " 'across',\n",
       " 'categori',\n",
       " 'creat',\n",
       " 'heat',\n",
       " 'map',\n",
       " 'term',\n",
       " 'survey',\n",
       " 'categori',\n",
       " 'base',\n",
       " 'frequenc',\n",
       " 'word',\n",
       " 'extract',\n",
       " 'posit',\n",
       " 'neg',\n",
       " 'word',\n",
       " 'across',\n",
       " 'survey',\n",
       " 'categori',\n",
       " 'plot',\n",
       " 'word',\n",
       " 'cloud',\n",
       " 'creat',\n",
       " 'custom',\n",
       " 'tableau',\n",
       " 'dashboard',\n",
       " 'effect',\n",
       " 'report',\n",
       " 'visual',\n",
       " 'chatbot',\n",
       " 'develop',\n",
       " 'user',\n",
       " 'friendli',\n",
       " 'chatbot',\n",
       " 'one',\n",
       " 'product',\n",
       " 'handl',\n",
       " 'simpl',\n",
       " 'question',\n",
       " 'hour',\n",
       " 'oper',\n",
       " 'reserv',\n",
       " 'option',\n",
       " 'chat',\n",
       " 'bot',\n",
       " 'serv',\n",
       " 'entir',\n",
       " 'product',\n",
       " 'relat',\n",
       " 'question',\n",
       " 'give',\n",
       " 'overview',\n",
       " 'tool',\n",
       " 'via',\n",
       " 'qa',\n",
       " 'platform',\n",
       " 'also',\n",
       " 'give',\n",
       " 'recommend',\n",
       " 'respons',\n",
       " 'user',\n",
       " 'question',\n",
       " 'build',\n",
       " 'chain',\n",
       " 'relev',\n",
       " 'answer',\n",
       " 'intellig',\n",
       " 'build',\n",
       " 'pipelin',\n",
       " 'question',\n",
       " 'per',\n",
       " 'user',\n",
       " 'requir',\n",
       " 'ask',\n",
       " 'relev',\n",
       " 'recommend',\n",
       " 'question',\n",
       " 'tool',\n",
       " 'technolog',\n",
       " 'python',\n",
       " 'natur',\n",
       " 'languag',\n",
       " 'process',\n",
       " 'nltk',\n",
       " 'spaci',\n",
       " 'topic',\n",
       " 'model',\n",
       " 'sentiment',\n",
       " 'analysi',\n",
       " 'word',\n",
       " 'embed',\n",
       " 'scikit',\n",
       " 'learn',\n",
       " 'javascript',\n",
       " 'jqueri',\n",
       " 'sqlserver',\n",
       " 'inform',\n",
       " 'govern',\n",
       " 'organ',\n",
       " 'make',\n",
       " 'inform',\n",
       " 'decis',\n",
       " 'inform',\n",
       " 'store',\n",
       " 'integr',\n",
       " 'inform',\n",
       " 'govern',\n",
       " 'portfolio',\n",
       " 'synthes',\n",
       " 'intellig',\n",
       " 'across',\n",
       " 'unstructur',\n",
       " 'data',\n",
       " 'sourc',\n",
       " 'facilit',\n",
       " 'action',\n",
       " 'ensur',\n",
       " 'organ',\n",
       " 'best',\n",
       " 'posit',\n",
       " 'counter',\n",
       " 'inform',\n",
       " 'risk',\n",
       " 'scan',\n",
       " 'data',\n",
       " 'multipl',\n",
       " 'sourc',\n",
       " 'format',\n",
       " 'pars',\n",
       " 'differ',\n",
       " 'file',\n",
       " 'format',\n",
       " 'extract',\n",
       " 'meta',\n",
       " 'data',\n",
       " 'inform',\n",
       " 'push',\n",
       " 'result',\n",
       " 'index',\n",
       " 'elast',\n",
       " 'search',\n",
       " 'creat',\n",
       " 'custom',\n",
       " 'interact',\n",
       " 'dashboard',\n",
       " 'use',\n",
       " 'kibana',\n",
       " 'preform',\n",
       " 'rot',\n",
       " 'analysi',\n",
       " 'data',\n",
       " 'give',\n",
       " 'inform',\n",
       " 'data',\n",
       " 'help',\n",
       " 'identifi',\n",
       " 'content',\n",
       " 'either',\n",
       " 'redund',\n",
       " 'outdat',\n",
       " 'trivial',\n",
       " 'preform',\n",
       " 'full',\n",
       " 'text',\n",
       " 'search',\n",
       " 'analysi',\n",
       " 'elast',\n",
       " 'search',\n",
       " 'predefin',\n",
       " 'method',\n",
       " 'tag',\n",
       " 'pii',\n",
       " 'person',\n",
       " 'identifi',\n",
       " 'inform',\n",
       " 'social',\n",
       " 'secur',\n",
       " 'number',\n",
       " 'address',\n",
       " 'name',\n",
       " 'etc',\n",
       " 'frequent',\n",
       " 'target',\n",
       " 'cyber',\n",
       " 'attack',\n",
       " 'tool',\n",
       " 'technolog',\n",
       " 'python',\n",
       " 'flask',\n",
       " 'elast',\n",
       " 'search',\n",
       " 'kibana',\n",
       " 'fraud',\n",
       " 'analyt',\n",
       " 'platform',\n",
       " 'fraud',\n",
       " 'analyt',\n",
       " 'investig',\n",
       " 'platform',\n",
       " 'review',\n",
       " 'red',\n",
       " 'flag',\n",
       " 'case',\n",
       " 'fap',\n",
       " 'fraud',\n",
       " 'analyt',\n",
       " 'investig',\n",
       " 'platform',\n",
       " 'inbuilt',\n",
       " 'case',\n",
       " 'manag',\n",
       " 'suit',\n",
       " 'analyt',\n",
       " 'variou',\n",
       " 'erp',\n",
       " 'system',\n",
       " 'use',\n",
       " 'client',\n",
       " 'interrog',\n",
       " 'account',\n",
       " 'system',\n",
       " 'identifi',\n",
       " 'anomali',\n",
       " 'indic',\n",
       " 'fraud',\n",
       " 'run',\n",
       " 'advanc',\n",
       " 'analyt',\n",
       " 'tool',\n",
       " 'technolog',\n",
       " 'html',\n",
       " 'javascript',\n",
       " 'sqlserver',\n",
       " 'jqueri',\n",
       " 'css',\n",
       " 'bootstrap',\n",
       " 'node',\n",
       " 'js',\n",
       " 'js',\n",
       " 'dc',\n",
       " 'js']"
      ]
     },
     "execution_count": 15,
     "metadata": {},
     "output_type": "execute_result"
    }
   ],
   "source": [
    "# We can see that the text is stemmed and stopwords are removed\n",
    "\n",
    "resume_text[0]"
   ]
  },
  {
   "cell_type": "markdown",
   "id": "74585e64",
   "metadata": {},
   "source": [
    "### Now let us load the job offers dataset"
   ]
  },
  {
   "cell_type": "code",
   "execution_count": 16,
   "id": "96ebfa9d",
   "metadata": {},
   "outputs": [
    {
     "name": "stdout",
     "output_type": "stream",
     "text": [
      "                                             jobpost          date  \\\n",
      "0  AMERIA Investment Consulting Company\\r\\nJOB TI...   Jan 5, 2004   \n",
      "1  International Research & Exchanges Board (IREX...   Jan 7, 2004   \n",
      "2  Caucasus Environmental NGO Network (CENN)\\r\\nJ...   Jan 7, 2004   \n",
      "3  Manoff Group\\r\\nJOB TITLE:  BCC Specialist\\r\\n...   Jan 7, 2004   \n",
      "4  Yerevan Brandy Company\\r\\nJOB TITLE:  Software...  Jan 10, 2004   \n",
      "\n",
      "                                               Title  \\\n",
      "0                            Chief Financial Officer   \n",
      "1  Full-time Community Connections Intern (paid i...   \n",
      "2                                Country Coordinator   \n",
      "3                                     BCC Specialist   \n",
      "4                                 Software Developer   \n",
      "\n",
      "                                           Company AnnouncementCode Term  \\\n",
      "0             AMERIA Investment Consulting Company              NaN  NaN   \n",
      "1  International Research & Exchanges Board (IREX)              NaN  NaN   \n",
      "2        Caucasus Environmental NGO Network (CENN)              NaN  NaN   \n",
      "3                                     Manoff Group              NaN  NaN   \n",
      "4                           Yerevan Brandy Company              NaN  NaN   \n",
      "\n",
      "  Eligibility Audience StartDate                               Duration  ...  \\\n",
      "0         NaN      NaN       NaN                                    NaN  ...   \n",
      "1         NaN      NaN       NaN                               3 months  ...   \n",
      "2         NaN      NaN       NaN  Renewable annual contract\\r\\nPOSITION  ...   \n",
      "3         NaN      NaN       NaN                                    NaN  ...   \n",
      "4         NaN      NaN       NaN                                    NaN  ...   \n",
      "\n",
      "  Salary                                       ApplicationP OpeningDate  \\\n",
      "0    NaN  To apply for this position, please submit a\\r\\...         NaN   \n",
      "1    NaN  Please submit a cover letter and resume to:\\r\\...         NaN   \n",
      "2    NaN  Please send resume or CV toursula.kazarian@......         NaN   \n",
      "3    NaN  Please send cover letter and resume to Amy\\r\\n...         NaN   \n",
      "4    NaN  Successful candidates should submit\\r\\n- CV; \\...         NaN   \n",
      "\n",
      "                                        Deadline Notes  \\\n",
      "0                                26 January 2004   NaN   \n",
      "1                                12 January 2004   NaN   \n",
      "2  20 January 2004\\r\\nSTART DATE:  February 2004   NaN   \n",
      "3      23 January 2004\\r\\nSTART DATE:  Immediate   NaN   \n",
      "4                         20 January 2004, 18:00   NaN   \n",
      "\n",
      "                                              AboutC Attach  Year Month     IT  \n",
      "0                                                NaN    NaN  2004     1  False  \n",
      "1  The International Research & Exchanges Board (...    NaN  2004     1  False  \n",
      "2  The Caucasus Environmental NGO Network is a\\r\\...    NaN  2004     1  False  \n",
      "3                                                NaN    NaN  2004     1  False  \n",
      "4                                                NaN    NaN  2004     1   True  \n",
      "\n",
      "[5 rows x 24 columns]\n"
     ]
    }
   ],
   "source": [
    "df_job = pd.read_csv('.../data job posts.csv', encoding='utf-8')\n",
    "print(df_job.head())"
   ]
  },
  {
   "cell_type": "code",
   "execution_count": 17,
   "id": "878cf807",
   "metadata": {},
   "outputs": [
    {
     "name": "stdout",
     "output_type": "stream",
     "text": [
      "Index(['jobpost', 'date', 'Title', 'Company', 'AnnouncementCode', 'Term',\n",
      "       'Eligibility', 'Audience', 'StartDate', 'Duration', 'Location',\n",
      "       'JobDescription', 'JobRequirment', 'RequiredQual', 'Salary',\n",
      "       'ApplicationP', 'OpeningDate', 'Deadline', 'Notes', 'AboutC', 'Attach',\n",
      "       'Year', 'Month', 'IT'],\n",
      "      dtype='object')\n",
      "(19001, 24)\n"
     ]
    }
   ],
   "source": [
    "print(df_job.columns)\n",
    "print(df_job.shape)"
   ]
  },
  {
   "cell_type": "markdown",
   "id": "37c5e6cb",
   "metadata": {},
   "source": [
    "#### Delete columns that have a lot of Na`s"
   ]
  },
  {
   "cell_type": "code",
   "execution_count": 18,
   "id": "e99b9d0f",
   "metadata": {},
   "outputs": [],
   "source": [
    "df_job = df_job.drop(\"date\", axis=1)\n",
    "df_job['AnnouncementCode']\n",
    "df_job = df_job.drop(\"AnnouncementCode\", axis=1)\n",
    "df_job['Term']\n",
    "df_job = df_job.drop(\"Term\", axis=1)\n",
    "df_job['Eligibility']\n",
    "df_job = df_job.drop(\"Eligibility\", axis=1)\n",
    "df_job['Audience']\n",
    "df_job = df_job.drop(\"Audience\", axis=1)\n",
    "df_job['Duration']\n",
    "df_job = df_job.drop(\"Duration\", axis=1)\n",
    "df_job = df_job.drop(\"StartDate\", axis=1)\n",
    "df_job = df_job.drop(\"OpeningDate\", axis=1)\n",
    "df_job = df_job.drop(\"Deadline\", axis=1)\n",
    "df_job['Notes']\n",
    "df_job = df_job.drop(\"Notes\", axis=1)\n",
    "df_job['ApplicationP']\n",
    "df_job = df_job.drop(\"ApplicationP\", axis=1)\n",
    "df_job['AboutC']\n",
    "df_job = df_job.drop(\"AboutC\", axis=1)\n",
    "df_job['Attach']\n",
    "df_job = df_job.drop(\"Attach\", axis=1)\n",
    "df_job['Location']\n",
    "df_job = df_job.drop(\"Location\", axis=1)\n",
    "df_job = df_job.drop(\"Year\", axis=1)\n",
    "df_job = df_job.drop(\"Month\", axis=1)\n",
    "df_job['Salary']\n",
    "df_job = df_job.drop(\"Salary\", axis=1)"
   ]
  },
  {
   "cell_type": "code",
   "execution_count": 19,
   "id": "81c962d5",
   "metadata": {},
   "outputs": [
    {
     "name": "stdout",
     "output_type": "stream",
     "text": [
      "Index(['jobpost', 'Title', 'Company', 'JobDescription', 'JobRequirment',\n",
      "       'RequiredQual', 'IT', 'length'],\n",
      "      dtype='object')\n"
     ]
    }
   ],
   "source": [
    "## Add variable - length of the text\n",
    "\n",
    "df_job['length']=df_job['jobpost'].apply(len)\n",
    "df_job.head()\n",
    "\n",
    "print(df_job.columns)"
   ]
  },
  {
   "cell_type": "markdown",
   "id": "e3e3b147",
   "metadata": {},
   "source": [
    "Take a look at text column example. We can see that it is not cleaned at all. We will need to perfom some cleaning of jobpost text"
   ]
  },
  {
   "cell_type": "code",
   "execution_count": 20,
   "id": "7ba60d26",
   "metadata": {},
   "outputs": [
    {
     "data": {
      "text/plain": [
       "\"International Research & Exchanges Board (IREX)\\r\\nTITLE:   Full-time Community Connections Intern (paid internship)\\r\\nDURATION:  3 months\\r\\nLOCATION:  IREX Armenia Main Office; Yerevan, Armenia \\r\\nDESCRIPTION:   IREX currently seeks to fill the position of a paid\\r\\nIntern for the Community Connections (CC) Program. The position is based\\r\\nin the Yerevan office however applicants must be willing to travel\\r\\nthroughout Armenia as necessary.  This position reports directly to the\\r\\nCC Program Manager.\\r\\nRESPONSIBILITIES:  \\r\\n- Presenting the CC program to interested parties; \\r\\n- Assisting in planning and scheduling of programmatic meetings and\\r\\nevents (this includes coordinating logistics for CC staff, visitors and\\r\\nparticipants);\\r\\n- Assisting the Program Staff;\\r\\n- Translation/Interpretation from Armenian to English and vice versa;\\r\\n- Helping create, maintain and update the CC filing system and\\r\\ndatabases;\\r\\n- Completing general administrative tasks for the CC program within the\\r\\noffice;\\r\\n- Other duties as assigned/ needed.\\r\\nREQUIRED QUALIFICATIONS:  \\r\\n- Bachelor's Degree; Master's is preferred;\\r\\n- Excellent skills in spoken and written English and Armenian languages;\\r\\n- Past English to Armenian translation and Armenian to English\\r\\ntranslation experience;\\r\\n- Good communication and public speaking skills;\\r\\n- Ability to work independently and as part of a team.\\r\\nREMUNERATION:  Commensurate with experience.\\r\\nAPPLICATION PROCEDURES:   Please submit a cover letter and resume to:\\r\\nIREX Yerevan office, Attn: Community Connections Program; 50 Khanjian\\r\\nStr, Tekeyan Center, 2nd floor, Yerevan 375010, Armenia. E-mail:cc@.... \\r\\nPlease clearly mention in your application letter that you learned of\\r\\nthis opportunity through Career Center and mention the URL of its\\r\\nwebsite - www.careercenter.am, Thanks.\\r\\nAPPLICATION DEADLINE:   12 January 2004\\r\\nABOUT COMPANY:   The International Research & Exchanges Board (IREX) is\\r\\na US-Based private, non-profit organization. The IREX Armenia Yerevan\\r\\noffice was established in 1992 and is a place in Armenia where\\r\\ninterested individuals can obtain up-to-date information on study,\\r\\nresearch, and professional internship opportunities in the Unites\\r\\nStates.\\r\\nIREX Yerevan collaborates with national government branches, local and\\r\\ninternational NGOs and institutions of higher education in the promotion\\r\\nof IREX- administered research and professional programs. The goal of\\r\\nthese programs is to make American academic and professional experiences\\r\\navailable to qualified individuals.\\r\\n----------------------------------\\r\\nTo place a free posting for job or other career related opportunities in\\r\\nyour organization at careercenter.am website, e-mail us atmailbox@...\""
      ]
     },
     "execution_count": 20,
     "metadata": {},
     "output_type": "execute_result"
    }
   ],
   "source": [
    "df_job['jobpost'][1]"
   ]
  },
  {
   "cell_type": "markdown",
   "id": "ce07ad36",
   "metadata": {},
   "source": [
    "#### Data cleaning"
   ]
  },
  {
   "cell_type": "code",
   "execution_count": 21,
   "id": "a6036cac",
   "metadata": {},
   "outputs": [],
   "source": [
    "df_job['jobpost'] = df_job['jobpost'].map(lambda x: re.sub(\"[\\!?/:;''()``’“-”—#_-]\", ' ', x))\n",
    "df_job['jobpost'] = df_job['jobpost'].map(lambda x: re.sub(',', ' ', x))\n",
    "df_job['jobpost'] = df_job['jobpost'].map(lambda x: re.sub(r'[0-9]+', ' ', x))\n",
    "df_job['jobpost'] = df_job['jobpost'].map(lambda x: re.sub('%', ' ', x))\n",
    "df_job['jobpost'] = df_job['jobpost'].map(lambda x: re.sub(':', ' ', x))\n",
    "df_job['jobpost'] = df_job['jobpost'].map(lambda x: re.sub('&', 'and', x))\n",
    "df_job['jobpost'] = df_job['jobpost'].map(lambda x: re.sub('\"', ' ', x))\n",
    "df_job['jobpost'] = df_job['jobpost'].map(lambda x: re.sub('\\'', ' ', x))\n",
    "df_job['jobpost'] = df_job['jobpost'].map(lambda x: re.sub('\\|', ' ', x))\n",
    "df_job['jobpost'] = df_job['jobpost'].map(lambda x: re.sub('\\+', ' ', x))\n",
    "df_job['jobpost'] = df_job['jobpost'].map(lambda x: re.sub('\\$', 'dollar', x))\n",
    "df_job['jobpost'] = df_job['jobpost'].map(lambda x: re.sub('\\n', ' ', x))\n",
    "df_job['jobpost'] = df_job['jobpost'].map(lambda x: re.sub('\\xa0', ' ', x))\n",
    "df_job['jobpost'] = df_job['jobpost'].map(lambda x: re.sub('－', ' ', x))\n",
    "df_job['jobpost'] = df_job['jobpost'].map(lambda x: re.sub('@', ' ', x))\n",
    "df_job['jobpost'] = df_job['jobpost'].map(lambda x: re.sub('-', ' ', x))\n",
    "df_job['jobpost'] = df_job['jobpost'].map(lambda x: re.sub('·', ' ', x))\n",
    "df_job['jobpost'] = df_job['jobpost'].map(lambda x: re.sub('\\.', ' ', x))\n",
    "df_job['jobpost'] = df_job['jobpost'].map(lambda x: re.sub('\\s+', ' ', x))\n",
    "df_job['jobpost'] = df_job['jobpost'].map(lambda x: x.lower())\n",
    "\n",
    "df_job['jobpost'] = df_job['jobpost'].map(lambda x: remove_non_ascii(x))"
   ]
  },
  {
   "cell_type": "markdown",
   "id": "c280443f",
   "metadata": {},
   "source": [
    "Let`s see how the data looks like after cleaning"
   ]
  },
  {
   "cell_type": "code",
   "execution_count": 22,
   "id": "c06024ab",
   "metadata": {},
   "outputs": [
    {
     "data": {
      "text/plain": [
       "'international research and exchanges board irex title full time community connections intern paid internship duration months location irex armenia main office yerevan armenia description irex currently seeks to fill the position of a paid intern for the community connections cc program the position is based in the yerevan office however applicants must be willing to travel throughout armenia as necessary this position reports directly to the cc program manager responsibilities presenting the cc program to interested parties assisting in planning and scheduling of programmatic meetings and events this includes coordinating logistics for cc staff visitors and participants assisting the program staff translation interpretation from armenian to english and vice versa helping create maintain and update the cc filing system and databases completing general administrative tasks for the cc program within the office other duties as assigned needed required qualifications bachelor s degree master s is preferred excellent skills in spoken and written english and armenian languages past english to armenian translation and armenian to english translation experience good communication and public speaking skills ability to work independently and as part of a team remuneration commensurate with experience application procedures please submit a cover letter and resume to irex yerevan office attn community connections program khanjian str tekeyan center nd floor yerevan armenia e mail cc please clearly mention in your application letter that you learned of this opportunity through career center and mention the url of its website www careercenter am thanks application deadline january about company the international research and exchanges board irex is a us based private non profit organization the irex armenia yerevan office was established in and is a place in armenia where interested individuals can obtain up to date information on study research and professional internship opportunities in the unites states irex yerevan collaborates with national government branches local and international ngos and institutions of higher education in the promotion of irex administered research and professional programs the goal of these programs is to make american academic and professional experiences available to qualified individuals to place a free posting for job or other career related opportunities in your organization at careercenter am website e mail us atmailbox '"
      ]
     },
     "execution_count": 22,
     "metadata": {},
     "output_type": "execute_result"
    }
   ],
   "source": [
    "df_job['jobpost'][1]"
   ]
  },
  {
   "cell_type": "markdown",
   "id": "09e6a240",
   "metadata": {},
   "source": [
    "#### Now let us stem words and delete stopwords"
   ]
  },
  {
   "cell_type": "code",
   "execution_count": 23,
   "id": "ebd4774f",
   "metadata": {},
   "outputs": [],
   "source": [
    "job_text = df_job['jobpost'].apply(lambda x: x.split())\n",
    "\n",
    "ps = PorterStemmer()\n",
    "\n",
    "for i in range(0,len(job_text)):\n",
    "    words = []\n",
    "    for word in job_text[i]:\n",
    "        words.append(ps.stem(word))\n",
    "    job_text[i] = words"
   ]
  },
  {
   "cell_type": "code",
   "execution_count": 24,
   "id": "7b30397b",
   "metadata": {},
   "outputs": [
    {
     "data": {
      "text/plain": [
       "['ameria',\n",
       " 'invest',\n",
       " 'consult',\n",
       " 'compani',\n",
       " 'job',\n",
       " 'titl',\n",
       " 'chief',\n",
       " 'financi',\n",
       " 'offic',\n",
       " 'posit',\n",
       " 'locat',\n",
       " 'yerevan',\n",
       " 'armenia',\n",
       " 'job',\n",
       " 'descript',\n",
       " 'ameria',\n",
       " 'invest',\n",
       " 'consult',\n",
       " 'compani',\n",
       " 'is',\n",
       " 'seek',\n",
       " 'a',\n",
       " 'chief',\n",
       " 'financi',\n",
       " 'offic',\n",
       " 'thi',\n",
       " 'posit',\n",
       " 'manag',\n",
       " 'the',\n",
       " 'compani',\n",
       " 's',\n",
       " 'fiscal',\n",
       " 'and',\n",
       " 'administr',\n",
       " 'function',\n",
       " 'provid',\n",
       " 'highli',\n",
       " 'respons',\n",
       " 'and',\n",
       " 'technic',\n",
       " 'complex',\n",
       " 'staff',\n",
       " 'assist',\n",
       " 'to',\n",
       " 'the',\n",
       " 'execut',\n",
       " 'director',\n",
       " 'the',\n",
       " 'work',\n",
       " 'perform',\n",
       " 'requir',\n",
       " 'a',\n",
       " 'high',\n",
       " 'level',\n",
       " 'of',\n",
       " 'technic',\n",
       " 'profici',\n",
       " 'in',\n",
       " 'financi',\n",
       " 'manag',\n",
       " 'and',\n",
       " 'invest',\n",
       " 'manag',\n",
       " 'as',\n",
       " 'well',\n",
       " 'as',\n",
       " 'manag',\n",
       " 'supervisori',\n",
       " 'and',\n",
       " 'administr',\n",
       " 'skill',\n",
       " 'job',\n",
       " 'respons',\n",
       " 'supervis',\n",
       " 'financi',\n",
       " 'manag',\n",
       " 'and',\n",
       " 'administr',\n",
       " 'staff',\n",
       " 'includ',\n",
       " 'assign',\n",
       " 'respons',\n",
       " 'review',\n",
       " 'employe',\n",
       " 'work',\n",
       " 'process',\n",
       " 'and',\n",
       " 'product',\n",
       " 'counsel',\n",
       " 'employe',\n",
       " 'give',\n",
       " 'perform',\n",
       " 'evalu',\n",
       " 'and',\n",
       " 'recommend',\n",
       " 'disciplinari',\n",
       " 'action',\n",
       " 'serv',\n",
       " 'as',\n",
       " 'member',\n",
       " 'of',\n",
       " 'manag',\n",
       " 'team',\n",
       " 'particip',\n",
       " 'in',\n",
       " 'both',\n",
       " 'strateg',\n",
       " 'and',\n",
       " 'oper',\n",
       " 'plan',\n",
       " 'for',\n",
       " 'the',\n",
       " 'compani',\n",
       " 'direct',\n",
       " 'and',\n",
       " 'overse',\n",
       " 'the',\n",
       " 'compani',\n",
       " 's',\n",
       " 'financi',\n",
       " 'manag',\n",
       " 'activ',\n",
       " 'includ',\n",
       " 'establish',\n",
       " 'and',\n",
       " 'monitor',\n",
       " 'intern',\n",
       " 'control',\n",
       " 'manag',\n",
       " 'cash',\n",
       " 'and',\n",
       " 'invest',\n",
       " 'and',\n",
       " 'manag',\n",
       " 'the',\n",
       " 'invest',\n",
       " 'portfolio',\n",
       " 'in',\n",
       " 'collabor',\n",
       " 'with',\n",
       " 'the',\n",
       " 'invest',\n",
       " 'team',\n",
       " 'leader',\n",
       " 'thi',\n",
       " 'includ',\n",
       " 'but',\n",
       " 'is',\n",
       " 'not',\n",
       " 'limit',\n",
       " 'to',\n",
       " 'evalu',\n",
       " 'of',\n",
       " 'invest',\n",
       " 'risk',\n",
       " 'concentr',\n",
       " 'risk',\n",
       " 'fund',\n",
       " 'deploy',\n",
       " 'level',\n",
       " 'adequaci',\n",
       " 'of',\n",
       " 'loss',\n",
       " 'and',\n",
       " 'liquid',\n",
       " 'reserv',\n",
       " 'assist',\n",
       " 'invest',\n",
       " 'team',\n",
       " 'in',\n",
       " 'develop',\n",
       " 'of',\n",
       " 'proper',\n",
       " 'document',\n",
       " 'and',\n",
       " 'intern',\n",
       " 'system',\n",
       " 'direct',\n",
       " 'and',\n",
       " 'overse',\n",
       " 'the',\n",
       " 'annual',\n",
       " 'budget',\n",
       " 'process',\n",
       " 'includ',\n",
       " 'develop',\n",
       " 'project',\n",
       " 'for',\n",
       " 'financi',\n",
       " 'plan',\n",
       " 'and',\n",
       " 'prepar',\n",
       " 'budget',\n",
       " 'prepar',\n",
       " 'extern',\n",
       " 'and',\n",
       " 'intern',\n",
       " 'financi',\n",
       " 'manag',\n",
       " 'report',\n",
       " 'such',\n",
       " 'as',\n",
       " 'audit',\n",
       " 'financi',\n",
       " 'statement',\n",
       " 'tax',\n",
       " 'return',\n",
       " 'and',\n",
       " 'report',\n",
       " 'for',\n",
       " 'the',\n",
       " 'board',\n",
       " 'of',\n",
       " 'director',\n",
       " 'and',\n",
       " 'compani',\n",
       " 'staff',\n",
       " 'develop',\n",
       " 'implement',\n",
       " 'and',\n",
       " 'maintain',\n",
       " 'effici',\n",
       " 'and',\n",
       " 'effect',\n",
       " 'account',\n",
       " 'system',\n",
       " 'and',\n",
       " 'control',\n",
       " 'to',\n",
       " 'ensur',\n",
       " 'complianc',\n",
       " 'with',\n",
       " 'nation',\n",
       " 'and',\n",
       " 'intern',\n",
       " 'account',\n",
       " 'standard',\n",
       " 'and',\n",
       " 'principl',\n",
       " 'suffici',\n",
       " 'of',\n",
       " 'fund',\n",
       " 'account',\n",
       " 'and',\n",
       " 'comprehens',\n",
       " 'of',\n",
       " 'data',\n",
       " 'for',\n",
       " 'report',\n",
       " 'and',\n",
       " 'complianc',\n",
       " 'requir',\n",
       " 'ensur',\n",
       " 'contract',\n",
       " 'complianc',\n",
       " 'includ',\n",
       " 'interpret',\n",
       " 'and',\n",
       " 'monitor',\n",
       " 'contract',\n",
       " 'with',\n",
       " 'client',\n",
       " 'submit',\n",
       " 'requir',\n",
       " 'report',\n",
       " 'and',\n",
       " 'monitor',\n",
       " 'coven',\n",
       " 'and',\n",
       " 'other',\n",
       " 'contract',\n",
       " 'term',\n",
       " 'overse',\n",
       " 'the',\n",
       " 'design',\n",
       " 'implement',\n",
       " 'and',\n",
       " 'mainten',\n",
       " 'of',\n",
       " 'comput',\n",
       " 'base',\n",
       " 'inform',\n",
       " 'system',\n",
       " 'overse',\n",
       " 'record',\n",
       " 'retent',\n",
       " 'both',\n",
       " 'manual',\n",
       " 'and',\n",
       " 'comput',\n",
       " 'base',\n",
       " 'and',\n",
       " 'file',\n",
       " 'mainten',\n",
       " 'activ',\n",
       " 'serv',\n",
       " 'as',\n",
       " 'compani',\n",
       " 's',\n",
       " 'risk',\n",
       " 'manag',\n",
       " 'includ',\n",
       " 'evalu',\n",
       " 'loss',\n",
       " 'exposur',\n",
       " 'and',\n",
       " 'obtain',\n",
       " 'insur',\n",
       " 'as',\n",
       " 'appropri',\n",
       " 'manag',\n",
       " 'other',\n",
       " 'administr',\n",
       " 'oper',\n",
       " 'such',\n",
       " 'as',\n",
       " 'facil',\n",
       " 'manag',\n",
       " 'payrol',\n",
       " 'administr',\n",
       " 'offic',\n",
       " 'oper',\n",
       " 'and',\n",
       " 'administr',\n",
       " 'support',\n",
       " 'monitor',\n",
       " 'corpor',\n",
       " 'complianc',\n",
       " 'with',\n",
       " 'by',\n",
       " 'law',\n",
       " 'and',\n",
       " 'articl',\n",
       " 'of',\n",
       " 'incorpor',\n",
       " 'regard',\n",
       " 'corpor',\n",
       " 'registr',\n",
       " 'and',\n",
       " 'report',\n",
       " 'of',\n",
       " 'fundrais',\n",
       " 'oper',\n",
       " 'requir',\n",
       " 'qualif',\n",
       " 'to',\n",
       " 'perform',\n",
       " 'thi',\n",
       " 'job',\n",
       " 'success',\n",
       " 'an',\n",
       " 'individu',\n",
       " 'must',\n",
       " 'be',\n",
       " 'abl',\n",
       " 'to',\n",
       " 'perform',\n",
       " 'each',\n",
       " 'essenti',\n",
       " 'duti',\n",
       " 'satisfactorili',\n",
       " 'the',\n",
       " 'requir',\n",
       " 'list',\n",
       " 'below',\n",
       " 'are',\n",
       " 'repres',\n",
       " 'of',\n",
       " 'the',\n",
       " 'knowledg',\n",
       " 'skill',\n",
       " 'and',\n",
       " 'or',\n",
       " 'abil',\n",
       " 'requir',\n",
       " 'knowledg',\n",
       " 'of',\n",
       " 'gener',\n",
       " 'accept',\n",
       " 'account',\n",
       " 'principl',\n",
       " 'local',\n",
       " 'account',\n",
       " 'standard',\n",
       " 'and',\n",
       " 'legisl',\n",
       " 'state',\n",
       " 'report',\n",
       " 'requir',\n",
       " 'pertain',\n",
       " 'to',\n",
       " 'account',\n",
       " 'principl',\n",
       " 'and',\n",
       " 'practic',\n",
       " 'of',\n",
       " 'financi',\n",
       " 'manag',\n",
       " 'and',\n",
       " 'budget',\n",
       " 'principl',\n",
       " 'and',\n",
       " 'practic',\n",
       " 'of',\n",
       " 'financi',\n",
       " 'system',\n",
       " 'design',\n",
       " 'and',\n",
       " 'analysi',\n",
       " 'principl',\n",
       " 'and',\n",
       " 'practic',\n",
       " 'of',\n",
       " 'contract',\n",
       " 'manag',\n",
       " 'record',\n",
       " 'manag',\n",
       " 'and',\n",
       " 'risk',\n",
       " 'manag',\n",
       " 'principl',\n",
       " 'and',\n",
       " 'practic',\n",
       " 'of',\n",
       " 'manag',\n",
       " 'and',\n",
       " 'supervis',\n",
       " 'principl',\n",
       " 'and',\n",
       " 'practic',\n",
       " 'of',\n",
       " 'inform',\n",
       " 'system',\n",
       " 'manag',\n",
       " 'abil',\n",
       " 'to',\n",
       " 'appli',\n",
       " 'sound',\n",
       " 'fiscal',\n",
       " 'and',\n",
       " 'administr',\n",
       " 'practic',\n",
       " 'to',\n",
       " 'the',\n",
       " 'compani',\n",
       " 's',\n",
       " 'activ',\n",
       " 'plan',\n",
       " 'organ',\n",
       " 'and',\n",
       " 'supervis',\n",
       " 'the',\n",
       " 'work',\n",
       " 'of',\n",
       " 'subordin',\n",
       " 'employe',\n",
       " 'includ',\n",
       " 'train',\n",
       " 'them',\n",
       " 'assign',\n",
       " 'and',\n",
       " 'evalu',\n",
       " 'their',\n",
       " 'work',\n",
       " 'and',\n",
       " 'provid',\n",
       " 'job',\n",
       " 'perform',\n",
       " 'feedback',\n",
       " 'critic',\n",
       " 'analyz',\n",
       " 'fiscal',\n",
       " 'and',\n",
       " 'administr',\n",
       " 'polici',\n",
       " 'practic',\n",
       " 'procedur',\n",
       " 'and',\n",
       " 'system',\n",
       " 'and',\n",
       " 'recommend',\n",
       " 'and',\n",
       " 'implement',\n",
       " 'chang',\n",
       " 'as',\n",
       " 'need',\n",
       " 'gather',\n",
       " 'and',\n",
       " 'synthes',\n",
       " 'financi',\n",
       " 'inform',\n",
       " 'from',\n",
       " 'a',\n",
       " 'varieti',\n",
       " 'of',\n",
       " 'sourc',\n",
       " 'and',\n",
       " 'present',\n",
       " 'it',\n",
       " 'to',\n",
       " 'a',\n",
       " 'varieti',\n",
       " 'of',\n",
       " 'audienc',\n",
       " 'with',\n",
       " 'differ',\n",
       " 'financi',\n",
       " 'manag',\n",
       " 'and',\n",
       " 'analysi',\n",
       " 'expertis',\n",
       " 'prepar',\n",
       " 'detail',\n",
       " 'comprehens',\n",
       " 'financi',\n",
       " 'report',\n",
       " 'includ',\n",
       " 'explanatori',\n",
       " 'text',\n",
       " 'oper',\n",
       " 'ibm',\n",
       " 'compat',\n",
       " 'person',\n",
       " 'comput',\n",
       " 'includ',\n",
       " 'word',\n",
       " 'process',\n",
       " 'spreadsheet',\n",
       " 'and',\n",
       " 'databas',\n",
       " 'softwar',\n",
       " 'applic',\n",
       " 'oper',\n",
       " 'special',\n",
       " 'softwar',\n",
       " 'applic',\n",
       " 'that',\n",
       " 'support',\n",
       " 'the',\n",
       " 'financi',\n",
       " 'manag',\n",
       " 'and',\n",
       " 'budget',\n",
       " 'function',\n",
       " 'qualif',\n",
       " 'a',\n",
       " 'minimum',\n",
       " 'of',\n",
       " 'year',\n",
       " 'account',\n",
       " 'corpor',\n",
       " 'financ',\n",
       " 'bank',\n",
       " 'experi',\n",
       " 'includ',\n",
       " 'a',\n",
       " 'role',\n",
       " 'as',\n",
       " 'a',\n",
       " 'cfo',\n",
       " 'excel',\n",
       " 'financ',\n",
       " 'and',\n",
       " 'account',\n",
       " 'technic',\n",
       " 'skill',\n",
       " 'coupl',\n",
       " 'with',\n",
       " 'a',\n",
       " 'demonstr',\n",
       " 'knowledg',\n",
       " 'of',\n",
       " 'all',\n",
       " 'key',\n",
       " 'financi',\n",
       " 'function',\n",
       " 'in',\n",
       " 'an',\n",
       " 'consult',\n",
       " 'compani',\n",
       " 'context',\n",
       " 'account',\n",
       " 'financ',\n",
       " 'control',\n",
       " 'treasuri',\n",
       " 'reserv',\n",
       " 'and',\n",
       " 'report',\n",
       " 'strong',\n",
       " 'financi',\n",
       " 'plan',\n",
       " 'and',\n",
       " 'analyt',\n",
       " 'skill',\n",
       " 'and',\n",
       " 'experi',\n",
       " 'and',\n",
       " 'the',\n",
       " 'abil',\n",
       " 'to',\n",
       " 'work',\n",
       " 'close',\n",
       " 'with',\n",
       " 'and',\n",
       " 'support',\n",
       " 'the',\n",
       " 'ceo',\n",
       " 'and',\n",
       " 'other',\n",
       " 'execut',\n",
       " 'in',\n",
       " 'strateg',\n",
       " 'develop',\n",
       " 'and',\n",
       " 'implement',\n",
       " 'excel',\n",
       " 'leadership',\n",
       " 'manag',\n",
       " 'and',\n",
       " 'supervisori',\n",
       " 'track',\n",
       " 'record',\n",
       " 'of',\n",
       " 'attract',\n",
       " 'select',\n",
       " 'develop',\n",
       " 'reward',\n",
       " 'and',\n",
       " 'retain',\n",
       " 'high',\n",
       " 'calib',\n",
       " 'account',\n",
       " 'and',\n",
       " 'financ',\n",
       " 'execut',\n",
       " 'and',\n",
       " 'team',\n",
       " 'who',\n",
       " 'achiev',\n",
       " 'busi',\n",
       " 'goal',\n",
       " 'an',\n",
       " 'undergradu',\n",
       " 'degre',\n",
       " 'in',\n",
       " 'financ',\n",
       " 'busi',\n",
       " 'or',\n",
       " 'other',\n",
       " 'relat',\n",
       " 'disciplin',\n",
       " 'is',\n",
       " 'requir',\n",
       " 'a',\n",
       " 'cpa',\n",
       " 'cfa',\n",
       " 'acca',\n",
       " 'or',\n",
       " 'other',\n",
       " 'financi',\n",
       " 'certif',\n",
       " 'is',\n",
       " 'highli',\n",
       " 'prefer',\n",
       " 'as',\n",
       " 'is',\n",
       " 'a',\n",
       " 'master',\n",
       " 'degre',\n",
       " 'in',\n",
       " 'busi',\n",
       " 'administr',\n",
       " 'account',\n",
       " 'or',\n",
       " 'financ',\n",
       " 'fluenci',\n",
       " 'in',\n",
       " 'english',\n",
       " 'armenian',\n",
       " 'and',\n",
       " 'russian',\n",
       " 'with',\n",
       " 'outstand',\n",
       " 'write',\n",
       " 'skill',\n",
       " 'excel',\n",
       " 'analyt',\n",
       " 'commun',\n",
       " 'teamwork',\n",
       " 'interperson',\n",
       " 'skill',\n",
       " 'need',\n",
       " 'to',\n",
       " 'be',\n",
       " 'well',\n",
       " 'organ',\n",
       " 'and',\n",
       " 'detail',\n",
       " 'orient',\n",
       " 'as',\n",
       " 'well',\n",
       " 'as',\n",
       " 'goal',\n",
       " 'result',\n",
       " 'driven',\n",
       " 'and',\n",
       " 'abl',\n",
       " 'to',\n",
       " 'deal',\n",
       " 'with',\n",
       " 'complex',\n",
       " 'issu',\n",
       " 'applic',\n",
       " 'procedur',\n",
       " 'to',\n",
       " 'appli',\n",
       " 'for',\n",
       " 'thi',\n",
       " 'posit',\n",
       " 'pleas',\n",
       " 'submit',\n",
       " 'a',\n",
       " 'cover',\n",
       " 'letter',\n",
       " 'and',\n",
       " 'a',\n",
       " 'resum',\n",
       " 'address',\n",
       " 'relev',\n",
       " 'qualif',\n",
       " 'and',\n",
       " 'experi',\n",
       " 'and',\n",
       " 'inform',\n",
       " 'on',\n",
       " 'profession',\n",
       " 'refer',\n",
       " 'strictli',\n",
       " 'to',\n",
       " 'tatevik',\n",
       " 'hovhannisyan',\n",
       " 'execut',\n",
       " 'assist',\n",
       " 'fax',\n",
       " 'or',\n",
       " 'e',\n",
       " 'mail',\n",
       " 'ameria',\n",
       " 'tel',\n",
       " 'onli',\n",
       " 'shortlist',\n",
       " 'candid',\n",
       " 'will',\n",
       " 'be',\n",
       " 'notifi',\n",
       " 'for',\n",
       " 'an',\n",
       " 'interview',\n",
       " 'pleas',\n",
       " 'clearli',\n",
       " 'mention',\n",
       " 'in',\n",
       " 'your',\n",
       " 'applic',\n",
       " 'letter',\n",
       " 'that',\n",
       " 'you',\n",
       " 'learn',\n",
       " 'of',\n",
       " 'thi',\n",
       " 'job',\n",
       " 'opportun',\n",
       " 'through',\n",
       " 'career',\n",
       " 'center',\n",
       " 'and',\n",
       " 'mention',\n",
       " 'the',\n",
       " 'url',\n",
       " 'of',\n",
       " 'it',\n",
       " 'websit',\n",
       " 'www',\n",
       " 'careercent',\n",
       " 'am',\n",
       " 'thank',\n",
       " 'applic',\n",
       " 'deadlin',\n",
       " 'januari',\n",
       " 'to',\n",
       " 'place',\n",
       " 'a',\n",
       " 'free',\n",
       " 'post',\n",
       " 'for',\n",
       " 'job',\n",
       " 'or',\n",
       " 'other',\n",
       " 'career',\n",
       " 'relat',\n",
       " 'opportun',\n",
       " 'in',\n",
       " 'your',\n",
       " 'organ',\n",
       " 'at',\n",
       " 'careercent',\n",
       " 'am',\n",
       " 'websit',\n",
       " 'e',\n",
       " 'mail',\n",
       " 'us',\n",
       " 'atmailbox']"
      ]
     },
     "execution_count": 24,
     "metadata": {},
     "output_type": "execute_result"
    }
   ],
   "source": [
    "job_text[0]"
   ]
  },
  {
   "cell_type": "code",
   "execution_count": 25,
   "id": "14794bcf",
   "metadata": {},
   "outputs": [],
   "source": [
    "stop_words = nltk.corpus.stopwords.words('english')\n",
    "\n",
    "stop_words = pd.Series(stop_words).map(lambda x: re.sub('\\n', '', x))\n",
    "stop_words = stop_words.map(lambda x: re.sub(\"[,\\!?/:;''()``]_\", '', x))\n",
    "stop_words = stop_words.map(lambda x: re.sub(r\"([.]+)\", '', x))\n",
    "\n",
    "## stemming stopwords\n",
    "for i in range(0,len(stop_words)):\n",
    "    stop_words[i] = ps.stem(stop_words[i])\n",
    "\n",
    "stop_words\n",
    "\n",
    "## making stopwords back a list\n",
    "stop_words = list(stop_words)\n",
    "\n",
    "## removing stopwords\n",
    "for i in range(0,len(job_text)):\n",
    "    job_text[i] = [word for word in job_text[i] if not word in list(stop_words)]"
   ]
  },
  {
   "cell_type": "code",
   "execution_count": 26,
   "id": "f569b290",
   "metadata": {},
   "outputs": [
    {
     "data": {
      "text/plain": [
       "['ameria',\n",
       " 'invest',\n",
       " 'consult',\n",
       " 'compani',\n",
       " 'job',\n",
       " 'titl',\n",
       " 'chief',\n",
       " 'financi',\n",
       " 'offic',\n",
       " 'posit',\n",
       " 'locat',\n",
       " 'yerevan',\n",
       " 'armenia',\n",
       " 'job',\n",
       " 'descript',\n",
       " 'ameria',\n",
       " 'invest',\n",
       " 'consult',\n",
       " 'compani',\n",
       " 'seek',\n",
       " 'chief',\n",
       " 'financi',\n",
       " 'offic',\n",
       " 'posit',\n",
       " 'manag',\n",
       " 'compani',\n",
       " 'fiscal',\n",
       " 'administr',\n",
       " 'function',\n",
       " 'provid',\n",
       " 'highli',\n",
       " 'respons',\n",
       " 'technic',\n",
       " 'complex',\n",
       " 'staff',\n",
       " 'assist',\n",
       " 'execut',\n",
       " 'director',\n",
       " 'work',\n",
       " 'perform',\n",
       " 'requir',\n",
       " 'high',\n",
       " 'level',\n",
       " 'technic',\n",
       " 'profici',\n",
       " 'financi',\n",
       " 'manag',\n",
       " 'invest',\n",
       " 'manag',\n",
       " 'well',\n",
       " 'manag',\n",
       " 'supervisori',\n",
       " 'administr',\n",
       " 'skill',\n",
       " 'job',\n",
       " 'respons',\n",
       " 'supervis',\n",
       " 'financi',\n",
       " 'manag',\n",
       " 'administr',\n",
       " 'staff',\n",
       " 'includ',\n",
       " 'assign',\n",
       " 'respons',\n",
       " 'review',\n",
       " 'employe',\n",
       " 'work',\n",
       " 'process',\n",
       " 'product',\n",
       " 'counsel',\n",
       " 'employe',\n",
       " 'give',\n",
       " 'perform',\n",
       " 'evalu',\n",
       " 'recommend',\n",
       " 'disciplinari',\n",
       " 'action',\n",
       " 'serv',\n",
       " 'member',\n",
       " 'manag',\n",
       " 'team',\n",
       " 'particip',\n",
       " 'strateg',\n",
       " 'oper',\n",
       " 'plan',\n",
       " 'compani',\n",
       " 'direct',\n",
       " 'overse',\n",
       " 'compani',\n",
       " 'financi',\n",
       " 'manag',\n",
       " 'activ',\n",
       " 'includ',\n",
       " 'establish',\n",
       " 'monitor',\n",
       " 'intern',\n",
       " 'control',\n",
       " 'manag',\n",
       " 'cash',\n",
       " 'invest',\n",
       " 'manag',\n",
       " 'invest',\n",
       " 'portfolio',\n",
       " 'collabor',\n",
       " 'invest',\n",
       " 'team',\n",
       " 'leader',\n",
       " 'includ',\n",
       " 'limit',\n",
       " 'evalu',\n",
       " 'invest',\n",
       " 'risk',\n",
       " 'concentr',\n",
       " 'risk',\n",
       " 'fund',\n",
       " 'deploy',\n",
       " 'level',\n",
       " 'adequaci',\n",
       " 'loss',\n",
       " 'liquid',\n",
       " 'reserv',\n",
       " 'assist',\n",
       " 'invest',\n",
       " 'team',\n",
       " 'develop',\n",
       " 'proper',\n",
       " 'document',\n",
       " 'intern',\n",
       " 'system',\n",
       " 'direct',\n",
       " 'overse',\n",
       " 'annual',\n",
       " 'budget',\n",
       " 'process',\n",
       " 'includ',\n",
       " 'develop',\n",
       " 'project',\n",
       " 'financi',\n",
       " 'plan',\n",
       " 'prepar',\n",
       " 'budget',\n",
       " 'prepar',\n",
       " 'extern',\n",
       " 'intern',\n",
       " 'financi',\n",
       " 'manag',\n",
       " 'report',\n",
       " 'audit',\n",
       " 'financi',\n",
       " 'statement',\n",
       " 'tax',\n",
       " 'return',\n",
       " 'report',\n",
       " 'board',\n",
       " 'director',\n",
       " 'compani',\n",
       " 'staff',\n",
       " 'develop',\n",
       " 'implement',\n",
       " 'maintain',\n",
       " 'effici',\n",
       " 'effect',\n",
       " 'account',\n",
       " 'system',\n",
       " 'control',\n",
       " 'ensur',\n",
       " 'complianc',\n",
       " 'nation',\n",
       " 'intern',\n",
       " 'account',\n",
       " 'standard',\n",
       " 'principl',\n",
       " 'suffici',\n",
       " 'fund',\n",
       " 'account',\n",
       " 'comprehens',\n",
       " 'data',\n",
       " 'report',\n",
       " 'complianc',\n",
       " 'requir',\n",
       " 'ensur',\n",
       " 'contract',\n",
       " 'complianc',\n",
       " 'includ',\n",
       " 'interpret',\n",
       " 'monitor',\n",
       " 'contract',\n",
       " 'client',\n",
       " 'submit',\n",
       " 'requir',\n",
       " 'report',\n",
       " 'monitor',\n",
       " 'coven',\n",
       " 'contract',\n",
       " 'term',\n",
       " 'overse',\n",
       " 'design',\n",
       " 'implement',\n",
       " 'mainten',\n",
       " 'comput',\n",
       " 'base',\n",
       " 'inform',\n",
       " 'system',\n",
       " 'overse',\n",
       " 'record',\n",
       " 'retent',\n",
       " 'manual',\n",
       " 'comput',\n",
       " 'base',\n",
       " 'file',\n",
       " 'mainten',\n",
       " 'activ',\n",
       " 'serv',\n",
       " 'compani',\n",
       " 'risk',\n",
       " 'manag',\n",
       " 'includ',\n",
       " 'evalu',\n",
       " 'loss',\n",
       " 'exposur',\n",
       " 'obtain',\n",
       " 'insur',\n",
       " 'appropri',\n",
       " 'manag',\n",
       " 'administr',\n",
       " 'oper',\n",
       " 'facil',\n",
       " 'manag',\n",
       " 'payrol',\n",
       " 'administr',\n",
       " 'offic',\n",
       " 'oper',\n",
       " 'administr',\n",
       " 'support',\n",
       " 'monitor',\n",
       " 'corpor',\n",
       " 'complianc',\n",
       " 'law',\n",
       " 'articl',\n",
       " 'incorpor',\n",
       " 'regard',\n",
       " 'corpor',\n",
       " 'registr',\n",
       " 'report',\n",
       " 'fundrais',\n",
       " 'oper',\n",
       " 'requir',\n",
       " 'qualif',\n",
       " 'perform',\n",
       " 'job',\n",
       " 'success',\n",
       " 'individu',\n",
       " 'must',\n",
       " 'abl',\n",
       " 'perform',\n",
       " 'essenti',\n",
       " 'duti',\n",
       " 'satisfactorili',\n",
       " 'requir',\n",
       " 'list',\n",
       " 'repres',\n",
       " 'knowledg',\n",
       " 'skill',\n",
       " 'abil',\n",
       " 'requir',\n",
       " 'knowledg',\n",
       " 'gener',\n",
       " 'accept',\n",
       " 'account',\n",
       " 'principl',\n",
       " 'local',\n",
       " 'account',\n",
       " 'standard',\n",
       " 'legisl',\n",
       " 'state',\n",
       " 'report',\n",
       " 'requir',\n",
       " 'pertain',\n",
       " 'account',\n",
       " 'principl',\n",
       " 'practic',\n",
       " 'financi',\n",
       " 'manag',\n",
       " 'budget',\n",
       " 'principl',\n",
       " 'practic',\n",
       " 'financi',\n",
       " 'system',\n",
       " 'design',\n",
       " 'analysi',\n",
       " 'principl',\n",
       " 'practic',\n",
       " 'contract',\n",
       " 'manag',\n",
       " 'record',\n",
       " 'manag',\n",
       " 'risk',\n",
       " 'manag',\n",
       " 'principl',\n",
       " 'practic',\n",
       " 'manag',\n",
       " 'supervis',\n",
       " 'principl',\n",
       " 'practic',\n",
       " 'inform',\n",
       " 'system',\n",
       " 'manag',\n",
       " 'abil',\n",
       " 'appli',\n",
       " 'sound',\n",
       " 'fiscal',\n",
       " 'administr',\n",
       " 'practic',\n",
       " 'compani',\n",
       " 'activ',\n",
       " 'plan',\n",
       " 'organ',\n",
       " 'supervis',\n",
       " 'work',\n",
       " 'subordin',\n",
       " 'employe',\n",
       " 'includ',\n",
       " 'train',\n",
       " 'assign',\n",
       " 'evalu',\n",
       " 'work',\n",
       " 'provid',\n",
       " 'job',\n",
       " 'perform',\n",
       " 'feedback',\n",
       " 'critic',\n",
       " 'analyz',\n",
       " 'fiscal',\n",
       " 'administr',\n",
       " 'polici',\n",
       " 'practic',\n",
       " 'procedur',\n",
       " 'system',\n",
       " 'recommend',\n",
       " 'implement',\n",
       " 'chang',\n",
       " 'need',\n",
       " 'gather',\n",
       " 'synthes',\n",
       " 'financi',\n",
       " 'inform',\n",
       " 'varieti',\n",
       " 'sourc',\n",
       " 'present',\n",
       " 'varieti',\n",
       " 'audienc',\n",
       " 'differ',\n",
       " 'financi',\n",
       " 'manag',\n",
       " 'analysi',\n",
       " 'expertis',\n",
       " 'prepar',\n",
       " 'detail',\n",
       " 'comprehens',\n",
       " 'financi',\n",
       " 'report',\n",
       " 'includ',\n",
       " 'explanatori',\n",
       " 'text',\n",
       " 'oper',\n",
       " 'ibm',\n",
       " 'compat',\n",
       " 'person',\n",
       " 'comput',\n",
       " 'includ',\n",
       " 'word',\n",
       " 'process',\n",
       " 'spreadsheet',\n",
       " 'databas',\n",
       " 'softwar',\n",
       " 'applic',\n",
       " 'oper',\n",
       " 'special',\n",
       " 'softwar',\n",
       " 'applic',\n",
       " 'support',\n",
       " 'financi',\n",
       " 'manag',\n",
       " 'budget',\n",
       " 'function',\n",
       " 'qualif',\n",
       " 'minimum',\n",
       " 'year',\n",
       " 'account',\n",
       " 'corpor',\n",
       " 'financ',\n",
       " 'bank',\n",
       " 'experi',\n",
       " 'includ',\n",
       " 'role',\n",
       " 'cfo',\n",
       " 'excel',\n",
       " 'financ',\n",
       " 'account',\n",
       " 'technic',\n",
       " 'skill',\n",
       " 'coupl',\n",
       " 'demonstr',\n",
       " 'knowledg',\n",
       " 'key',\n",
       " 'financi',\n",
       " 'function',\n",
       " 'consult',\n",
       " 'compani',\n",
       " 'context',\n",
       " 'account',\n",
       " 'financ',\n",
       " 'control',\n",
       " 'treasuri',\n",
       " 'reserv',\n",
       " 'report',\n",
       " 'strong',\n",
       " 'financi',\n",
       " 'plan',\n",
       " 'analyt',\n",
       " 'skill',\n",
       " 'experi',\n",
       " 'abil',\n",
       " 'work',\n",
       " 'close',\n",
       " 'support',\n",
       " 'ceo',\n",
       " 'execut',\n",
       " 'strateg',\n",
       " 'develop',\n",
       " 'implement',\n",
       " 'excel',\n",
       " 'leadership',\n",
       " 'manag',\n",
       " 'supervisori',\n",
       " 'track',\n",
       " 'record',\n",
       " 'attract',\n",
       " 'select',\n",
       " 'develop',\n",
       " 'reward',\n",
       " 'retain',\n",
       " 'high',\n",
       " 'calib',\n",
       " 'account',\n",
       " 'financ',\n",
       " 'execut',\n",
       " 'team',\n",
       " 'achiev',\n",
       " 'busi',\n",
       " 'goal',\n",
       " 'undergradu',\n",
       " 'degre',\n",
       " 'financ',\n",
       " 'busi',\n",
       " 'relat',\n",
       " 'disciplin',\n",
       " 'requir',\n",
       " 'cpa',\n",
       " 'cfa',\n",
       " 'acca',\n",
       " 'financi',\n",
       " 'certif',\n",
       " 'highli',\n",
       " 'prefer',\n",
       " 'master',\n",
       " 'degre',\n",
       " 'busi',\n",
       " 'administr',\n",
       " 'account',\n",
       " 'financ',\n",
       " 'fluenci',\n",
       " 'english',\n",
       " 'armenian',\n",
       " 'russian',\n",
       " 'outstand',\n",
       " 'write',\n",
       " 'skill',\n",
       " 'excel',\n",
       " 'analyt',\n",
       " 'commun',\n",
       " 'teamwork',\n",
       " 'interperson',\n",
       " 'skill',\n",
       " 'need',\n",
       " 'well',\n",
       " 'organ',\n",
       " 'detail',\n",
       " 'orient',\n",
       " 'well',\n",
       " 'goal',\n",
       " 'result',\n",
       " 'driven',\n",
       " 'abl',\n",
       " 'deal',\n",
       " 'complex',\n",
       " 'issu',\n",
       " 'applic',\n",
       " 'procedur',\n",
       " 'appli',\n",
       " 'posit',\n",
       " 'pleas',\n",
       " 'submit',\n",
       " 'cover',\n",
       " 'letter',\n",
       " 'resum',\n",
       " 'address',\n",
       " 'relev',\n",
       " 'qualif',\n",
       " 'experi',\n",
       " 'inform',\n",
       " 'profession',\n",
       " 'refer',\n",
       " 'strictli',\n",
       " 'tatevik',\n",
       " 'hovhannisyan',\n",
       " 'execut',\n",
       " 'assist',\n",
       " 'fax',\n",
       " 'e',\n",
       " 'mail',\n",
       " 'ameria',\n",
       " 'tel',\n",
       " 'shortlist',\n",
       " 'candid',\n",
       " 'notifi',\n",
       " 'interview',\n",
       " 'pleas',\n",
       " 'clearli',\n",
       " 'mention',\n",
       " 'applic',\n",
       " 'letter',\n",
       " 'learn',\n",
       " 'job',\n",
       " 'opportun',\n",
       " 'career',\n",
       " 'center',\n",
       " 'mention',\n",
       " 'url',\n",
       " 'websit',\n",
       " 'www',\n",
       " 'careercent',\n",
       " 'thank',\n",
       " 'applic',\n",
       " 'deadlin',\n",
       " 'januari',\n",
       " 'place',\n",
       " 'free',\n",
       " 'post',\n",
       " 'job',\n",
       " 'career',\n",
       " 'relat',\n",
       " 'opportun',\n",
       " 'organ',\n",
       " 'careercent',\n",
       " 'websit',\n",
       " 'e',\n",
       " 'mail',\n",
       " 'us',\n",
       " 'atmailbox']"
      ]
     },
     "execution_count": 26,
     "metadata": {},
     "output_type": "execute_result"
    }
   ],
   "source": [
    "job_text[0]"
   ]
  },
  {
   "cell_type": "markdown",
   "id": "15fbdf66",
   "metadata": {},
   "source": [
    "Let`s see the distribution of lengths of job offers"
   ]
  },
  {
   "cell_type": "code",
   "execution_count": 27,
   "id": "2c509a59",
   "metadata": {},
   "outputs": [
    {
     "data": {
      "text/plain": [
       "Text(0.5, 0, 'Length of Resume')"
      ]
     },
     "execution_count": 27,
     "metadata": {},
     "output_type": "execute_result"
    },
    {
     "data": {
      "image/png": "[encoded data removed]",
      "text/plain": [
       "<Figure size 432x288 with 1 Axes>"
      ]
     },
     "metadata": {
      "needs_background": "light"
     },
     "output_type": "display_data"
    }
   ],
   "source": [
    "df_job['length'].plot(bins=50,kind='hist')\n",
    "plt.xlabel('Length of Resume')"
   ]
  },
  {
   "cell_type": "markdown",
   "id": "3914fb56",
   "metadata": {},
   "source": [
    "Let`s see the distribution of IT / Non-IT jobs"
   ]
  },
  {
   "cell_type": "code",
   "execution_count": 28,
   "id": "14351363",
   "metadata": {},
   "outputs": [
    {
     "data": {
      "text/plain": [
       "<AxesSubplot:xlabel='count', ylabel='IT'>"
      ]
     },
     "execution_count": 28,
     "metadata": {},
     "output_type": "execute_result"
    },
    {
     "data": {
      "image/png": "[encoded data removed]",
      "text/plain": [
       "<Figure size 432x288 with 1 Axes>"
      ]
     },
     "metadata": {
      "needs_background": "light"
     },
     "output_type": "display_data"
    }
   ],
   "source": [
    "sns.countplot(y='IT', data=df_job)"
   ]
  },
  {
   "cell_type": "code",
   "execution_count": 29,
   "id": "6c3c9b9e",
   "metadata": {},
   "outputs": [
    {
     "data": {
      "text/plain": [
       "(array([-0.5 , -0.25,  0.  ,  0.25,  0.5 ,  0.75,  1.  ,  1.25,  1.5 ]),\n",
       " [Text(0, 0, ''),\n",
       "  Text(0, 0, ''),\n",
       "  Text(0, 0, ''),\n",
       "  Text(0, 0, ''),\n",
       "  Text(0, 0, ''),\n",
       "  Text(0, 0, ''),\n",
       "  Text(0, 0, ''),\n",
       "  Text(0, 0, ''),\n",
       "  Text(0, 0, '')])"
      ]
     },
     "execution_count": 29,
     "metadata": {},
     "output_type": "execute_result"
    },
    {
     "data": {
      "image/png": "[encoded data removed]",
      "text/plain": [
       "<Figure size 432x288 with 1 Axes>"
      ]
     },
     "metadata": {
      "needs_background": "light"
     },
     "output_type": "display_data"
    }
   ],
   "source": [
    "df_mean = df_job.groupby(\"IT\")[\"length\"].mean()\n",
    "plt.bar(df_mean.index, df_mean.values)\n",
    "plt.xticks(rotation=90)"
   ]
  },
  {
   "cell_type": "markdown",
   "id": "cb970683",
   "metadata": {},
   "source": [
    "## First business case\n",
    "We have a big comapny that mainly hires IT staff but also many other specialist.\n",
    "We have one place that gathers all Resumes but want to internally divide into groups so that specialists from each branch can look at Resumes without redirecting resumes and assess directly by department manager / HR specialist"
   ]
  },
  {
   "cell_type": "code",
   "execution_count": 30,
   "id": "1973e659",
   "metadata": {},
   "outputs": [
    {
     "name": "stderr",
     "output_type": "stream",
     "text": [
      "C:\\Users\\justy\\AppData\\Local\\Temp/ipykernel_27784/2886617952.py:10: SettingWithCopyWarning: \n",
      "A value is trying to be set on a copy of a slice from a DataFrame\n",
      "\n",
      "See the caveats in the documentation: https://pandas.pydata.org/pandas-docs/stable/user_guide/indexing.html#returning-a-view-versus-a-copy\n",
      "  df_resume[\"resume_text_preprocessed\"][i] = listToString(resume_text[i])\n"
     ]
    }
   ],
   "source": [
    "def listToString(s):  \n",
    "    str1 = \"\"   \n",
    "    for ele in s:  \n",
    "        str1 += ele+\" \"    \n",
    "    return str1\n",
    "\n",
    "df_resume[\"resume_text_preprocessed\"] = \"\"\n",
    "\n",
    "for i in range(0,len(resume_text)):\n",
    "    df_resume[\"resume_text_preprocessed\"][i] = listToString(resume_text[i])\n",
    "\n",
    "data = df_resume.copy()"
   ]
  },
  {
   "cell_type": "markdown",
   "id": "5702bb0f",
   "metadata": {},
   "source": [
    "We have 962 resumes that we need to divide into IT / Non-IT groups"
   ]
  },
  {
   "cell_type": "code",
   "execution_count": 31,
   "id": "6b2c5b11",
   "metadata": {},
   "outputs": [
    {
     "data": {
      "text/html": [
       "<div>\n",
       "<style scoped>\n",
       "    .dataframe tbody tr th:only-of-type {\n",
       "        vertical-align: middle;\n",
       "    }\n",
       "\n",
       "    .dataframe tbody tr th {\n",
       "        vertical-align: top;\n",
       "    }\n",
       "\n",
       "    .dataframe thead th {\n",
       "        text-align: right;\n",
       "    }\n",
       "</style>\n",
       "<table border=\"1\" class=\"dataframe\">\n",
       "  <thead>\n",
       "    <tr style=\"text-align: right;\">\n",
       "      <th></th>\n",
       "      <th>length</th>\n",
       "    </tr>\n",
       "  </thead>\n",
       "  <tbody>\n",
       "    <tr>\n",
       "      <th>count</th>\n",
       "      <td>962.000000</td>\n",
       "    </tr>\n",
       "    <tr>\n",
       "      <th>mean</th>\n",
       "      <td>3160.364865</td>\n",
       "    </tr>\n",
       "    <tr>\n",
       "      <th>std</th>\n",
       "      <td>2886.528521</td>\n",
       "    </tr>\n",
       "    <tr>\n",
       "      <th>min</th>\n",
       "      <td>142.000000</td>\n",
       "    </tr>\n",
       "    <tr>\n",
       "      <th>25%</th>\n",
       "      <td>1217.250000</td>\n",
       "    </tr>\n",
       "    <tr>\n",
       "      <th>50%</th>\n",
       "      <td>2355.000000</td>\n",
       "    </tr>\n",
       "    <tr>\n",
       "      <th>75%</th>\n",
       "      <td>4073.750000</td>\n",
       "    </tr>\n",
       "    <tr>\n",
       "      <th>max</th>\n",
       "      <td>14816.000000</td>\n",
       "    </tr>\n",
       "  </tbody>\n",
       "</table>\n",
       "</div>"
      ],
      "text/plain": [
       "             length\n",
       "count    962.000000\n",
       "mean    3160.364865\n",
       "std     2886.528521\n",
       "min      142.000000\n",
       "25%     1217.250000\n",
       "50%     2355.000000\n",
       "75%     4073.750000\n",
       "max    14816.000000"
      ]
     },
     "execution_count": 31,
     "metadata": {},
     "output_type": "execute_result"
    }
   ],
   "source": [
    "data.describe()"
   ]
  },
  {
   "cell_type": "markdown",
   "id": "1dad4520",
   "metadata": {},
   "source": [
    "Let us split the data into training and testing and then create model that can assess if the resume is IT or non-IT in the future"
   ]
  },
  {
   "cell_type": "code",
   "execution_count": 32,
   "id": "0ed7638a",
   "metadata": {},
   "outputs": [],
   "source": [
    "split = StratifiedShuffleSplit(n_splits=5, test_size=0.3)\n",
    "for train_index, test_index in split.split(data,\n",
    "                                           data[\"Category\"]): \n",
    "    strat_train = data.reindex(train_index)\n",
    "    strat_test = data.reindex(test_index)"
   ]
  },
  {
   "cell_type": "markdown",
   "id": "fafe02b8",
   "metadata": {},
   "source": [
    "Check balance of groups. It is not fully balanced, however let us leave it as it is."
   ]
  },
  {
   "cell_type": "code",
   "execution_count": 33,
   "id": "6d593700",
   "metadata": {},
   "outputs": [
    {
     "data": {
      "text/plain": [
       "Java Developer               0.087667\n",
       "Testing                      0.072808\n",
       "DevOps Engineer              0.056464\n",
       "Python Developer             0.050520\n",
       "HR                           0.046062\n",
       "Web Designing                0.046062\n",
       "Hadoop                       0.043091\n",
       "Operations Manager           0.041605\n",
       "Blockchain                   0.041605\n",
       "ETL Developer                0.041605\n",
       "Sales                        0.041605\n",
       "Data Science                 0.041605\n",
       "Mechanical Engineer          0.041605\n",
       "Arts                         0.037147\n",
       "Database                     0.034175\n",
       "PMO                          0.031204\n",
       "Electrical Engineering       0.031204\n",
       "Health and fitness           0.031204\n",
       "Business Analyst             0.029718\n",
       "DotNet Developer             0.029718\n",
       "Automation Testing           0.026746\n",
       "SAP Developer                0.025260\n",
       "Civil Engineer               0.025260\n",
       "Network Security Engineer    0.025260\n",
       "Advocate                     0.020802\n",
       "Name: Category, dtype: float64"
      ]
     },
     "execution_count": 33,
     "metadata": {},
     "output_type": "execute_result"
    }
   ],
   "source": [
    "strat_train[\"Category\"].value_counts()/len(strat_train)"
   ]
  },
  {
   "cell_type": "code",
   "execution_count": 34,
   "id": "c9f930c6",
   "metadata": {},
   "outputs": [
    {
     "name": "stdout",
     "output_type": "stream",
     "text": [
      "673 289\n"
     ]
    }
   ],
   "source": [
    "# prepare data for the model\n",
    "X_train = strat_train[\"resume_text_preprocessed\"]\n",
    "y_train = strat_train[\"Category\"]\n",
    "X_test = strat_test[\"resume_text_preprocessed\"]\n",
    "y_test = strat_test[\"Category\"]\n",
    "print(len(X_train), len(X_test))"
   ]
  },
  {
   "cell_type": "code",
   "execution_count": 35,
   "id": "b4b52764",
   "metadata": {},
   "outputs": [
    {
     "data": {
      "text/plain": [
       "(673, 304)"
      ]
     },
     "execution_count": 35,
     "metadata": {},
     "output_type": "execute_result"
    }
   ],
   "source": [
    "count_vect = CountVectorizer(max_df = 0.85, min_df = 0.1)\n",
    "X_train_counts = count_vect.fit_transform(X_train)\n",
    "X_train_counts.shape"
   ]
  },
  {
   "cell_type": "code",
   "execution_count": 36,
   "id": "d634dacd",
   "metadata": {},
   "outputs": [
    {
     "data": {
      "text/plain": [
       "(673, 304)"
      ]
     },
     "execution_count": 36,
     "metadata": {},
     "output_type": "execute_result"
    }
   ],
   "source": [
    "tfidf_transformer = TfidfTransformer(use_idf=False)\n",
    "X_train_tfidf = tfidf_transformer.fit_transform(X_train_counts)\n",
    "X_train_tfidf.shape"
   ]
  },
  {
   "cell_type": "markdown",
   "id": "13209a53",
   "metadata": {},
   "source": [
    "#### LinearSVC"
   ]
  },
  {
   "cell_type": "code",
   "execution_count": 37,
   "id": "ff434ffc",
   "metadata": {},
   "outputs": [
    {
     "data": {
      "text/html": [
       "<style>#sk-container-id-1 {color: black;background-color: white;}#sk-container-id-1 pre{padding: 0;}#sk-container-id-1 div.sk-toggleable {background-color: white;}#sk-container-id-1 label.sk-toggleable__label {cursor: pointer;display: block;width: 100%;margin-bottom: 0;padding: 0.3em;box-sizing: border-box;text-align: center;}#sk-container-id-1 label.sk-toggleable__label-arrow:before {content: \"▸\";float: left;margin-right: 0.25em;color: #696969;}#sk-container-id-1 label.sk-toggleable__label-arrow:hover:before {color: black;}#sk-container-id-1 div.sk-estimator:hover label.sk-toggleable__label-arrow:before {color: black;}#sk-container-id-1 div.sk-toggleable__content {max-height: 0;max-width: 0;overflow: hidden;text-align: left;background-color: #f0f8ff;}#sk-container-id-1 div.sk-toggleable__content pre {margin: 0.2em;color: black;border-radius: 0.25em;background-color: #f0f8ff;}#sk-container-id-1 input.sk-toggleable__control:checked~div.sk-toggleable__content {max-height: 200px;max-width: 100%;overflow: auto;}#sk-container-id-1 input.sk-toggleable__control:checked~label.sk-toggleable__label-arrow:before {content: \"▾\";}#sk-container-id-1 div.sk-estimator input.sk-toggleable__control:checked~label.sk-toggleable__label {background-color: #d4ebff;}#sk-container-id-1 div.sk-label input.sk-toggleable__control:checked~label.sk-toggleable__label {background-color: #d4ebff;}#sk-container-id-1 input.sk-hidden--visually {border: 0;clip: rect(1px 1px 1px 1px);clip: rect(1px, 1px, 1px, 1px);height: 1px;margin: -1px;overflow: hidden;padding: 0;position: absolute;width: 1px;}#sk-container-id-1 div.sk-estimator {font-family: monospace;background-color: #f0f8ff;border: 1px dotted black;border-radius: 0.25em;box-sizing: border-box;margin-bottom: 0.5em;}#sk-container-id-1 div.sk-estimator:hover {background-color: #d4ebff;}#sk-container-id-1 div.sk-parallel-item::after {content: \"\";width: 100%;border-bottom: 1px solid gray;flex-grow: 1;}#sk-container-id-1 div.sk-label:hover label.sk-toggleable__label {background-color: #d4ebff;}#sk-container-id-1 div.sk-serial::before {content: \"\";position: absolute;border-left: 1px solid gray;box-sizing: border-box;top: 0;bottom: 0;left: 50%;z-index: 0;}#sk-container-id-1 div.sk-serial {display: flex;flex-direction: column;align-items: center;background-color: white;padding-right: 0.2em;padding-left: 0.2em;position: relative;}#sk-container-id-1 div.sk-item {position: relative;z-index: 1;}#sk-container-id-1 div.sk-parallel {display: flex;align-items: stretch;justify-content: center;background-color: white;position: relative;}#sk-container-id-1 div.sk-item::before, #sk-container-id-1 div.sk-parallel-item::before {content: \"\";position: absolute;border-left: 1px solid gray;box-sizing: border-box;top: 0;bottom: 0;left: 50%;z-index: -1;}#sk-container-id-1 div.sk-parallel-item {display: flex;flex-direction: column;z-index: 1;position: relative;background-color: white;}#sk-container-id-1 div.sk-parallel-item:first-child::after {align-self: flex-end;width: 50%;}#sk-container-id-1 div.sk-parallel-item:last-child::after {align-self: flex-start;width: 50%;}#sk-container-id-1 div.sk-parallel-item:only-child::after {width: 0;}#sk-container-id-1 div.sk-dashed-wrapped {border: 1px dashed gray;margin: 0 0.4em 0.5em 0.4em;box-sizing: border-box;padding-bottom: 0.4em;background-color: white;}#sk-container-id-1 div.sk-label label {font-family: monospace;font-weight: bold;display: inline-block;line-height: 1.2em;}#sk-container-id-1 div.sk-label-container {text-align: center;}#sk-container-id-1 div.sk-container {/* jupyter's `normalize.less` sets `[hidden] { display: none; }` but bootstrap.min.css set `[hidden] { display: none !important; }` so we also need the `!important` here to be able to override the default hidden behavior on the sphinx rendered scikit-learn.org. See: https://github.com/scikit-learn/scikit-learn/issues/21755 */display: inline-block !important;position: relative;}#sk-container-id-1 div.sk-text-repr-fallback {display: none;}</style><div id=\"sk-container-id-1\" class=\"sk-top-container\"><div class=\"sk-text-repr-fallback\"><pre>Pipeline(steps=[(&#x27;vect&#x27;, CountVectorizer()), (&#x27;tfidf&#x27;, TfidfTransformer()),\n",
       "                (&#x27;clf_linearSVC&#x27;, LinearSVC())])</pre><b>In a Jupyter environment, please rerun this cell to show the HTML representation or trust the notebook. <br />On GitHub, the HTML representation is unable to render, please try loading this page with nbviewer.org.</b></div><div class=\"sk-container\" hidden><div class=\"sk-item sk-dashed-wrapped\"><div class=\"sk-label-container\"><div class=\"sk-label sk-toggleable\"><input class=\"sk-toggleable__control sk-hidden--visually\" id=\"sk-estimator-id-1\" type=\"checkbox\" ><label for=\"sk-estimator-id-1\" class=\"sk-toggleable__label sk-toggleable__label-arrow\">Pipeline</label><div class=\"sk-toggleable__content\"><pre>Pipeline(steps=[(&#x27;vect&#x27;, CountVectorizer()), (&#x27;tfidf&#x27;, TfidfTransformer()),\n",
       "                (&#x27;clf_linearSVC&#x27;, LinearSVC())])</pre></div></div></div><div class=\"sk-serial\"><div class=\"sk-item\"><div class=\"sk-estimator sk-toggleable\"><input class=\"sk-toggleable__control sk-hidden--visually\" id=\"sk-estimator-id-2\" type=\"checkbox\" ><label for=\"sk-estimator-id-2\" class=\"sk-toggleable__label sk-toggleable__label-arrow\">CountVectorizer</label><div class=\"sk-toggleable__content\"><pre>CountVectorizer()</pre></div></div></div><div class=\"sk-item\"><div class=\"sk-estimator sk-toggleable\"><input class=\"sk-toggleable__control sk-hidden--visually\" id=\"sk-estimator-id-3\" type=\"checkbox\" ><label for=\"sk-estimator-id-3\" class=\"sk-toggleable__label sk-toggleable__label-arrow\">TfidfTransformer</label><div class=\"sk-toggleable__content\"><pre>TfidfTransformer()</pre></div></div></div><div class=\"sk-item\"><div class=\"sk-estimator sk-toggleable\"><input class=\"sk-toggleable__control sk-hidden--visually\" id=\"sk-estimator-id-4\" type=\"checkbox\" ><label for=\"sk-estimator-id-4\" class=\"sk-toggleable__label sk-toggleable__label-arrow\">LinearSVC</label><div class=\"sk-toggleable__content\"><pre>LinearSVC()</pre></div></div></div></div></div></div></div>"
      ],
      "text/plain": [
       "Pipeline(steps=[('vect', CountVectorizer()), ('tfidf', TfidfTransformer()),\n",
       "                ('clf_linearSVC', LinearSVC())])"
      ]
     },
     "execution_count": 37,
     "metadata": {},
     "output_type": "execute_result"
    }
   ],
   "source": [
    "clf_linearSVC_pipe = Pipeline([(\"vect\", CountVectorizer()), \n",
    "                               (\"tfidf\", TfidfTransformer()),\n",
    "                               (\"clf_linearSVC\", LinearSVC())])\n",
    "clf_linearSVC_pipe.fit(X_train, y_train)"
   ]
  },
  {
   "cell_type": "code",
   "execution_count": 38,
   "id": "a2c9b53b",
   "metadata": {},
   "outputs": [
    {
     "data": {
      "text/plain": [
       "0.9826989619377162"
      ]
     },
     "execution_count": 38,
     "metadata": {},
     "output_type": "execute_result"
    }
   ],
   "source": [
    "predictedLinearSVC = clf_linearSVC_pipe.predict(X_test)\n",
    "np.mean(predictedLinearSVC == y_test)"
   ]
  },
  {
   "cell_type": "code",
   "execution_count": 39,
   "id": "68821a32",
   "metadata": {},
   "outputs": [
    {
     "name": "stdout",
     "output_type": "stream",
     "text": [
      "                           precision    recall  f1-score   support\n",
      "\n",
      "                 Advocate       1.00      1.00      1.00         6\n",
      "                     Arts       1.00      1.00      1.00        11\n",
      "       Automation Testing       1.00      0.75      0.86         8\n",
      "               Blockchain       1.00      1.00      1.00        12\n",
      "         Business Analyst       1.00      1.00      1.00         8\n",
      "           Civil Engineer       1.00      1.00      1.00         7\n",
      "             Data Science       1.00      1.00      1.00        12\n",
      "                 Database       1.00      1.00      1.00        10\n",
      "          DevOps Engineer       1.00      0.82      0.90        17\n",
      "         DotNet Developer       0.89      1.00      0.94         8\n",
      "            ETL Developer       1.00      1.00      1.00        12\n",
      "   Electrical Engineering       0.82      1.00      0.90         9\n",
      "                       HR       1.00      1.00      1.00        13\n",
      "                   Hadoop       1.00      1.00      1.00        13\n",
      "       Health and fitness       1.00      1.00      1.00         9\n",
      "           Java Developer       1.00      1.00      1.00        25\n",
      "      Mechanical Engineer       1.00      1.00      1.00        12\n",
      "Network Security Engineer       1.00      1.00      1.00         8\n",
      "       Operations Manager       1.00      1.00      1.00        12\n",
      "                      PMO       0.90      1.00      0.95         9\n",
      "         Python Developer       1.00      1.00      1.00        14\n",
      "            SAP Developer       1.00      1.00      1.00         7\n",
      "                    Sales       1.00      1.00      1.00        12\n",
      "                  Testing       1.00      1.00      1.00        21\n",
      "            Web Designing       0.93      1.00      0.97        14\n",
      "\n",
      "                 accuracy                           0.98       289\n",
      "                macro avg       0.98      0.98      0.98       289\n",
      "             weighted avg       0.98      0.98      0.98       289\n",
      "\n",
      "[[ 6  0  0  0  0  0  0  0  0  0  0  0  0  0  0  0  0  0  0  0  0  0  0  0\n",
      "   0]\n",
      " [ 0 11  0  0  0  0  0  0  0  0  0  0  0  0  0  0  0  0  0  0  0  0  0  0\n",
      "   0]\n",
      " [ 0  0  6  0  0  0  0  0  0  0  0  2  0  0  0  0  0  0  0  0  0  0  0  0\n",
      "   0]\n",
      " [ 0  0  0 12  0  0  0  0  0  0  0  0  0  0  0  0  0  0  0  0  0  0  0  0\n",
      "   0]\n",
      " [ 0  0  0  0  8  0  0  0  0  0  0  0  0  0  0  0  0  0  0  0  0  0  0  0\n",
      "   0]\n",
      " [ 0  0  0  0  0  7  0  0  0  0  0  0  0  0  0  0  0  0  0  0  0  0  0  0\n",
      "   0]\n",
      " [ 0  0  0  0  0  0 12  0  0  0  0  0  0  0  0  0  0  0  0  0  0  0  0  0\n",
      "   0]\n",
      " [ 0  0  0  0  0  0  0 10  0  0  0  0  0  0  0  0  0  0  0  0  0  0  0  0\n",
      "   0]\n",
      " [ 0  0  0  0  0  0  0  0 14  1  0  0  0  0  0  0  0  0  0  1  0  0  0  0\n",
      "   1]\n",
      " [ 0  0  0  0  0  0  0  0  0  8  0  0  0  0  0  0  0  0  0  0  0  0  0  0\n",
      "   0]\n",
      " [ 0  0  0  0  0  0  0  0  0  0 12  0  0  0  0  0  0  0  0  0  0  0  0  0\n",
      "   0]\n",
      " [ 0  0  0  0  0  0  0  0  0  0  0  9  0  0  0  0  0  0  0  0  0  0  0  0\n",
      "   0]\n",
      " [ 0  0  0  0  0  0  0  0  0  0  0  0 13  0  0  0  0  0  0  0  0  0  0  0\n",
      "   0]\n",
      " [ 0  0  0  0  0  0  0  0  0  0  0  0  0 13  0  0  0  0  0  0  0  0  0  0\n",
      "   0]\n",
      " [ 0  0  0  0  0  0  0  0  0  0  0  0  0  0  9  0  0  0  0  0  0  0  0  0\n",
      "   0]\n",
      " [ 0  0  0  0  0  0  0  0  0  0  0  0  0  0  0 25  0  0  0  0  0  0  0  0\n",
      "   0]\n",
      " [ 0  0  0  0  0  0  0  0  0  0  0  0  0  0  0  0 12  0  0  0  0  0  0  0\n",
      "   0]\n",
      " [ 0  0  0  0  0  0  0  0  0  0  0  0  0  0  0  0  0  8  0  0  0  0  0  0\n",
      "   0]\n",
      " [ 0  0  0  0  0  0  0  0  0  0  0  0  0  0  0  0  0  0 12  0  0  0  0  0\n",
      "   0]\n",
      " [ 0  0  0  0  0  0  0  0  0  0  0  0  0  0  0  0  0  0  0  9  0  0  0  0\n",
      "   0]\n",
      " [ 0  0  0  0  0  0  0  0  0  0  0  0  0  0  0  0  0  0  0  0 14  0  0  0\n",
      "   0]\n",
      " [ 0  0  0  0  0  0  0  0  0  0  0  0  0  0  0  0  0  0  0  0  0  7  0  0\n",
      "   0]\n",
      " [ 0  0  0  0  0  0  0  0  0  0  0  0  0  0  0  0  0  0  0  0  0  0 12  0\n",
      "   0]\n",
      " [ 0  0  0  0  0  0  0  0  0  0  0  0  0  0  0  0  0  0  0  0  0  0  0 21\n",
      "   0]\n",
      " [ 0  0  0  0  0  0  0  0  0  0  0  0  0  0  0  0  0  0  0  0  0  0  0  0\n",
      "  14]]\n"
     ]
    }
   ],
   "source": [
    "print(classification_report(y_test,predictedLinearSVC))\n",
    "print(confusion_matrix(y_test,predictedLinearSVC))"
   ]
  },
  {
   "cell_type": "markdown",
   "id": "b5f96008",
   "metadata": {},
   "source": [
    "Now let us test some new artificial data that I came up with. It just contains keywords, however it should be enough."
   ]
  },
  {
   "cell_type": "code",
   "execution_count": 40,
   "id": "7fc2436a",
   "metadata": {},
   "outputs": [
    {
     "name": "stdout",
     "output_type": "stream",
     "text": [
      "Prediction for resume 1: Python Developer\n",
      "Prediction for resume 2: Advocate\n",
      "Prediction for resume 3: Health and fitness\n",
      "Prediction for resume 4: HR\n"
     ]
    }
   ],
   "source": [
    "resume_1 = [\"python\", \"java\", \"agile\", \"scrum\", \"english\", \"french\", \"slack\", \"jira\", \"confluence\", \"it\", \"excel\", \"vba\", \"microsoft\"]\n",
    "\n",
    "resume_2 = [\"law\", \"school\", \"jury\", \"civil\", \"law\", \"application\", \"advocate\", \"office\", \"professional\", \"diploma\", \"claim\", \"conflict\", \"represent\"]\n",
    "\n",
    "resume_3 = [\"cook\", \"food\", \"product\", \"chef\", \"restaurant\", \"coffe\", \"serve\", \"dish\", \"cook\", \"sushi\", \"food\", \"cousine\"]\n",
    "\n",
    "resume_4 = [\"stock\", \"finance\", \"accounting\", \"bookings\", \"clients\", \"shares\", \"excel\", \"transactions\", \"accounting\"]\n",
    "\n",
    "strings = [resume_1, resume_2, resume_3, resume_4]\n",
    "\n",
    "for i in range(0,len(strings)):\n",
    "    words = []\n",
    "    for word in strings[i]:\n",
    "        words.append(ps.stem(word))\n",
    "    strings[i] = words\n",
    "\n",
    "for i in range(0,len(strings)):\n",
    "    strings[i] = listToString(strings[i])\n",
    "\n",
    "test_resumes = pd.DataFrame({'resume': strings})\n",
    "test_results = clf_linearSVC_pipe.predict(test_resumes['resume'])\n",
    "\n",
    "for i, test_results in enumerate(test_results):\n",
    "    print(f\"Prediction for resume {i + 1}: {test_results}\")"
   ]
  },
  {
   "cell_type": "markdown",
   "id": "a40e34e7",
   "metadata": {},
   "source": [
    "Now let us try some other tools such as logistic regression, K-nearest neighbours and Random forrest. Before such analysis we need to convert data to numeric"
   ]
  },
  {
   "cell_type": "code",
   "execution_count": 41,
   "id": "2370fe6b",
   "metadata": {},
   "outputs": [],
   "source": [
    "## Prepare data\n",
    "\n",
    "Text= df_resume['resume_text_preprocessed'].values\n",
    "Target= df_resume['Category'].values\n",
    "\n",
    "word_vectorizer = TfidfVectorizer(sublinear_tf=True)\n",
    "word_vectorizer.fit(Text)\n",
    "WordFeatures= word_vectorizer.transform(Text)\n",
    "\n",
    "X_train,X_test,y_train,y_test= train_test_split(WordFeatures, Target, random_state=42)"
   ]
  },
  {
   "cell_type": "code",
   "execution_count": 42,
   "id": "0a8ac545",
   "metadata": {},
   "outputs": [],
   "source": [
    "lr = LogisticRegression(multi_class='ovr')\n",
    "knn = KNeighborsClassifier()\n",
    "rf = RandomForestClassifier()"
   ]
  },
  {
   "cell_type": "markdown",
   "id": "eecedbe2",
   "metadata": {},
   "source": [
    "#### Logistic Regression\n",
    "\n",
    "Gives very good results with accuract arond 99%"
   ]
  },
  {
   "cell_type": "code",
   "execution_count": 43,
   "id": "05c9d10e",
   "metadata": {},
   "outputs": [
    {
     "data": {
      "text/html": [
       "<style>#sk-container-id-2 {color: black;background-color: white;}#sk-container-id-2 pre{padding: 0;}#sk-container-id-2 div.sk-toggleable {background-color: white;}#sk-container-id-2 label.sk-toggleable__label {cursor: pointer;display: block;width: 100%;margin-bottom: 0;padding: 0.3em;box-sizing: border-box;text-align: center;}#sk-container-id-2 label.sk-toggleable__label-arrow:before {content: \"▸\";float: left;margin-right: 0.25em;color: #696969;}#sk-container-id-2 label.sk-toggleable__label-arrow:hover:before {color: black;}#sk-container-id-2 div.sk-estimator:hover label.sk-toggleable__label-arrow:before {color: black;}#sk-container-id-2 div.sk-toggleable__content {max-height: 0;max-width: 0;overflow: hidden;text-align: left;background-color: #f0f8ff;}#sk-container-id-2 div.sk-toggleable__content pre {margin: 0.2em;color: black;border-radius: 0.25em;background-color: #f0f8ff;}#sk-container-id-2 input.sk-toggleable__control:checked~div.sk-toggleable__content {max-height: 200px;max-width: 100%;overflow: auto;}#sk-container-id-2 input.sk-toggleable__control:checked~label.sk-toggleable__label-arrow:before {content: \"▾\";}#sk-container-id-2 div.sk-estimator input.sk-toggleable__control:checked~label.sk-toggleable__label {background-color: #d4ebff;}#sk-container-id-2 div.sk-label input.sk-toggleable__control:checked~label.sk-toggleable__label {background-color: #d4ebff;}#sk-container-id-2 input.sk-hidden--visually {border: 0;clip: rect(1px 1px 1px 1px);clip: rect(1px, 1px, 1px, 1px);height: 1px;margin: -1px;overflow: hidden;padding: 0;position: absolute;width: 1px;}#sk-container-id-2 div.sk-estimator {font-family: monospace;background-color: #f0f8ff;border: 1px dotted black;border-radius: 0.25em;box-sizing: border-box;margin-bottom: 0.5em;}#sk-container-id-2 div.sk-estimator:hover {background-color: #d4ebff;}#sk-container-id-2 div.sk-parallel-item::after {content: \"\";width: 100%;border-bottom: 1px solid gray;flex-grow: 1;}#sk-container-id-2 div.sk-label:hover label.sk-toggleable__label {background-color: #d4ebff;}#sk-container-id-2 div.sk-serial::before {content: \"\";position: absolute;border-left: 1px solid gray;box-sizing: border-box;top: 0;bottom: 0;left: 50%;z-index: 0;}#sk-container-id-2 div.sk-serial {display: flex;flex-direction: column;align-items: center;background-color: white;padding-right: 0.2em;padding-left: 0.2em;position: relative;}#sk-container-id-2 div.sk-item {position: relative;z-index: 1;}#sk-container-id-2 div.sk-parallel {display: flex;align-items: stretch;justify-content: center;background-color: white;position: relative;}#sk-container-id-2 div.sk-item::before, #sk-container-id-2 div.sk-parallel-item::before {content: \"\";position: absolute;border-left: 1px solid gray;box-sizing: border-box;top: 0;bottom: 0;left: 50%;z-index: -1;}#sk-container-id-2 div.sk-parallel-item {display: flex;flex-direction: column;z-index: 1;position: relative;background-color: white;}#sk-container-id-2 div.sk-parallel-item:first-child::after {align-self: flex-end;width: 50%;}#sk-container-id-2 div.sk-parallel-item:last-child::after {align-self: flex-start;width: 50%;}#sk-container-id-2 div.sk-parallel-item:only-child::after {width: 0;}#sk-container-id-2 div.sk-dashed-wrapped {border: 1px dashed gray;margin: 0 0.4em 0.5em 0.4em;box-sizing: border-box;padding-bottom: 0.4em;background-color: white;}#sk-container-id-2 div.sk-label label {font-family: monospace;font-weight: bold;display: inline-block;line-height: 1.2em;}#sk-container-id-2 div.sk-label-container {text-align: center;}#sk-container-id-2 div.sk-container {/* jupyter's `normalize.less` sets `[hidden] { display: none; }` but bootstrap.min.css set `[hidden] { display: none !important; }` so we also need the `!important` here to be able to override the default hidden behavior on the sphinx rendered scikit-learn.org. See: https://github.com/scikit-learn/scikit-learn/issues/21755 */display: inline-block !important;position: relative;}#sk-container-id-2 div.sk-text-repr-fallback {display: none;}</style><div id=\"sk-container-id-2\" class=\"sk-top-container\"><div class=\"sk-text-repr-fallback\"><pre>LogisticRegression(multi_class=&#x27;ovr&#x27;)</pre><b>In a Jupyter environment, please rerun this cell to show the HTML representation or trust the notebook. <br />On GitHub, the HTML representation is unable to render, please try loading this page with nbviewer.org.</b></div><div class=\"sk-container\" hidden><div class=\"sk-item\"><div class=\"sk-estimator sk-toggleable\"><input class=\"sk-toggleable__control sk-hidden--visually\" id=\"sk-estimator-id-5\" type=\"checkbox\" checked><label for=\"sk-estimator-id-5\" class=\"sk-toggleable__label sk-toggleable__label-arrow\">LogisticRegression</label><div class=\"sk-toggleable__content\"><pre>LogisticRegression(multi_class=&#x27;ovr&#x27;)</pre></div></div></div></div></div>"
      ],
      "text/plain": [
       "LogisticRegression(multi_class='ovr')"
      ]
     },
     "execution_count": 43,
     "metadata": {},
     "output_type": "execute_result"
    }
   ],
   "source": [
    "lr.fit(X_train, y_train)"
   ]
  },
  {
   "cell_type": "markdown",
   "id": "0ae24858",
   "metadata": {},
   "source": [
    "Check the accuracy of prediction"
   ]
  },
  {
   "cell_type": "code",
   "execution_count": 44,
   "id": "29507bde",
   "metadata": {},
   "outputs": [
    {
     "name": "stdout",
     "output_type": "stream",
     "text": [
      "1.0\n",
      "0.991701244813278\n"
     ]
    }
   ],
   "source": [
    "print(lr.score(X_train, y_train))\n",
    "print(lr.score(X_test, y_test))"
   ]
  },
  {
   "cell_type": "markdown",
   "id": "219fc5f4",
   "metadata": {},
   "source": [
    "Check on the articicial data that I did for test"
   ]
  },
  {
   "cell_type": "code",
   "execution_count": 45,
   "id": "d8829d24",
   "metadata": {},
   "outputs": [
    {
     "name": "stdout",
     "output_type": "stream",
     "text": [
      "['Python Developer' 'Advocate' 'Health and fitness' 'HR']\n"
     ]
    }
   ],
   "source": [
    "my_test = word_vectorizer.transform(test_resumes['resume'])\n",
    "test_results = lr.predict(my_test)\n",
    "print(test_results)"
   ]
  },
  {
   "cell_type": "markdown",
   "id": "3dffae3d",
   "metadata": {},
   "source": [
    "#### KNN\n",
    "Gives very good results but worse than Logistic regression"
   ]
  },
  {
   "cell_type": "code",
   "execution_count": 46,
   "id": "a9176be5",
   "metadata": {},
   "outputs": [
    {
     "data": {
      "text/html": [
       "<style>#sk-container-id-3 {color: black;background-color: white;}#sk-container-id-3 pre{padding: 0;}#sk-container-id-3 div.sk-toggleable {background-color: white;}#sk-container-id-3 label.sk-toggleable__label {cursor: pointer;display: block;width: 100%;margin-bottom: 0;padding: 0.3em;box-sizing: border-box;text-align: center;}#sk-container-id-3 label.sk-toggleable__label-arrow:before {content: \"▸\";float: left;margin-right: 0.25em;color: #696969;}#sk-container-id-3 label.sk-toggleable__label-arrow:hover:before {color: black;}#sk-container-id-3 div.sk-estimator:hover label.sk-toggleable__label-arrow:before {color: black;}#sk-container-id-3 div.sk-toggleable__content {max-height: 0;max-width: 0;overflow: hidden;text-align: left;background-color: #f0f8ff;}#sk-container-id-3 div.sk-toggleable__content pre {margin: 0.2em;color: black;border-radius: 0.25em;background-color: #f0f8ff;}#sk-container-id-3 input.sk-toggleable__control:checked~div.sk-toggleable__content {max-height: 200px;max-width: 100%;overflow: auto;}#sk-container-id-3 input.sk-toggleable__control:checked~label.sk-toggleable__label-arrow:before {content: \"▾\";}#sk-container-id-3 div.sk-estimator input.sk-toggleable__control:checked~label.sk-toggleable__label {background-color: #d4ebff;}#sk-container-id-3 div.sk-label input.sk-toggleable__control:checked~label.sk-toggleable__label {background-color: #d4ebff;}#sk-container-id-3 input.sk-hidden--visually {border: 0;clip: rect(1px 1px 1px 1px);clip: rect(1px, 1px, 1px, 1px);height: 1px;margin: -1px;overflow: hidden;padding: 0;position: absolute;width: 1px;}#sk-container-id-3 div.sk-estimator {font-family: monospace;background-color: #f0f8ff;border: 1px dotted black;border-radius: 0.25em;box-sizing: border-box;margin-bottom: 0.5em;}#sk-container-id-3 div.sk-estimator:hover {background-color: #d4ebff;}#sk-container-id-3 div.sk-parallel-item::after {content: \"\";width: 100%;border-bottom: 1px solid gray;flex-grow: 1;}#sk-container-id-3 div.sk-label:hover label.sk-toggleable__label {background-color: #d4ebff;}#sk-container-id-3 div.sk-serial::before {content: \"\";position: absolute;border-left: 1px solid gray;box-sizing: border-box;top: 0;bottom: 0;left: 50%;z-index: 0;}#sk-container-id-3 div.sk-serial {display: flex;flex-direction: column;align-items: center;background-color: white;padding-right: 0.2em;padding-left: 0.2em;position: relative;}#sk-container-id-3 div.sk-item {position: relative;z-index: 1;}#sk-container-id-3 div.sk-parallel {display: flex;align-items: stretch;justify-content: center;background-color: white;position: relative;}#sk-container-id-3 div.sk-item::before, #sk-container-id-3 div.sk-parallel-item::before {content: \"\";position: absolute;border-left: 1px solid gray;box-sizing: border-box;top: 0;bottom: 0;left: 50%;z-index: -1;}#sk-container-id-3 div.sk-parallel-item {display: flex;flex-direction: column;z-index: 1;position: relative;background-color: white;}#sk-container-id-3 div.sk-parallel-item:first-child::after {align-self: flex-end;width: 50%;}#sk-container-id-3 div.sk-parallel-item:last-child::after {align-self: flex-start;width: 50%;}#sk-container-id-3 div.sk-parallel-item:only-child::after {width: 0;}#sk-container-id-3 div.sk-dashed-wrapped {border: 1px dashed gray;margin: 0 0.4em 0.5em 0.4em;box-sizing: border-box;padding-bottom: 0.4em;background-color: white;}#sk-container-id-3 div.sk-label label {font-family: monospace;font-weight: bold;display: inline-block;line-height: 1.2em;}#sk-container-id-3 div.sk-label-container {text-align: center;}#sk-container-id-3 div.sk-container {/* jupyter's `normalize.less` sets `[hidden] { display: none; }` but bootstrap.min.css set `[hidden] { display: none !important; }` so we also need the `!important` here to be able to override the default hidden behavior on the sphinx rendered scikit-learn.org. See: https://github.com/scikit-learn/scikit-learn/issues/21755 */display: inline-block !important;position: relative;}#sk-container-id-3 div.sk-text-repr-fallback {display: none;}</style><div id=\"sk-container-id-3\" class=\"sk-top-container\"><div class=\"sk-text-repr-fallback\"><pre>KNeighborsClassifier()</pre><b>In a Jupyter environment, please rerun this cell to show the HTML representation or trust the notebook. <br />On GitHub, the HTML representation is unable to render, please try loading this page with nbviewer.org.</b></div><div class=\"sk-container\" hidden><div class=\"sk-item\"><div class=\"sk-estimator sk-toggleable\"><input class=\"sk-toggleable__control sk-hidden--visually\" id=\"sk-estimator-id-6\" type=\"checkbox\" checked><label for=\"sk-estimator-id-6\" class=\"sk-toggleable__label sk-toggleable__label-arrow\">KNeighborsClassifier</label><div class=\"sk-toggleable__content\"><pre>KNeighborsClassifier()</pre></div></div></div></div></div>"
      ],
      "text/plain": [
       "KNeighborsClassifier()"
      ]
     },
     "execution_count": 46,
     "metadata": {},
     "output_type": "execute_result"
    }
   ],
   "source": [
    "knn.fit(X_train, y_train)"
   ]
  },
  {
   "cell_type": "code",
   "execution_count": 47,
   "id": "5b15ffd6",
   "metadata": {},
   "outputs": [
    {
     "name": "stdout",
     "output_type": "stream",
     "text": [
      "0.9875173370319001\n",
      "0.966804979253112\n"
     ]
    }
   ],
   "source": [
    "print(knn.score(X_train, y_train))\n",
    "print(knn.score(X_test, y_test))"
   ]
  },
  {
   "cell_type": "code",
   "execution_count": 48,
   "id": "0d9baf48",
   "metadata": {},
   "outputs": [
    {
     "name": "stdout",
     "output_type": "stream",
     "text": [
      "['Python Developer' 'Advocate' 'Health and fitness' 'HR']\n"
     ]
    }
   ],
   "source": [
    "my_test = word_vectorizer.transform(test_resumes['resume'])\n",
    "test_results = knn.predict(my_test)\n",
    "print(test_results)"
   ]
  },
  {
   "cell_type": "markdown",
   "id": "83931b39",
   "metadata": {},
   "source": [
    "#### Random Forest\n",
    "\n",
    "Gives results that can be compared with linearSVC"
   ]
  },
  {
   "cell_type": "code",
   "execution_count": 49,
   "id": "533024ec",
   "metadata": {},
   "outputs": [
    {
     "data": {
      "text/html": [
       "<style>#sk-container-id-4 {color: black;background-color: white;}#sk-container-id-4 pre{padding: 0;}#sk-container-id-4 div.sk-toggleable {background-color: white;}#sk-container-id-4 label.sk-toggleable__label {cursor: pointer;display: block;width: 100%;margin-bottom: 0;padding: 0.3em;box-sizing: border-box;text-align: center;}#sk-container-id-4 label.sk-toggleable__label-arrow:before {content: \"▸\";float: left;margin-right: 0.25em;color: #696969;}#sk-container-id-4 label.sk-toggleable__label-arrow:hover:before {color: black;}#sk-container-id-4 div.sk-estimator:hover label.sk-toggleable__label-arrow:before {color: black;}#sk-container-id-4 div.sk-toggleable__content {max-height: 0;max-width: 0;overflow: hidden;text-align: left;background-color: #f0f8ff;}#sk-container-id-4 div.sk-toggleable__content pre {margin: 0.2em;color: black;border-radius: 0.25em;background-color: #f0f8ff;}#sk-container-id-4 input.sk-toggleable__control:checked~div.sk-toggleable__content {max-height: 200px;max-width: 100%;overflow: auto;}#sk-container-id-4 input.sk-toggleable__control:checked~label.sk-toggleable__label-arrow:before {content: \"▾\";}#sk-container-id-4 div.sk-estimator input.sk-toggleable__control:checked~label.sk-toggleable__label {background-color: #d4ebff;}#sk-container-id-4 div.sk-label input.sk-toggleable__control:checked~label.sk-toggleable__label {background-color: #d4ebff;}#sk-container-id-4 input.sk-hidden--visually {border: 0;clip: rect(1px 1px 1px 1px);clip: rect(1px, 1px, 1px, 1px);height: 1px;margin: -1px;overflow: hidden;padding: 0;position: absolute;width: 1px;}#sk-container-id-4 div.sk-estimator {font-family: monospace;background-color: #f0f8ff;border: 1px dotted black;border-radius: 0.25em;box-sizing: border-box;margin-bottom: 0.5em;}#sk-container-id-4 div.sk-estimator:hover {background-color: #d4ebff;}#sk-container-id-4 div.sk-parallel-item::after {content: \"\";width: 100%;border-bottom: 1px solid gray;flex-grow: 1;}#sk-container-id-4 div.sk-label:hover label.sk-toggleable__label {background-color: #d4ebff;}#sk-container-id-4 div.sk-serial::before {content: \"\";position: absolute;border-left: 1px solid gray;box-sizing: border-box;top: 0;bottom: 0;left: 50%;z-index: 0;}#sk-container-id-4 div.sk-serial {display: flex;flex-direction: column;align-items: center;background-color: white;padding-right: 0.2em;padding-left: 0.2em;position: relative;}#sk-container-id-4 div.sk-item {position: relative;z-index: 1;}#sk-container-id-4 div.sk-parallel {display: flex;align-items: stretch;justify-content: center;background-color: white;position: relative;}#sk-container-id-4 div.sk-item::before, #sk-container-id-4 div.sk-parallel-item::before {content: \"\";position: absolute;border-left: 1px solid gray;box-sizing: border-box;top: 0;bottom: 0;left: 50%;z-index: -1;}#sk-container-id-4 div.sk-parallel-item {display: flex;flex-direction: column;z-index: 1;position: relative;background-color: white;}#sk-container-id-4 div.sk-parallel-item:first-child::after {align-self: flex-end;width: 50%;}#sk-container-id-4 div.sk-parallel-item:last-child::after {align-self: flex-start;width: 50%;}#sk-container-id-4 div.sk-parallel-item:only-child::after {width: 0;}#sk-container-id-4 div.sk-dashed-wrapped {border: 1px dashed gray;margin: 0 0.4em 0.5em 0.4em;box-sizing: border-box;padding-bottom: 0.4em;background-color: white;}#sk-container-id-4 div.sk-label label {font-family: monospace;font-weight: bold;display: inline-block;line-height: 1.2em;}#sk-container-id-4 div.sk-label-container {text-align: center;}#sk-container-id-4 div.sk-container {/* jupyter's `normalize.less` sets `[hidden] { display: none; }` but bootstrap.min.css set `[hidden] { display: none !important; }` so we also need the `!important` here to be able to override the default hidden behavior on the sphinx rendered scikit-learn.org. See: https://github.com/scikit-learn/scikit-learn/issues/21755 */display: inline-block !important;position: relative;}#sk-container-id-4 div.sk-text-repr-fallback {display: none;}</style><div id=\"sk-container-id-4\" class=\"sk-top-container\"><div class=\"sk-text-repr-fallback\"><pre>RandomForestClassifier()</pre><b>In a Jupyter environment, please rerun this cell to show the HTML representation or trust the notebook. <br />On GitHub, the HTML representation is unable to render, please try loading this page with nbviewer.org.</b></div><div class=\"sk-container\" hidden><div class=\"sk-item\"><div class=\"sk-estimator sk-toggleable\"><input class=\"sk-toggleable__control sk-hidden--visually\" id=\"sk-estimator-id-7\" type=\"checkbox\" checked><label for=\"sk-estimator-id-7\" class=\"sk-toggleable__label sk-toggleable__label-arrow\">RandomForestClassifier</label><div class=\"sk-toggleable__content\"><pre>RandomForestClassifier()</pre></div></div></div></div></div>"
      ],
      "text/plain": [
       "RandomForestClassifier()"
      ]
     },
     "execution_count": 49,
     "metadata": {},
     "output_type": "execute_result"
    }
   ],
   "source": [
    "rf.fit(X_train, y_train)"
   ]
  },
  {
   "cell_type": "code",
   "execution_count": 50,
   "id": "7b5226f8",
   "metadata": {},
   "outputs": [
    {
     "name": "stdout",
     "output_type": "stream",
     "text": [
      "1.0\n",
      "0.983402489626556\n"
     ]
    }
   ],
   "source": [
    "print(rf.score(X_train, y_train))\n",
    "print(rf.score(X_test, y_test))"
   ]
  },
  {
   "cell_type": "code",
   "execution_count": 51,
   "id": "999bc06b",
   "metadata": {},
   "outputs": [
    {
     "name": "stdout",
     "output_type": "stream",
     "text": [
      "['Java Developer' 'Advocate' 'HR' 'HR']\n"
     ]
    }
   ],
   "source": [
    "my_test = word_vectorizer.transform(test_resumes['resume'])\n",
    "test_results = rf.predict(my_test)\n",
    "print(test_results)"
   ]
  },
  {
   "cell_type": "markdown",
   "id": "6ae3f615",
   "metadata": {},
   "source": [
    "## 2nd business case\n",
    "We have a jobs offer portal and we want to automatically categorize job offers based if they are IT / Non-IT to make filtering more appealing and help users to find offers easier"
   ]
  },
  {
   "cell_type": "code",
   "execution_count": 52,
   "id": "7f9e6849",
   "metadata": {},
   "outputs": [
    {
     "name": "stderr",
     "output_type": "stream",
     "text": [
      "C:\\Users\\justy\\AppData\\Local\\Temp/ipykernel_27784/3228144375.py:4: SettingWithCopyWarning: \n",
      "A value is trying to be set on a copy of a slice from a DataFrame\n",
      "\n",
      "See the caveats in the documentation: https://pandas.pydata.org/pandas-docs/stable/user_guide/indexing.html#returning-a-view-versus-a-copy\n",
      "  df_job[\"job_text_preprocessed\"][i] = listToString(job_text[i])\n"
     ]
    }
   ],
   "source": [
    "df_job[\"job_text_preprocessed\"] = \"\"\n",
    "\n",
    "for i in range(0,len(job_text)):\n",
    "    df_job[\"job_text_preprocessed\"][i] = listToString(job_text[i])\n",
    "    \n",
    "data = df_job"
   ]
  },
  {
   "cell_type": "markdown",
   "id": "14cd9978",
   "metadata": {},
   "source": [
    "#### Split data for training and test sample 70/30"
   ]
  },
  {
   "cell_type": "code",
   "execution_count": 53,
   "id": "55cd3f3a",
   "metadata": {},
   "outputs": [],
   "source": [
    "split = StratifiedShuffleSplit(n_splits=5, test_size=0.3)\n",
    "for train_index, test_index in split.split(data,\n",
    "                                           data[\"IT\"]): \n",
    "    strat_train = data.reindex(train_index)\n",
    "    strat_test = data.reindex(test_index)"
   ]
  },
  {
   "cell_type": "markdown",
   "id": "58defa10",
   "metadata": {},
   "source": [
    "Check if the data is balanced based on categories"
   ]
  },
  {
   "cell_type": "code",
   "execution_count": 54,
   "id": "6748cce7",
   "metadata": {},
   "outputs": [
    {
     "data": {
      "text/plain": [
       "False    0.80218\n",
       "True     0.19782\n",
       "Name: IT, dtype: float64"
      ]
     },
     "execution_count": 54,
     "metadata": {},
     "output_type": "execute_result"
    }
   ],
   "source": [
    "strat_train[\"IT\"].value_counts()/len(strat_train)"
   ]
  },
  {
   "cell_type": "code",
   "execution_count": 55,
   "id": "74fa76c2",
   "metadata": {},
   "outputs": [
    {
     "name": "stdout",
     "output_type": "stream",
     "text": [
      "13300 5701\n"
     ]
    }
   ],
   "source": [
    "# prepare data for the model\n",
    "X_train = strat_train[\"job_text_preprocessed\"]\n",
    "y_train = strat_train[\"IT\"]\n",
    "X_test = strat_test[\"job_text_preprocessed\"]\n",
    "y_test = strat_test[\"IT\"]\n",
    "print(len(X_train), len(X_test))"
   ]
  },
  {
   "cell_type": "code",
   "execution_count": 56,
   "id": "89f0eea9",
   "metadata": {},
   "outputs": [
    {
     "data": {
      "text/plain": [
       "(13300, 291)"
      ]
     },
     "execution_count": 56,
     "metadata": {},
     "output_type": "execute_result"
    }
   ],
   "source": [
    "count_vect = CountVectorizer(max_df = 0.85, min_df = 0.1)\n",
    "X_train_counts = count_vect.fit_transform(X_train)\n",
    "X_train_counts.shape"
   ]
  },
  {
   "cell_type": "code",
   "execution_count": 57,
   "id": "a8efb7cd",
   "metadata": {},
   "outputs": [
    {
     "data": {
      "text/plain": [
       "(13300, 291)"
      ]
     },
     "execution_count": 57,
     "metadata": {},
     "output_type": "execute_result"
    }
   ],
   "source": [
    "tfidf_transformer = TfidfTransformer(use_idf=False)\n",
    "X_train_tfidf = tfidf_transformer.fit_transform(X_train_counts)\n",
    "X_train_tfidf.shape"
   ]
  },
  {
   "cell_type": "code",
   "execution_count": 58,
   "id": "3626db0d",
   "metadata": {},
   "outputs": [
    {
     "data": {
      "text/html": [
       "<style>#sk-container-id-5 {color: black;background-color: white;}#sk-container-id-5 pre{padding: 0;}#sk-container-id-5 div.sk-toggleable {background-color: white;}#sk-container-id-5 label.sk-toggleable__label {cursor: pointer;display: block;width: 100%;margin-bottom: 0;padding: 0.3em;box-sizing: border-box;text-align: center;}#sk-container-id-5 label.sk-toggleable__label-arrow:before {content: \"▸\";float: left;margin-right: 0.25em;color: #696969;}#sk-container-id-5 label.sk-toggleable__label-arrow:hover:before {color: black;}#sk-container-id-5 div.sk-estimator:hover label.sk-toggleable__label-arrow:before {color: black;}#sk-container-id-5 div.sk-toggleable__content {max-height: 0;max-width: 0;overflow: hidden;text-align: left;background-color: #f0f8ff;}#sk-container-id-5 div.sk-toggleable__content pre {margin: 0.2em;color: black;border-radius: 0.25em;background-color: #f0f8ff;}#sk-container-id-5 input.sk-toggleable__control:checked~div.sk-toggleable__content {max-height: 200px;max-width: 100%;overflow: auto;}#sk-container-id-5 input.sk-toggleable__control:checked~label.sk-toggleable__label-arrow:before {content: \"▾\";}#sk-container-id-5 div.sk-estimator input.sk-toggleable__control:checked~label.sk-toggleable__label {background-color: #d4ebff;}#sk-container-id-5 div.sk-label input.sk-toggleable__control:checked~label.sk-toggleable__label {background-color: #d4ebff;}#sk-container-id-5 input.sk-hidden--visually {border: 0;clip: rect(1px 1px 1px 1px);clip: rect(1px, 1px, 1px, 1px);height: 1px;margin: -1px;overflow: hidden;padding: 0;position: absolute;width: 1px;}#sk-container-id-5 div.sk-estimator {font-family: monospace;background-color: #f0f8ff;border: 1px dotted black;border-radius: 0.25em;box-sizing: border-box;margin-bottom: 0.5em;}#sk-container-id-5 div.sk-estimator:hover {background-color: #d4ebff;}#sk-container-id-5 div.sk-parallel-item::after {content: \"\";width: 100%;border-bottom: 1px solid gray;flex-grow: 1;}#sk-container-id-5 div.sk-label:hover label.sk-toggleable__label {background-color: #d4ebff;}#sk-container-id-5 div.sk-serial::before {content: \"\";position: absolute;border-left: 1px solid gray;box-sizing: border-box;top: 0;bottom: 0;left: 50%;z-index: 0;}#sk-container-id-5 div.sk-serial {display: flex;flex-direction: column;align-items: center;background-color: white;padding-right: 0.2em;padding-left: 0.2em;position: relative;}#sk-container-id-5 div.sk-item {position: relative;z-index: 1;}#sk-container-id-5 div.sk-parallel {display: flex;align-items: stretch;justify-content: center;background-color: white;position: relative;}#sk-container-id-5 div.sk-item::before, #sk-container-id-5 div.sk-parallel-item::before {content: \"\";position: absolute;border-left: 1px solid gray;box-sizing: border-box;top: 0;bottom: 0;left: 50%;z-index: -1;}#sk-container-id-5 div.sk-parallel-item {display: flex;flex-direction: column;z-index: 1;position: relative;background-color: white;}#sk-container-id-5 div.sk-parallel-item:first-child::after {align-self: flex-end;width: 50%;}#sk-container-id-5 div.sk-parallel-item:last-child::after {align-self: flex-start;width: 50%;}#sk-container-id-5 div.sk-parallel-item:only-child::after {width: 0;}#sk-container-id-5 div.sk-dashed-wrapped {border: 1px dashed gray;margin: 0 0.4em 0.5em 0.4em;box-sizing: border-box;padding-bottom: 0.4em;background-color: white;}#sk-container-id-5 div.sk-label label {font-family: monospace;font-weight: bold;display: inline-block;line-height: 1.2em;}#sk-container-id-5 div.sk-label-container {text-align: center;}#sk-container-id-5 div.sk-container {/* jupyter's `normalize.less` sets `[hidden] { display: none; }` but bootstrap.min.css set `[hidden] { display: none !important; }` so we also need the `!important` here to be able to override the default hidden behavior on the sphinx rendered scikit-learn.org. See: https://github.com/scikit-learn/scikit-learn/issues/21755 */display: inline-block !important;position: relative;}#sk-container-id-5 div.sk-text-repr-fallback {display: none;}</style><div id=\"sk-container-id-5\" class=\"sk-top-container\"><div class=\"sk-text-repr-fallback\"><pre>Pipeline(steps=[(&#x27;vect&#x27;, CountVectorizer()), (&#x27;tfidf&#x27;, TfidfTransformer()),\n",
       "                (&#x27;clf_linearSVC&#x27;, LinearSVC())])</pre><b>In a Jupyter environment, please rerun this cell to show the HTML representation or trust the notebook. <br />On GitHub, the HTML representation is unable to render, please try loading this page with nbviewer.org.</b></div><div class=\"sk-container\" hidden><div class=\"sk-item sk-dashed-wrapped\"><div class=\"sk-label-container\"><div class=\"sk-label sk-toggleable\"><input class=\"sk-toggleable__control sk-hidden--visually\" id=\"sk-estimator-id-8\" type=\"checkbox\" ><label for=\"sk-estimator-id-8\" class=\"sk-toggleable__label sk-toggleable__label-arrow\">Pipeline</label><div class=\"sk-toggleable__content\"><pre>Pipeline(steps=[(&#x27;vect&#x27;, CountVectorizer()), (&#x27;tfidf&#x27;, TfidfTransformer()),\n",
       "                (&#x27;clf_linearSVC&#x27;, LinearSVC())])</pre></div></div></div><div class=\"sk-serial\"><div class=\"sk-item\"><div class=\"sk-estimator sk-toggleable\"><input class=\"sk-toggleable__control sk-hidden--visually\" id=\"sk-estimator-id-9\" type=\"checkbox\" ><label for=\"sk-estimator-id-9\" class=\"sk-toggleable__label sk-toggleable__label-arrow\">CountVectorizer</label><div class=\"sk-toggleable__content\"><pre>CountVectorizer()</pre></div></div></div><div class=\"sk-item\"><div class=\"sk-estimator sk-toggleable\"><input class=\"sk-toggleable__control sk-hidden--visually\" id=\"sk-estimator-id-10\" type=\"checkbox\" ><label for=\"sk-estimator-id-10\" class=\"sk-toggleable__label sk-toggleable__label-arrow\">TfidfTransformer</label><div class=\"sk-toggleable__content\"><pre>TfidfTransformer()</pre></div></div></div><div class=\"sk-item\"><div class=\"sk-estimator sk-toggleable\"><input class=\"sk-toggleable__control sk-hidden--visually\" id=\"sk-estimator-id-11\" type=\"checkbox\" ><label for=\"sk-estimator-id-11\" class=\"sk-toggleable__label sk-toggleable__label-arrow\">LinearSVC</label><div class=\"sk-toggleable__content\"><pre>LinearSVC()</pre></div></div></div></div></div></div></div>"
      ],
      "text/plain": [
       "Pipeline(steps=[('vect', CountVectorizer()), ('tfidf', TfidfTransformer()),\n",
       "                ('clf_linearSVC', LinearSVC())])"
      ]
     },
     "execution_count": 58,
     "metadata": {},
     "output_type": "execute_result"
    }
   ],
   "source": [
    "clf_linearSVC_pipe = Pipeline([(\"vect\", CountVectorizer()), \n",
    "                               (\"tfidf\", TfidfTransformer()),\n",
    "                               (\"clf_linearSVC\", LinearSVC())])\n",
    "clf_linearSVC_pipe.fit(X_train, y_train)"
   ]
  },
  {
   "cell_type": "code",
   "execution_count": 59,
   "id": "aa027625",
   "metadata": {},
   "outputs": [
    {
     "data": {
      "text/plain": [
       "0.9496579547447817"
      ]
     },
     "execution_count": 59,
     "metadata": {},
     "output_type": "execute_result"
    }
   ],
   "source": [
    "predictedLinearSVC = clf_linearSVC_pipe.predict(X_test)\n",
    "np.mean(predictedLinearSVC == y_test)"
   ]
  },
  {
   "cell_type": "code",
   "execution_count": 60,
   "id": "032cd7a9",
   "metadata": {},
   "outputs": [
    {
     "name": "stdout",
     "output_type": "stream",
     "text": [
      "              precision    recall  f1-score   support\n",
      "\n",
      "       False       0.96      0.98      0.97      4573\n",
      "        True       0.90      0.84      0.87      1128\n",
      "\n",
      "    accuracy                           0.95      5701\n",
      "   macro avg       0.93      0.91      0.92      5701\n",
      "weighted avg       0.95      0.95      0.95      5701\n",
      "\n",
      "[[4462  111]\n",
      " [ 176  952]]\n"
     ]
    }
   ],
   "source": [
    "print(classification_report(y_test,predictedLinearSVC))\n",
    "print(confusion_matrix(y_test,predictedLinearSVC))"
   ]
  },
  {
   "cell_type": "markdown",
   "id": "2bd2b723",
   "metadata": {},
   "source": [
    "#### Result\n",
    "We can see that the linearSVC algorith did very well as accuracy is around 95% for test data"
   ]
  },
  {
   "cell_type": "code",
   "execution_count": 61,
   "id": "42e38ddd",
   "metadata": {},
   "outputs": [
    {
     "name": "stdout",
     "output_type": "stream",
     "text": [
      "Prediction for offer 1: False\n",
      "Prediction for offer 2: False\n",
      "Prediction for offer 3: False\n",
      "Prediction for offer 4: False\n"
     ]
    }
   ],
   "source": [
    "offer_1 = [\"python\", \"java\", \"agile\", \"scrum\", \"english\", \"french\", \"slack\", \"jira\", \"confluence\", \"it\", \"excel\", \"vba\", \"microsoft\"]\n",
    "\n",
    "offer_2 = [\"law\", \"school\", \"jury\", \"civil\", \"law\", \"application\", \"advocate\", \"office\", \"professional\", \"diploma\", \"claim\", \"conflict\", \"represent\"]\n",
    "\n",
    "offer_3 = [\"cook\", \"food\", \"product\", \"chef\", \"restaurant\", \"coffe\", \"serve\", \"dish\", \"cook\", \"sushi\", \"food\", \"cousine\"]\n",
    "\n",
    "offer_4 = [\"stock\", \"finance\", \"accounting\", \"bookings\", \"clients\", \"shares\", \"excel\", \"transactions\", \"accounting\"]\n",
    "\n",
    "strings = [offer_1, offer_2, offer_3, offer_4]\n",
    "\n",
    "for i in range(0,len(strings)):\n",
    "    words = []\n",
    "    for word in strings[i]:\n",
    "        words.append(ps.stem(word))\n",
    "    strings[i] = words\n",
    "\n",
    "for i in range(0,len(strings)):\n",
    "    strings[i] = listToString(strings[i])\n",
    "\n",
    "test_offers = pd.DataFrame({'offer': strings})\n",
    "test_results = clf_linearSVC_pipe.predict(test_offers['offer'])\n",
    "\n",
    "for i, test_results in enumerate(test_results):\n",
    "    print(f\"Prediction for offer {i + 1}: {test_results}\")"
   ]
  },
  {
   "cell_type": "markdown",
   "id": "362370f3",
   "metadata": {},
   "source": [
    "Unfortunately we were not able to detect that offer_1 should be assigned to IT offer based on the provided keywords. Maybe we should rather use longer text that can be analysed more precisely"
   ]
  },
  {
   "cell_type": "code",
   "execution_count": 62,
   "id": "36602b7f",
   "metadata": {},
   "outputs": [],
   "source": [
    "## Prepare data\n",
    "\n",
    "Text= df_job['job_text_preprocessed'].values\n",
    "Target= df_job['IT'].values\n",
    "\n",
    "word_vectorizer = TfidfVectorizer(sublinear_tf=True)\n",
    "word_vectorizer.fit(Text)\n",
    "WordFeatures= word_vectorizer.transform(Text)\n",
    "\n",
    "X_train,X_test,y_train,y_test= train_test_split(WordFeatures, Target, random_state=42)"
   ]
  },
  {
   "cell_type": "code",
   "execution_count": 63,
   "id": "cadf4735",
   "metadata": {},
   "outputs": [],
   "source": [
    "lr = LogisticRegression(multi_class='ovr')\n",
    "knn = KNeighborsClassifier()\n",
    "rf = RandomForestClassifier()"
   ]
  },
  {
   "cell_type": "markdown",
   "id": "ac0c6e39",
   "metadata": {},
   "source": [
    "#### Logistic Regression\n",
    "\n",
    "It gives quite good results, however still we are not able to recognize offer_1 as an IT group"
   ]
  },
  {
   "cell_type": "code",
   "execution_count": 64,
   "id": "4bb09f08",
   "metadata": {},
   "outputs": [
    {
     "data": {
      "text/html": [
       "<style>#sk-container-id-6 {color: black;background-color: white;}#sk-container-id-6 pre{padding: 0;}#sk-container-id-6 div.sk-toggleable {background-color: white;}#sk-container-id-6 label.sk-toggleable__label {cursor: pointer;display: block;width: 100%;margin-bottom: 0;padding: 0.3em;box-sizing: border-box;text-align: center;}#sk-container-id-6 label.sk-toggleable__label-arrow:before {content: \"▸\";float: left;margin-right: 0.25em;color: #696969;}#sk-container-id-6 label.sk-toggleable__label-arrow:hover:before {color: black;}#sk-container-id-6 div.sk-estimator:hover label.sk-toggleable__label-arrow:before {color: black;}#sk-container-id-6 div.sk-toggleable__content {max-height: 0;max-width: 0;overflow: hidden;text-align: left;background-color: #f0f8ff;}#sk-container-id-6 div.sk-toggleable__content pre {margin: 0.2em;color: black;border-radius: 0.25em;background-color: #f0f8ff;}#sk-container-id-6 input.sk-toggleable__control:checked~div.sk-toggleable__content {max-height: 200px;max-width: 100%;overflow: auto;}#sk-container-id-6 input.sk-toggleable__control:checked~label.sk-toggleable__label-arrow:before {content: \"▾\";}#sk-container-id-6 div.sk-estimator input.sk-toggleable__control:checked~label.sk-toggleable__label {background-color: #d4ebff;}#sk-container-id-6 div.sk-label input.sk-toggleable__control:checked~label.sk-toggleable__label {background-color: #d4ebff;}#sk-container-id-6 input.sk-hidden--visually {border: 0;clip: rect(1px 1px 1px 1px);clip: rect(1px, 1px, 1px, 1px);height: 1px;margin: -1px;overflow: hidden;padding: 0;position: absolute;width: 1px;}#sk-container-id-6 div.sk-estimator {font-family: monospace;background-color: #f0f8ff;border: 1px dotted black;border-radius: 0.25em;box-sizing: border-box;margin-bottom: 0.5em;}#sk-container-id-6 div.sk-estimator:hover {background-color: #d4ebff;}#sk-container-id-6 div.sk-parallel-item::after {content: \"\";width: 100%;border-bottom: 1px solid gray;flex-grow: 1;}#sk-container-id-6 div.sk-label:hover label.sk-toggleable__label {background-color: #d4ebff;}#sk-container-id-6 div.sk-serial::before {content: \"\";position: absolute;border-left: 1px solid gray;box-sizing: border-box;top: 0;bottom: 0;left: 50%;z-index: 0;}#sk-container-id-6 div.sk-serial {display: flex;flex-direction: column;align-items: center;background-color: white;padding-right: 0.2em;padding-left: 0.2em;position: relative;}#sk-container-id-6 div.sk-item {position: relative;z-index: 1;}#sk-container-id-6 div.sk-parallel {display: flex;align-items: stretch;justify-content: center;background-color: white;position: relative;}#sk-container-id-6 div.sk-item::before, #sk-container-id-6 div.sk-parallel-item::before {content: \"\";position: absolute;border-left: 1px solid gray;box-sizing: border-box;top: 0;bottom: 0;left: 50%;z-index: -1;}#sk-container-id-6 div.sk-parallel-item {display: flex;flex-direction: column;z-index: 1;position: relative;background-color: white;}#sk-container-id-6 div.sk-parallel-item:first-child::after {align-self: flex-end;width: 50%;}#sk-container-id-6 div.sk-parallel-item:last-child::after {align-self: flex-start;width: 50%;}#sk-container-id-6 div.sk-parallel-item:only-child::after {width: 0;}#sk-container-id-6 div.sk-dashed-wrapped {border: 1px dashed gray;margin: 0 0.4em 0.5em 0.4em;box-sizing: border-box;padding-bottom: 0.4em;background-color: white;}#sk-container-id-6 div.sk-label label {font-family: monospace;font-weight: bold;display: inline-block;line-height: 1.2em;}#sk-container-id-6 div.sk-label-container {text-align: center;}#sk-container-id-6 div.sk-container {/* jupyter's `normalize.less` sets `[hidden] { display: none; }` but bootstrap.min.css set `[hidden] { display: none !important; }` so we also need the `!important` here to be able to override the default hidden behavior on the sphinx rendered scikit-learn.org. See: https://github.com/scikit-learn/scikit-learn/issues/21755 */display: inline-block !important;position: relative;}#sk-container-id-6 div.sk-text-repr-fallback {display: none;}</style><div id=\"sk-container-id-6\" class=\"sk-top-container\"><div class=\"sk-text-repr-fallback\"><pre>LogisticRegression(multi_class=&#x27;ovr&#x27;)</pre><b>In a Jupyter environment, please rerun this cell to show the HTML representation or trust the notebook. <br />On GitHub, the HTML representation is unable to render, please try loading this page with nbviewer.org.</b></div><div class=\"sk-container\" hidden><div class=\"sk-item\"><div class=\"sk-estimator sk-toggleable\"><input class=\"sk-toggleable__control sk-hidden--visually\" id=\"sk-estimator-id-12\" type=\"checkbox\" checked><label for=\"sk-estimator-id-12\" class=\"sk-toggleable__label sk-toggleable__label-arrow\">LogisticRegression</label><div class=\"sk-toggleable__content\"><pre>LogisticRegression(multi_class=&#x27;ovr&#x27;)</pre></div></div></div></div></div>"
      ],
      "text/plain": [
       "LogisticRegression(multi_class='ovr')"
      ]
     },
     "execution_count": 64,
     "metadata": {},
     "output_type": "execute_result"
    }
   ],
   "source": [
    "lr.fit(X_train, y_train)"
   ]
  },
  {
   "cell_type": "code",
   "execution_count": 65,
   "id": "30cb39e8",
   "metadata": {},
   "outputs": [
    {
     "name": "stdout",
     "output_type": "stream",
     "text": [
      "0.9457543859649122\n",
      "0.9343296148179331\n"
     ]
    }
   ],
   "source": [
    "print(lr.score(X_train, y_train))\n",
    "print(lr.score(X_test, y_test))"
   ]
  },
  {
   "cell_type": "code",
   "execution_count": 66,
   "id": "4093a6d0",
   "metadata": {},
   "outputs": [
    {
     "name": "stdout",
     "output_type": "stream",
     "text": [
      "[False False False False]\n"
     ]
    }
   ],
   "source": [
    "my_test = word_vectorizer.transform(test_offers['offer'])\n",
    "test_results = lr.predict(my_test)\n",
    "print(test_results)"
   ]
  },
  {
   "cell_type": "markdown",
   "id": "3a293fc4",
   "metadata": {},
   "source": [
    "#### KNN\n",
    "Results very similar to Logistic Regression"
   ]
  },
  {
   "cell_type": "code",
   "execution_count": 67,
   "id": "286b6650",
   "metadata": {},
   "outputs": [
    {
     "data": {
      "text/html": [
       "<style>#sk-container-id-7 {color: black;background-color: white;}#sk-container-id-7 pre{padding: 0;}#sk-container-id-7 div.sk-toggleable {background-color: white;}#sk-container-id-7 label.sk-toggleable__label {cursor: pointer;display: block;width: 100%;margin-bottom: 0;padding: 0.3em;box-sizing: border-box;text-align: center;}#sk-container-id-7 label.sk-toggleable__label-arrow:before {content: \"▸\";float: left;margin-right: 0.25em;color: #696969;}#sk-container-id-7 label.sk-toggleable__label-arrow:hover:before {color: black;}#sk-container-id-7 div.sk-estimator:hover label.sk-toggleable__label-arrow:before {color: black;}#sk-container-id-7 div.sk-toggleable__content {max-height: 0;max-width: 0;overflow: hidden;text-align: left;background-color: #f0f8ff;}#sk-container-id-7 div.sk-toggleable__content pre {margin: 0.2em;color: black;border-radius: 0.25em;background-color: #f0f8ff;}#sk-container-id-7 input.sk-toggleable__control:checked~div.sk-toggleable__content {max-height: 200px;max-width: 100%;overflow: auto;}#sk-container-id-7 input.sk-toggleable__control:checked~label.sk-toggleable__label-arrow:before {content: \"▾\";}#sk-container-id-7 div.sk-estimator input.sk-toggleable__control:checked~label.sk-toggleable__label {background-color: #d4ebff;}#sk-container-id-7 div.sk-label input.sk-toggleable__control:checked~label.sk-toggleable__label {background-color: #d4ebff;}#sk-container-id-7 input.sk-hidden--visually {border: 0;clip: rect(1px 1px 1px 1px);clip: rect(1px, 1px, 1px, 1px);height: 1px;margin: -1px;overflow: hidden;padding: 0;position: absolute;width: 1px;}#sk-container-id-7 div.sk-estimator {font-family: monospace;background-color: #f0f8ff;border: 1px dotted black;border-radius: 0.25em;box-sizing: border-box;margin-bottom: 0.5em;}#sk-container-id-7 div.sk-estimator:hover {background-color: #d4ebff;}#sk-container-id-7 div.sk-parallel-item::after {content: \"\";width: 100%;border-bottom: 1px solid gray;flex-grow: 1;}#sk-container-id-7 div.sk-label:hover label.sk-toggleable__label {background-color: #d4ebff;}#sk-container-id-7 div.sk-serial::before {content: \"\";position: absolute;border-left: 1px solid gray;box-sizing: border-box;top: 0;bottom: 0;left: 50%;z-index: 0;}#sk-container-id-7 div.sk-serial {display: flex;flex-direction: column;align-items: center;background-color: white;padding-right: 0.2em;padding-left: 0.2em;position: relative;}#sk-container-id-7 div.sk-item {position: relative;z-index: 1;}#sk-container-id-7 div.sk-parallel {display: flex;align-items: stretch;justify-content: center;background-color: white;position: relative;}#sk-container-id-7 div.sk-item::before, #sk-container-id-7 div.sk-parallel-item::before {content: \"\";position: absolute;border-left: 1px solid gray;box-sizing: border-box;top: 0;bottom: 0;left: 50%;z-index: -1;}#sk-container-id-7 div.sk-parallel-item {display: flex;flex-direction: column;z-index: 1;position: relative;background-color: white;}#sk-container-id-7 div.sk-parallel-item:first-child::after {align-self: flex-end;width: 50%;}#sk-container-id-7 div.sk-parallel-item:last-child::after {align-self: flex-start;width: 50%;}#sk-container-id-7 div.sk-parallel-item:only-child::after {width: 0;}#sk-container-id-7 div.sk-dashed-wrapped {border: 1px dashed gray;margin: 0 0.4em 0.5em 0.4em;box-sizing: border-box;padding-bottom: 0.4em;background-color: white;}#sk-container-id-7 div.sk-label label {font-family: monospace;font-weight: bold;display: inline-block;line-height: 1.2em;}#sk-container-id-7 div.sk-label-container {text-align: center;}#sk-container-id-7 div.sk-container {/* jupyter's `normalize.less` sets `[hidden] { display: none; }` but bootstrap.min.css set `[hidden] { display: none !important; }` so we also need the `!important` here to be able to override the default hidden behavior on the sphinx rendered scikit-learn.org. See: https://github.com/scikit-learn/scikit-learn/issues/21755 */display: inline-block !important;position: relative;}#sk-container-id-7 div.sk-text-repr-fallback {display: none;}</style><div id=\"sk-container-id-7\" class=\"sk-top-container\"><div class=\"sk-text-repr-fallback\"><pre>KNeighborsClassifier()</pre><b>In a Jupyter environment, please rerun this cell to show the HTML representation or trust the notebook. <br />On GitHub, the HTML representation is unable to render, please try loading this page with nbviewer.org.</b></div><div class=\"sk-container\" hidden><div class=\"sk-item\"><div class=\"sk-estimator sk-toggleable\"><input class=\"sk-toggleable__control sk-hidden--visually\" id=\"sk-estimator-id-13\" type=\"checkbox\" checked><label for=\"sk-estimator-id-13\" class=\"sk-toggleable__label sk-toggleable__label-arrow\">KNeighborsClassifier</label><div class=\"sk-toggleable__content\"><pre>KNeighborsClassifier()</pre></div></div></div></div></div>"
      ],
      "text/plain": [
       "KNeighborsClassifier()"
      ]
     },
     "execution_count": 67,
     "metadata": {},
     "output_type": "execute_result"
    }
   ],
   "source": [
    "knn.fit(X_train, y_train)"
   ]
  },
  {
   "cell_type": "code",
   "execution_count": 68,
   "id": "8daa7bbf",
   "metadata": {},
   "outputs": [
    {
     "name": "stdout",
     "output_type": "stream",
     "text": [
      "0.9517192982456141\n",
      "0.931172384761103\n"
     ]
    }
   ],
   "source": [
    "print(knn.score(X_train, y_train))\n",
    "print(knn.score(X_test, y_test))"
   ]
  },
  {
   "cell_type": "code",
   "execution_count": 69,
   "id": "733cb493",
   "metadata": {},
   "outputs": [
    {
     "name": "stdout",
     "output_type": "stream",
     "text": [
      "[False False False False]\n"
     ]
    }
   ],
   "source": [
    "my_test = word_vectorizer.transform(test_offers['offer'])\n",
    "test_results = knn.predict(my_test)\n",
    "print(test_results)"
   ]
  },
  {
   "cell_type": "markdown",
   "id": "5fd60cc1",
   "metadata": {},
   "source": [
    "#### Random Forrest\n",
    "It seems that it has a little beter results than previous algorithms but still is unable to predict our offer_1"
   ]
  },
  {
   "cell_type": "code",
   "execution_count": 70,
   "id": "a30302f9",
   "metadata": {},
   "outputs": [
    {
     "data": {
      "text/html": [
       "<style>#sk-container-id-8 {color: black;background-color: white;}#sk-container-id-8 pre{padding: 0;}#sk-container-id-8 div.sk-toggleable {background-color: white;}#sk-container-id-8 label.sk-toggleable__label {cursor: pointer;display: block;width: 100%;margin-bottom: 0;padding: 0.3em;box-sizing: border-box;text-align: center;}#sk-container-id-8 label.sk-toggleable__label-arrow:before {content: \"▸\";float: left;margin-right: 0.25em;color: #696969;}#sk-container-id-8 label.sk-toggleable__label-arrow:hover:before {color: black;}#sk-container-id-8 div.sk-estimator:hover label.sk-toggleable__label-arrow:before {color: black;}#sk-container-id-8 div.sk-toggleable__content {max-height: 0;max-width: 0;overflow: hidden;text-align: left;background-color: #f0f8ff;}#sk-container-id-8 div.sk-toggleable__content pre {margin: 0.2em;color: black;border-radius: 0.25em;background-color: #f0f8ff;}#sk-container-id-8 input.sk-toggleable__control:checked~div.sk-toggleable__content {max-height: 200px;max-width: 100%;overflow: auto;}#sk-container-id-8 input.sk-toggleable__control:checked~label.sk-toggleable__label-arrow:before {content: \"▾\";}#sk-container-id-8 div.sk-estimator input.sk-toggleable__control:checked~label.sk-toggleable__label {background-color: #d4ebff;}#sk-container-id-8 div.sk-label input.sk-toggleable__control:checked~label.sk-toggleable__label {background-color: #d4ebff;}#sk-container-id-8 input.sk-hidden--visually {border: 0;clip: rect(1px 1px 1px 1px);clip: rect(1px, 1px, 1px, 1px);height: 1px;margin: -1px;overflow: hidden;padding: 0;position: absolute;width: 1px;}#sk-container-id-8 div.sk-estimator {font-family: monospace;background-color: #f0f8ff;border: 1px dotted black;border-radius: 0.25em;box-sizing: border-box;margin-bottom: 0.5em;}#sk-container-id-8 div.sk-estimator:hover {background-color: #d4ebff;}#sk-container-id-8 div.sk-parallel-item::after {content: \"\";width: 100%;border-bottom: 1px solid gray;flex-grow: 1;}#sk-container-id-8 div.sk-label:hover label.sk-toggleable__label {background-color: #d4ebff;}#sk-container-id-8 div.sk-serial::before {content: \"\";position: absolute;border-left: 1px solid gray;box-sizing: border-box;top: 0;bottom: 0;left: 50%;z-index: 0;}#sk-container-id-8 div.sk-serial {display: flex;flex-direction: column;align-items: center;background-color: white;padding-right: 0.2em;padding-left: 0.2em;position: relative;}#sk-container-id-8 div.sk-item {position: relative;z-index: 1;}#sk-container-id-8 div.sk-parallel {display: flex;align-items: stretch;justify-content: center;background-color: white;position: relative;}#sk-container-id-8 div.sk-item::before, #sk-container-id-8 div.sk-parallel-item::before {content: \"\";position: absolute;border-left: 1px solid gray;box-sizing: border-box;top: 0;bottom: 0;left: 50%;z-index: -1;}#sk-container-id-8 div.sk-parallel-item {display: flex;flex-direction: column;z-index: 1;position: relative;background-color: white;}#sk-container-id-8 div.sk-parallel-item:first-child::after {align-self: flex-end;width: 50%;}#sk-container-id-8 div.sk-parallel-item:last-child::after {align-self: flex-start;width: 50%;}#sk-container-id-8 div.sk-parallel-item:only-child::after {width: 0;}#sk-container-id-8 div.sk-dashed-wrapped {border: 1px dashed gray;margin: 0 0.4em 0.5em 0.4em;box-sizing: border-box;padding-bottom: 0.4em;background-color: white;}#sk-container-id-8 div.sk-label label {font-family: monospace;font-weight: bold;display: inline-block;line-height: 1.2em;}#sk-container-id-8 div.sk-label-container {text-align: center;}#sk-container-id-8 div.sk-container {/* jupyter's `normalize.less` sets `[hidden] { display: none; }` but bootstrap.min.css set `[hidden] { display: none !important; }` so we also need the `!important` here to be able to override the default hidden behavior on the sphinx rendered scikit-learn.org. See: https://github.com/scikit-learn/scikit-learn/issues/21755 */display: inline-block !important;position: relative;}#sk-container-id-8 div.sk-text-repr-fallback {display: none;}</style><div id=\"sk-container-id-8\" class=\"sk-top-container\"><div class=\"sk-text-repr-fallback\"><pre>RandomForestClassifier()</pre><b>In a Jupyter environment, please rerun this cell to show the HTML representation or trust the notebook. <br />On GitHub, the HTML representation is unable to render, please try loading this page with nbviewer.org.</b></div><div class=\"sk-container\" hidden><div class=\"sk-item\"><div class=\"sk-estimator sk-toggleable\"><input class=\"sk-toggleable__control sk-hidden--visually\" id=\"sk-estimator-id-14\" type=\"checkbox\" checked><label for=\"sk-estimator-id-14\" class=\"sk-toggleable__label sk-toggleable__label-arrow\">RandomForestClassifier</label><div class=\"sk-toggleable__content\"><pre>RandomForestClassifier()</pre></div></div></div></div></div>"
      ],
      "text/plain": [
       "RandomForestClassifier()"
      ]
     },
     "execution_count": 70,
     "metadata": {},
     "output_type": "execute_result"
    }
   ],
   "source": [
    "rf.fit(X_train, y_train)"
   ]
  },
  {
   "cell_type": "code",
   "execution_count": 71,
   "id": "aa9845b0",
   "metadata": {},
   "outputs": [
    {
     "name": "stdout",
     "output_type": "stream",
     "text": [
      "1.0\n",
      "0.9465375710376763\n"
     ]
    }
   ],
   "source": [
    "print(rf.score(X_train, y_train))\n",
    "print(rf.score(X_test, y_test))"
   ]
  },
  {
   "cell_type": "code",
   "execution_count": 72,
   "id": "194f7d02",
   "metadata": {},
   "outputs": [
    {
     "name": "stdout",
     "output_type": "stream",
     "text": [
      "[False False False False]\n"
     ]
    }
   ],
   "source": [
    "my_test = word_vectorizer.transform(test_offers['offer'])\n",
    "test_results = rf.predict(my_test)\n",
    "print(test_results)"
   ]
  },
  {
   "cell_type": "markdown",
   "id": "4ce86509",
   "metadata": {},
   "source": [
    "## 3rd business case\n",
    "We are jobs offer portal and we gather both CVs and Resumes. We want to provide a service that will somehow connect chosen offer/resume so that both sides can contact potential employer/employee from portal reccomendation"
   ]
  },
  {
   "cell_type": "markdown",
   "id": "bf6eb290",
   "metadata": {},
   "source": [
    "First let us test if similarity measures works with one example. We will use n_similarity that is within gensim package. Iwith window = 5 we are able to set searching for word embedings that will have a poitive outcome as it will grab more context for each word (2 previous and 2 afterwards words).\n",
    "\n",
    "What is more there will be used Jacard similarity that is calculated as words intersections within 2 documents divided by words union from 2 documents. It is not the perfet measure but still it can help us to find job offers and resumes that are similar based on the indication that is higher than average or median."
   ]
  },
  {
   "cell_type": "code",
   "execution_count": 73,
   "id": "08b0d038",
   "metadata": {},
   "outputs": [
    {
     "name": "stdout",
     "output_type": "stream",
     "text": [
      "skill program languag python panda numpi scipi scikit learn matplotlib sql java javascript jqueri machin learn regress svm nave bay knn random forest decis tree boost techniqu cluster analysi word embed sentiment analysi natur languag process dimension reduct topic model lda nmf pca neural net databas visual mysql sqlserver cassandra hbase elasticsearch js dc js plotli kibana matplotlib ggplot tableau regular express html css angular logstash kafka python flask git docker comput vision open cv understand deep learn educ detail data scienc assur associ data scienc assur associ ernst young llp skill detail javascript exprienc month jqueri exprienc month python exprienc monthscompani detail compani ernst young llp descript fraud investig disput servic assur technolog assist review tar technolog assist review assist acceler review process run analyt gener report core member team help develop autom review platform tool scratch assist e discoveri domain tool implement predict code topic model autom review result reduc labor cost time spent lawyer review understand end end flow solut research develop classif model predict analysi mine inform present text data work analyz output precis monitor entir tool tar assist predict code topic model evid follow ey standard develop classifi model order identifi red flag fraud relat issu tool technolog python scikit learn tfidf word vec doc vec cosin similar nave bay lda nmf topic model vader text blob sentiment analysi matplot lib tableau dashboard report multipl data scienc analyt project usa client text analyt motor vehicl custom review data receiv custom feedback survey data past one year perform sentiment posit neg neutral time seri analysi custom comment across categori creat heat map term survey categori base frequenc word extract posit neg word across survey categori plot word cloud creat custom tableau dashboard effect report visual chatbot develop user friendli chatbot one product handl simpl question hour oper reserv option chat bot serv entir product relat question give overview tool via qa platform also give recommend respons user question build chain relev answer intellig build pipelin question per user requir ask relev recommend question tool technolog python natur languag process nltk spaci topic model sentiment analysi word embed scikit learn javascript jqueri sqlserver inform govern organ make inform decis inform store integr inform govern portfolio synthes intellig across unstructur data sourc facilit action ensur organ best posit counter inform risk scan data multipl sourc format pars differ file format extract meta data inform push result index elast search creat custom interact dashboard use kibana preform rot analysi data give inform data help identifi content either redund outdat trivial preform full text search analysi elast search predefin method tag pii person identifi inform social secur number address name etc frequent target cyber attack tool technolog python flask elast search kibana fraud analyt platform fraud analyt investig platform review red flag case fap fraud analyt investig platform inbuilt case manag suit analyt variou erp system use client interrog account system identifi anomali indic fraud run advanc analyt tool technolog html javascript sqlserver jqueri css bootstrap node js js dc js \n",
      "hpla armenian divis synopsi inc titl qualiti engin locat yerevan armenia job descript challeng posit provid opportun sw test qa particular emphasi semiconductor technolog character appli design manufactur posit includ sw test qualiti assur engin gain respons rapidli experi enjoy particip fast grow entrepreneuri ventur manag project team requir qualif bs ms degre prefer microelectron semiconductor technolog appropri engin area year bs year ms work experi correspond area understand semiconductor devic physic process integr graduat level understand plu experi softwar test understand softwar test method knowledg softwar test document util understand dc ac circuit theori familiar semiconductor cad tool includ physic layout circuit simul knowledg gdsii knowledg unix linux script write perl tcl tk knowledg c c knowledg purifi code coverag tool option good written verbal english languag skill abil work pressur demonstr strong leadership interperson skill applic procedur interest candid e mail detail resum hand deliveri pleas akrishch attent anahit krishchyan clearli mention tester icwb subject line email pleas clearli mention applic letter learn job opportun career center mention url websit www careercent thank open date novemb applic deadlin novemb place free post job career relat opportun avail organ go www careercent websit follow post announc link \n",
      "Similarity score:  0.649318\n",
      "0.07213930348258707\n"
     ]
    }
   ],
   "source": [
    "from gensim.models import Word2Vec\n",
    "\n",
    "## vectorize the documents using the model's `wv` attribute\n",
    "\n",
    "doc1 = df_resume['resume_text_preprocessed'][10]\n",
    "doc2 = df_job['job_text_preprocessed'][3000]\n",
    "\n",
    "print(doc1)\n",
    "print(doc2)\n",
    "\n",
    "sentences = [doc1.split(),doc2.split()]\n",
    "\n",
    "model = Word2Vec(sentences, sg=1, window=5, min_count=1)\n",
    "\n",
    "doc1_vec = model.wv[doc1.split()]\n",
    "doc2_vec = model.wv[doc2.split()]\n",
    "\n",
    "## compute the similarity using the `n_similarity()` method\n",
    "similarity = model.wv.n_similarity(doc1_vec, doc2_vec)\n",
    "\n",
    "print(\"Similarity score: \", similarity)\n",
    "\n",
    "job_offer_words = doc1.split()\n",
    "resume_words = doc2.split()\n",
    "\n",
    "## convert to sets\n",
    "job_offer_set = set(job_offer_words)\n",
    "resume_set = set(resume_words)\n",
    "\n",
    "## calculate intersection and union\n",
    "intersection = job_offer_set.intersection(resume_set)\n",
    "union = job_offer_set.union(resume_set)\n",
    "\n",
    "## calculate Jaccard similarity\n",
    "jaccard_similarity = len(intersection) / len(union)\n",
    "print(jaccard_similarity)\n"
   ]
  },
  {
   "cell_type": "markdown",
   "id": "c530cf1e",
   "metadata": {},
   "source": [
    "Now we will sample 1000 job offers and 100 resumes to calculate both n_similarity and jaccard measure. Then we will look for pairs with highest value and asess if they are truly similar.\n",
    "\n",
    "The assumption behind the analysis is that the similarity is based on the keywords used. It is not the best similarity measure, however we will see how good results will it give.\n",
    "\n",
    "Warning: running this chunk of code may take quite a lot of time, that is why I decided to use samples insted of all job offers and resumes"
   ]
  },
  {
   "cell_type": "code",
   "execution_count": 74,
   "id": "80be35b3",
   "metadata": {},
   "outputs": [
    {
     "name": "stdout",
     "output_type": "stream",
     "text": [
      "1\n",
      "2\n",
      "3\n",
      "4\n",
      "5\n",
      "6\n",
      "7\n",
      "8\n",
      "9\n",
      "10\n",
      "11\n",
      "12\n",
      "13\n",
      "14\n",
      "15\n",
      "16\n",
      "17\n",
      "18\n",
      "19\n",
      "20\n",
      "21\n",
      "22\n",
      "23\n",
      "24\n",
      "25\n",
      "26\n",
      "27\n",
      "28\n",
      "29\n",
      "30\n",
      "31\n",
      "32\n",
      "33\n",
      "34\n",
      "35\n",
      "36\n",
      "37\n",
      "38\n",
      "39\n",
      "40\n",
      "41\n",
      "42\n",
      "43\n",
      "44\n",
      "45\n",
      "46\n",
      "47\n",
      "48\n",
      "49\n",
      "50\n",
      "51\n",
      "52\n",
      "53\n",
      "54\n",
      "55\n",
      "56\n",
      "57\n",
      "58\n",
      "59\n",
      "60\n",
      "61\n",
      "62\n",
      "63\n",
      "64\n",
      "65\n",
      "66\n",
      "67\n",
      "68\n",
      "69\n",
      "70\n",
      "71\n",
      "72\n",
      "73\n",
      "74\n",
      "75\n",
      "76\n",
      "77\n",
      "78\n",
      "79\n",
      "80\n",
      "81\n",
      "82\n",
      "83\n",
      "84\n",
      "85\n",
      "86\n",
      "87\n",
      "88\n",
      "89\n",
      "90\n",
      "91\n",
      "92\n",
      "93\n",
      "94\n",
      "95\n",
      "96\n",
      "97\n",
      "98\n",
      "99\n"
     ]
    }
   ],
   "source": [
    "df_compare = pd.DataFrame({'resume': [], 'offer':[], 'n_similarity':[], 'jaccard':[]})\n",
    "\n",
    "df_job_subset = df_job.sample(n = 1000, random_state = 42)\n",
    "df_job_subset = df_job_subset.reset_index()\n",
    "\n",
    "df_resume_subset = df_resume.sample(n = 100, random_state = 42)\n",
    "df_resume_subset = df_resume_subset.reset_index()\n",
    "\n",
    "for i in range(1,len(df_resume_subset)):\n",
    "    print(i)\n",
    "    for j in range(1, len(df_job_subset)):\n",
    "        #print(j)\n",
    "        doc1 = df_resume_subset['resume_text_preprocessed'][i]\n",
    "        doc2 = df_job_subset['job_text_preprocessed'][j]\n",
    "        \n",
    "        sentences = [doc1.split(),doc2.split()]\n",
    "        model = Word2Vec(sentences, sg=1, window=5, min_count=1)\n",
    "        \n",
    "        doc1_vec = model.wv[doc1.split()]\n",
    "        doc2_vec = model.wv[doc2.split()]\n",
    "\n",
    "        ## compute the similarity using the `n_similarity()` method\n",
    "        similarity = model.wv.n_similarity(doc1_vec, doc2_vec)\n",
    "\n",
    "        ## Jaccard based on words\n",
    "        resume_words = doc1.split()\n",
    "        job_offer_words = doc2.split()\n",
    "\n",
    "        ## convert to sets\n",
    "        job_offer_set = set(job_offer_words)\n",
    "        resume_set = set(resume_words)\n",
    "\n",
    "        ## calculate intersection and union\n",
    "        intersection = job_offer_set.intersection(resume_set)\n",
    "        union = job_offer_set.union(resume_set)\n",
    "\n",
    "        ## calculate Jaccard similarity\n",
    "        jaccard_similarity = len(intersection) / len(union)\n",
    "        \n",
    "        row = {'resume': doc1, 'offer': doc2, 'n_similarity': similarity, 'jaccard': jaccard_similarity}\n",
    "        df_compare = df_compare.append(row, ignore_index = True)"
   ]
  },
  {
   "cell_type": "markdown",
   "id": "4bb31590",
   "metadata": {},
   "source": [
    "Let us take a look at the structure of obtained dataframe"
   ]
  },
  {
   "cell_type": "code",
   "execution_count": 75,
   "id": "d1e06a0b",
   "metadata": {},
   "outputs": [
    {
     "data": {
      "text/html": [
       "<div>\n",
       "<style scoped>\n",
       "    .dataframe tbody tr th:only-of-type {\n",
       "        vertical-align: middle;\n",
       "    }\n",
       "\n",
       "    .dataframe tbody tr th {\n",
       "        vertical-align: top;\n",
       "    }\n",
       "\n",
       "    .dataframe thead th {\n",
       "        text-align: right;\n",
       "    }\n",
       "</style>\n",
       "<table border=\"1\" class=\"dataframe\">\n",
       "  <thead>\n",
       "    <tr style=\"text-align: right;\">\n",
       "      <th></th>\n",
       "      <th>resume</th>\n",
       "      <th>offer</th>\n",
       "      <th>n_similarity</th>\n",
       "      <th>jaccard</th>\n",
       "    </tr>\n",
       "  </thead>\n",
       "  <tbody>\n",
       "    <tr>\n",
       "      <th>0</th>\n",
       "      <td>technicalskil springmvc hibern jdbc java j ee ...</td>\n",
       "      <td>armenia intern airport cjc titl win k server a...</td>\n",
       "      <td>0.337464</td>\n",
       "      <td>0.046053</td>\n",
       "    </tr>\n",
       "    <tr>\n",
       "      <th>1</th>\n",
       "      <td>technicalskil springmvc hibern jdbc java j ee ...</td>\n",
       "      <td>questrad armenia titl ui web engin durat perma...</td>\n",
       "      <td>0.628565</td>\n",
       "      <td>0.045113</td>\n",
       "    </tr>\n",
       "    <tr>\n",
       "      <th>2</th>\n",
       "      <td>technicalskil springmvc hibern jdbc java j ee ...</td>\n",
       "      <td>deutsch gesellschaft fr international zusammen...</td>\n",
       "      <td>0.713301</td>\n",
       "      <td>0.028902</td>\n",
       "    </tr>\n",
       "    <tr>\n",
       "      <th>3</th>\n",
       "      <td>technicalskil springmvc hibern jdbc java j ee ...</td>\n",
       "      <td>post vitro project titl web applic develop ter...</td>\n",
       "      <td>0.333658</td>\n",
       "      <td>0.063953</td>\n",
       "    </tr>\n",
       "    <tr>\n",
       "      <th>4</th>\n",
       "      <td>technicalskil springmvc hibern jdbc java j ee ...</td>\n",
       "      <td>ingo armenia icjsc titl medic insur underwrit ...</td>\n",
       "      <td>0.467203</td>\n",
       "      <td>0.031818</td>\n",
       "    </tr>\n",
       "  </tbody>\n",
       "</table>\n",
       "</div>"
      ],
      "text/plain": [
       "                                              resume  \\\n",
       "0  technicalskil springmvc hibern jdbc java j ee ...   \n",
       "1  technicalskil springmvc hibern jdbc java j ee ...   \n",
       "2  technicalskil springmvc hibern jdbc java j ee ...   \n",
       "3  technicalskil springmvc hibern jdbc java j ee ...   \n",
       "4  technicalskil springmvc hibern jdbc java j ee ...   \n",
       "\n",
       "                                               offer  n_similarity   jaccard  \n",
       "0  armenia intern airport cjc titl win k server a...      0.337464  0.046053  \n",
       "1  questrad armenia titl ui web engin durat perma...      0.628565  0.045113  \n",
       "2  deutsch gesellschaft fr international zusammen...      0.713301  0.028902  \n",
       "3  post vitro project titl web applic develop ter...      0.333658  0.063953  \n",
       "4  ingo armenia icjsc titl medic insur underwrit ...      0.467203  0.031818  "
      ]
     },
     "execution_count": 75,
     "metadata": {},
     "output_type": "execute_result"
    }
   ],
   "source": [
    "df_compare.head()"
   ]
  },
  {
   "cell_type": "markdown",
   "id": "9cbd50ad",
   "metadata": {},
   "source": [
    "Group dataframe by unique resuems with highest n_similarity measure"
   ]
  },
  {
   "cell_type": "code",
   "execution_count": 76,
   "id": "1cbab33b",
   "metadata": {},
   "outputs": [],
   "source": [
    "df_grouped = df_compare.loc[df_compare.groupby('resume')['n_similarity'].idxmax()]"
   ]
  },
  {
   "cell_type": "code",
   "execution_count": 77,
   "id": "fe860f8b",
   "metadata": {},
   "outputs": [
    {
     "data": {
      "text/html": [
       "<div>\n",
       "<style scoped>\n",
       "    .dataframe tbody tr th:only-of-type {\n",
       "        vertical-align: middle;\n",
       "    }\n",
       "\n",
       "    .dataframe tbody tr th {\n",
       "        vertical-align: top;\n",
       "    }\n",
       "\n",
       "    .dataframe thead th {\n",
       "        text-align: right;\n",
       "    }\n",
       "</style>\n",
       "<table border=\"1\" class=\"dataframe\">\n",
       "  <thead>\n",
       "    <tr style=\"text-align: right;\">\n",
       "      <th></th>\n",
       "      <th>resume</th>\n",
       "      <th>offer</th>\n",
       "      <th>n_similarity</th>\n",
       "      <th>jaccard</th>\n",
       "    </tr>\n",
       "  </thead>\n",
       "  <tbody>\n",
       "    <tr>\n",
       "      <th>46695</th>\n",
       "      <td>addit qualif april web design cours averag com...</td>\n",
       "      <td>osc offic yerevan titl consult develop anti tr...</td>\n",
       "      <td>0.993259</td>\n",
       "      <td>0.159509</td>\n",
       "    </tr>\n",
       "    <tr>\n",
       "      <th>56824</th>\n",
       "      <td>area expertis profil around plu year proven ex...</td>\n",
       "      <td>center agribusi rural develop card titl progra...</td>\n",
       "      <td>0.994515</td>\n",
       "      <td>0.181818</td>\n",
       "    </tr>\n",
       "    <tr>\n",
       "      <th>14727</th>\n",
       "      <td>comput knowledg draft tool autocad packag ms o...</td>\n",
       "      <td>osc offic yerevan titl consult develop anti tr...</td>\n",
       "      <td>0.966563</td>\n",
       "      <td>0.098513</td>\n",
       "    </tr>\n",
       "    <tr>\n",
       "      <th>57684</th>\n",
       "      <td>comput skill holder valid ksa licens basic com...</td>\n",
       "      <td>osc offic yerevan titl consult develop anti tr...</td>\n",
       "      <td>0.971973</td>\n",
       "      <td>0.073741</td>\n",
       "    </tr>\n",
       "    <tr>\n",
       "      <th>12729</th>\n",
       "      <td>comput skill profici ms offic word basic excel...</td>\n",
       "      <td>osc offic yerevan titl consult develop anti tr...</td>\n",
       "      <td>0.951261</td>\n",
       "      <td>0.063618</td>\n",
       "    </tr>\n",
       "  </tbody>\n",
       "</table>\n",
       "</div>"
      ],
      "text/plain": [
       "                                                  resume  \\\n",
       "46695  addit qualif april web design cours averag com...   \n",
       "56824  area expertis profil around plu year proven ex...   \n",
       "14727  comput knowledg draft tool autocad packag ms o...   \n",
       "57684  comput skill holder valid ksa licens basic com...   \n",
       "12729  comput skill profici ms offic word basic excel...   \n",
       "\n",
       "                                                   offer  n_similarity  \\\n",
       "46695  osc offic yerevan titl consult develop anti tr...      0.993259   \n",
       "56824  center agribusi rural develop card titl progra...      0.994515   \n",
       "14727  osc offic yerevan titl consult develop anti tr...      0.966563   \n",
       "57684  osc offic yerevan titl consult develop anti tr...      0.971973   \n",
       "12729  osc offic yerevan titl consult develop anti tr...      0.951261   \n",
       "\n",
       "        jaccard  \n",
       "46695  0.159509  \n",
       "56824  0.181818  \n",
       "14727  0.098513  \n",
       "57684  0.073741  \n",
       "12729  0.063618  "
      ]
     },
     "execution_count": 77,
     "metadata": {},
     "output_type": "execute_result"
    }
   ],
   "source": [
    "df_grouped.head()"
   ]
  },
  {
   "cell_type": "markdown",
   "id": "49f9ab62",
   "metadata": {},
   "source": [
    "Now we can compare if the job offer and resume are in line with each other and could be reccomended for employee / employer"
   ]
  },
  {
   "cell_type": "code",
   "execution_count": 78,
   "id": "cad5dc5e",
   "metadata": {},
   "outputs": [
    {
     "data": {
      "text/plain": [
       "'area expertis profil around plu year proven experi best global brand wipro expertis pmo itil manag process improv project process audit plan schedul effort issu risk track risk issu manag sla manag workforc staf resourc manag transit oper manag skill project manag tool ca clariti visio offic itil incid manag recruit workforc manag technic sap hr mr cpro confluenc microsoft offic word powerpoint excel knowledg hand experi advanc ms excel knowledg ms project sharepoint report ticket tool xtraction ca servic desk tracker educ detail mba hr financ bengaluru karnataka rkim colleg senior execut pmo senior execut pmo consult skill detail oper exprienc month staf exprienc month hr exprienc month pmo exprienc monthscompani detail compani ensono llp descript role andresponsiblit respons creation structur report present senior delieri manag per busi requir design draft variou report per busi requir respons creation mom chase peopl get sla driven time achiev target result time assist project manag creat rr deput invoic bill activit maintain clariti sharepoint data servic deliveri manag perform custom invoc direct cem sdm weekli prepar sla kpi data base manual tracker share client senior manag project implement manag invoic bill manag particip establish client contractu document experi variou deliveri model like manag servic fix price tandm sla base risk penalti requir manag sla target save penalti toward custom drive sla call plu custom multipl tower spoc time floor analysi tofa report highlight employe tailgat data high level manag ensur complianc relat issu floor mainten ensur asal join formal board activ new employe identifi drivekey metric like bill effici resourc util maintain project librari file record report system monitor project progress risk roadblock opportun manag commun stakehold develop flow chart sop ad maintain process chang databaseand monitor sever call prepar monthli report oper report capac util report timesheet report sla compliancereport quarterli report oper report quarter trend intern report allow bill report repositori mainten document creat project sub project plan monitor progress schedul maintain risk issu log activ particip project manag commun respons project cost schedul budget revenueand mileston progress compani wipro technolog descript role andresponsiblit respons creation structur report present senior delieri manag per busi requir design draft variou report per busi requir respons creation mom chase peopl get sla driven time achiev target result time assist project manag creat rr deput invoic bill activit maintain clariti sharepoint data servic deliveri manag perform custom invoc direct cem sdm weekli prepar sla kpi data base manual tracker share client senior manag project implement manag invoic bill manag particip establish client contractu document experi variou deliveri model like manag servic fix price tandm sla base risk penalti requir manag sla target save penalti toward custom drive sla call plu custom multipl tower spoc time floor analysi tofa report highlight employe tailgat data high level manag ensur complianc relat issu floor mainten ensur asal join formal board activ new employe identifi drivekey metric like bill effici resourc util maintain project librari file record report system monitor project progress risk roadblock opportun manag commun stakehold develop flow chart sop ad maintain process chang databaseand monitor sever call prepar monthli report oper report capac util report timesheet report sla compliancereport quarterli report oper report quarter trend intern report allow bill report repositori mainten document creat project sub project plan monitor progress schedul maintain risk issu log activ particip project manag commun respons project cost schedul budget revenueand mileston progress compani wipro infotech descript respons monitor manag headcount actual vs plan region maintain headcount ratio revenu maintain monitor correct tag sap project tag supervisor tag org unit cost center region financi maintain properli respons provid exact accur headcount report gm calcul respons manag bench manag deploy resourc respons manag drive tenur manag elig employe deploy accord aspir busi need respons hire maintain rooki ratio locat activ track train deploy analyz past volum staf pattern implement action base forecast provid resourc crunch address make sure avail resourc time go live valid head count plan project work stake holder servic deliveri manag optim resourc ensur requir wfm data track trend continu basi nld team identifi resourc complet tenur project plan train help train team elev higher role back fill rooki trb te wim sim interfac servic deliveri manag director need escal servic impact issu due resourc avail coordin stake holder oper interfac client handl account manag issu add resourc per requir manag staff schedul respons workforc manag team region bu prepar daili weekli monthli report distribut manag team manag staf ratio seat util optim ensur project goal met build effect work relationship intern depart take care special project pwd rooki hire model train deploy person detail dob pan awvpb n passport j linguist abil english hindi marathi kannada konkani locat pune india marit statu marri '"
      ]
     },
     "execution_count": 78,
     "metadata": {},
     "output_type": "execute_result"
    }
   ],
   "source": [
    "df_compare['resume'][56824]"
   ]
  },
  {
   "cell_type": "code",
   "execution_count": 79,
   "id": "f8a796e7",
   "metadata": {},
   "outputs": [
    {
     "data": {
      "text/plain": [
       "'center agribusi rural develop card titl program develop monitor evalu manag locat yerevan armenia job descript gener supervis card director direct supervis card deputi director incumb respons organ overse formul card strateg busi plan develop formul card busi strategi correspond action plan line card overal object busi plan also respons develop overse effect deploy variou result base manag instrument use develop plan monitor evalu assess impact variou program subsequ report achiev result card board truste donor addit respons develop implement card resourc mobil strategi overse implement effect cost recoveri practic part card overal cost recoveri strategi within context card resourc mobil activ incumb also respons initi overse card public relat relat activ job respons polici support review card overal polici strategi reflect card busi plan card resourc mobil strategi advis director deputi chang modif improv play key role establish formul strategi polici well formul mainten updat card resourc mobil strategi card busi plan respons develop overse effect deploy variou result base manag rbm instrument introduc best practic analyz need evalu cost effect exist possibl new rbm instrument relat report mechan well need new resourc mobil initi order ensur card manag time necessari manag inform requir strateg polici decis introduc custom overse use intern instrument procedur effect result base manag rbm card oper ensur card staff fulli familiar instrument principl underli rbm issu necessari background materi explan use instrument rbm base plan implement organ overse effect introduct deploy result base manag instrument practic plan monitor budget card program activ subsequ evalu report thereon train staff proper use member card manag team particip decisionmak plan polici affect card overal program busi environ program busi develop carri analys studi requir develop new program propos donor fund need identif potenti new fund opportun prepar detail propos fund donor provid advic card staff prepar organ overse formul card program busi plan correspond strategi ensur card staff properli brief implic plan implement card activ organ prepar close coordin pertin card divis overal strateg result framework srf similar instrument support document fund request card princip donor card annual report board truste donor organ overse time prepar substant report submit card princip donor connect fund overse time prepar card annual program budget line srf resourc mobil strategi also close involv formul strategi card core budget within context card overal resourc plan systemat review card busi process order identifi possibl opportun improv increas effici initi follow action requir make optim use identifi opportun resourc mobil formul card longer term resourc mobil strategi correspond action plan overse implement directli assist director deputi director specif activ relat resourc mobil ensur card staff duli inform organ resourc mobil strategi relat activ contribut formul card cost recoveri strategi relat organ overal resourc plan resourc mobil effort train card staff prepar program project propos accord donor requir readili submit donor develop public relat strategi card coordin public relat activ overse give guidanc card public relat activ full support resourc mobil effort miscellan perform duti may requir requir qualif mba equival univers degre prefer master level field relat busi least year work experi busi manag relat system manageri level progress respons formul busi polici overal strategi prefer intern local develop organ proven knowledg result base manag rbm instrument year work experi propos develop specif intern donor commun demonstr write skill specif area busi plan develop proven leadership capabl abil respons take initi excel analyt skill combin knowledg gener busi process practic excel interperson skill experi teamwork team build knowledg armenian russian english languag verbal written excel knowledg computer busi system financi report gener relat softwar includ profici ms applic word excel outlook xp profession power point ms project access databas applic procedur pleas email cover letter cv highlight relev experi cardjob deliv hard copi card offic teryan str yerevan within armenian agricultur academi entranc teryan str pleas clearli mention applic posit appli phone call pleas select elig candid contact interview pleas clearli mention applic letter learn job opportun career center mention url websit www careercent thank open date may applic deadlin june place free post job career relat opportun avail organ go www careercent websit follow post announc link '"
      ]
     },
     "execution_count": 79,
     "metadata": {},
     "output_type": "execute_result"
    }
   ],
   "source": [
    "df_compare['offer'][56824]"
   ]
  },
  {
   "cell_type": "markdown",
   "id": "94dfa5cf",
   "metadata": {},
   "source": [
    "Let us try knowledge extraction tools to obtain some more information from the data. Maybe we could extract programming languages and experience in years that would definitely be crucial in terms of resuem / job offer recommendation."
   ]
  },
  {
   "cell_type": "code",
   "execution_count": 80,
   "id": "1fef82b0",
   "metadata": {},
   "outputs": [
    {
     "name": "stdout",
     "output_type": "stream",
     "text": [
      "<bound method NDFrame.head of          Category                                             Resume  \\\n",
      "0    Data Science  Skills * Programming Languages: Python (pandas...   \n",
      "1    Data Science  Education Details \\r\\nMay 2013 to May 2017 B.E...   \n",
      "2    Data Science  Areas of Interest Deep Learning, Control Syste...   \n",
      "3    Data Science  Skills â¢ R â¢ Python â¢ SAP HANA â¢ Table...   \n",
      "4    Data Science  Education Details \\r\\n MCA   YMCAUST,  Faridab...   \n",
      "..            ...                                                ...   \n",
      "957       Testing  Computer Skills: â¢ Proficient in MS office (...   \n",
      "958       Testing  â Willingness to accept the challenges. â ...   \n",
      "959       Testing  PERSONAL SKILLS â¢ Quick learner, â¢ Eagerne...   \n",
      "960       Testing  COMPUTER SKILLS & SOFTWARE KNOWLEDGE MS-Power ...   \n",
      "961       Testing  Skill Set OS Windows XP/7/8/8.1/10 Database MY...   \n",
      "\n",
      "                                            Resume_str  length  \\\n",
      "0    skills programming languages python pandas num...    4786   \n",
      "1    education details may to may b e uit rgpv data...    1268   \n",
      "2    areas of interest deep learning control system...    1871   \n",
      "3    skills  r  python  sap hana  tableau  sap hana...    6995   \n",
      "4    education details mca ymcaust faridabad haryan...     452   \n",
      "..                                                 ...     ...   \n",
      "957  computer skills  proficient in ms office word ...    2130   \n",
      "958   willingness to accept the challenges  positiv...    2306   \n",
      "959  personal skills  quick learner  eagerness to l...    3319   \n",
      "960  computer skills and software knowledge ms powe...     767   \n",
      "961  skill set os windows xp database mysql sql ser...    1955   \n",
      "\n",
      "                              resume_text_preprocessed  \n",
      "0    skill program languag python panda numpi scipi...  \n",
      "1    educ detail may may b e uit rgpv data scientis...  \n",
      "2    area interest deep learn control system design...  \n",
      "3    skill r python sap hana tableau sap hana sql s...  \n",
      "4    educ detail mca ymcaust faridabad haryana data...  \n",
      "..                                                 ...  \n",
      "957  comput skill profici ms offic word basic excel...  \n",
      "958  willing accept challeng posit think good learn...  \n",
      "959  person skill quick learner eager learn new thi...  \n",
      "960  comput skill softwar knowledg ms power point m...  \n",
      "961  skill set os window xp databas mysql sql serve...  \n",
      "\n",
      "[962 rows x 5 columns]>\n"
     ]
    }
   ],
   "source": [
    "print(df_resume.head)"
   ]
  },
  {
   "cell_type": "code",
   "execution_count": 98,
   "id": "19f3ae7e",
   "metadata": {},
   "outputs": [],
   "source": [
    "# word tokenization and part-of-speech tagging\n",
    "def preprocess(sent):\n",
    "    sent = nltk.word_tokenize(sent)\n",
    "    sent = nltk.pos_tag(sent)\n",
    "    return sent"
   ]
  },
  {
   "cell_type": "code",
   "execution_count": 99,
   "id": "d2a0cb6f",
   "metadata": {},
   "outputs": [
    {
     "name": "stderr",
     "output_type": "stream",
     "text": [
      "[nltk_data] Downloading package averaged_perceptron_tagger to\n",
      "[nltk_data]     C:\\Users\\justy\\AppData\\Roaming\\nltk_data...\n",
      "[nltk_data]   Package averaged_perceptron_tagger is already up-to-\n",
      "[nltk_data]       date!\n"
     ]
    }
   ],
   "source": [
    "nltk.download('averaged_perceptron_tagger')\n",
    "sent = preprocess(df_resume['Resume_str'][0])\n",
    "#sent"
   ]
  },
  {
   "cell_type": "code",
   "execution_count": 100,
   "id": "97e12cbd",
   "metadata": {},
   "outputs": [],
   "source": [
    "pattern = 'NNS: {<VBG>?<VBP>?<NN>?<JJ>}'"
   ]
  },
  {
   "cell_type": "code",
   "execution_count": 101,
   "id": "f960ad6d",
   "metadata": {},
   "outputs": [],
   "source": [
    "# chunking\n",
    "cp = nltk.RegexpParser(pattern)\n",
    "cs = cp.parse(sent)\n",
    "#print(cs)"
   ]
  },
  {
   "cell_type": "code",
   "execution_count": 102,
   "id": "6e5f409a",
   "metadata": {},
   "outputs": [],
   "source": [
    "from nltk.chunk import conlltags2tree, tree2conlltags\n",
    "from pprint import pprint\n",
    "iob_tagged = tree2conlltags(cs)\n",
    "#pprint(iob_tagged)"
   ]
  },
  {
   "cell_type": "code",
   "execution_count": 103,
   "id": "266f6e7d",
   "metadata": {},
   "outputs": [
    {
     "name": "stderr",
     "output_type": "stream",
     "text": [
      "[nltk_data] Downloading package maxent_ne_chunker to\n",
      "[nltk_data]     C:\\Users\\justy\\AppData\\Roaming\\nltk_data...\n",
      "[nltk_data]   Package maxent_ne_chunker is already up-to-date!\n",
      "[nltk_data] Downloading package words to\n",
      "[nltk_data]     C:\\Users\\justy\\AppData\\Roaming\\nltk_data...\n",
      "[nltk_data]   Package words is already up-to-date!\n"
     ]
    }
   ],
   "source": [
    "from nltk import ne_chunk\n",
    "nltk.download('maxent_ne_chunker')\n",
    "nltk.download('words')\n",
    "ne_tree = ne_chunk(pos_tag(word_tokenize(df_resume['Resume_str'][0])))\n",
    "#print(ne_tree)"
   ]
  },
  {
   "cell_type": "code",
   "execution_count": 104,
   "id": "30eeb47a",
   "metadata": {},
   "outputs": [],
   "source": [
    "import spacy\n",
    "from spacy import displacy\n",
    "from collections import Counter\n",
    "import en_core_web_sm\n",
    "nlp = en_core_web_sm.load()"
   ]
  },
  {
   "cell_type": "code",
   "execution_count": 105,
   "id": "4edaa752",
   "metadata": {},
   "outputs": [
    {
     "name": "stdout",
     "output_type": "stream",
     "text": [
      "[('less than year months', 'DATE'),\n",
      " ('months', 'DATE'),\n",
      " ('less than year months', 'DATE'),\n",
      " ('less than year months', 'DATE'),\n",
      " ('less than year months', 'DATE'),\n",
      " ('less than year months', 'DATE'),\n",
      " ('less than year', 'DATE'),\n",
      " ('sagar bengaluru', 'PERSON'),\n",
      " ('india', 'GPE')]\n"
     ]
    }
   ],
   "source": [
    "doc = nlp(df_resume['Resume_str'][1])\n",
    "pprint([(X.text, X.label_) for X in doc.ents])"
   ]
  },
  {
   "cell_type": "code",
   "execution_count": 106,
   "id": "c927071e",
   "metadata": {},
   "outputs": [],
   "source": [
    "#pprint([(X, X.ent_iob_, X.ent_type_) for X in doc])"
   ]
  },
  {
   "cell_type": "code",
   "execution_count": 107,
   "id": "3023c623",
   "metadata": {},
   "outputs": [
    {
     "data": {
      "text/html": [
       "<span class=\"tex2jax_ignore\"><div class=\"entities\" style=\"line-height: 2.5; direction: ltr\">education details may to may b e uit rgpv data scientist data scientist matelabs skill details python exprience \n",
       "<mark class=\"entity\" style=\"background: #bfe1d9; padding: 0.45em 0.6em; margin: 0 0.25em; line-height: 1; border-radius: 0.35em;\">\n",
       "    less than year months\n",
       "    <span style=\"font-size: 0.8em; font-weight: bold; line-height: 1; border-radius: 0.35em; vertical-align: middle; margin-left: 0.5rem\">DATE</span>\n",
       "</mark>\n",
       " statsmodels exprience \n",
       "<mark class=\"entity\" style=\"background: #bfe1d9; padding: 0.45em 0.6em; margin: 0 0.25em; line-height: 1; border-radius: 0.35em;\">\n",
       "    months\n",
       "    <span style=\"font-size: 0.8em; font-weight: bold; line-height: 1; border-radius: 0.35em; vertical-align: middle; margin-left: 0.5rem\">DATE</span>\n",
       "</mark>\n",
       " aws exprience \n",
       "<mark class=\"entity\" style=\"background: #bfe1d9; padding: 0.45em 0.6em; margin: 0 0.25em; line-height: 1; border-radius: 0.35em;\">\n",
       "    less than year months\n",
       "    <span style=\"font-size: 0.8em; font-weight: bold; line-height: 1; border-radius: 0.35em; vertical-align: middle; margin-left: 0.5rem\">DATE</span>\n",
       "</mark>\n",
       " machine learning exprience \n",
       "<mark class=\"entity\" style=\"background: #bfe1d9; padding: 0.45em 0.6em; margin: 0 0.25em; line-height: 1; border-radius: 0.35em;\">\n",
       "    less than year months\n",
       "    <span style=\"font-size: 0.8em; font-weight: bold; line-height: 1; border-radius: 0.35em; vertical-align: middle; margin-left: 0.5rem\">DATE</span>\n",
       "</mark>\n",
       " sklearn exprience \n",
       "<mark class=\"entity\" style=\"background: #bfe1d9; padding: 0.45em 0.6em; margin: 0 0.25em; line-height: 1; border-radius: 0.35em;\">\n",
       "    less than year months\n",
       "    <span style=\"font-size: 0.8em; font-weight: bold; line-height: 1; border-radius: 0.35em; vertical-align: middle; margin-left: 0.5rem\">DATE</span>\n",
       "</mark>\n",
       " scipy exprience \n",
       "<mark class=\"entity\" style=\"background: #bfe1d9; padding: 0.45em 0.6em; margin: 0 0.25em; line-height: 1; border-radius: 0.35em;\">\n",
       "    less than year months\n",
       "    <span style=\"font-size: 0.8em; font-weight: bold; line-height: 1; border-radius: 0.35em; vertical-align: middle; margin-left: 0.5rem\">DATE</span>\n",
       "</mark>\n",
       " keras exprience \n",
       "<mark class=\"entity\" style=\"background: #bfe1d9; padding: 0.45em 0.6em; margin: 0 0.25em; line-height: 1; border-radius: 0.35em;\">\n",
       "    less than year\n",
       "    <span style=\"font-size: 0.8em; font-weight: bold; line-height: 1; border-radius: 0.35em; vertical-align: middle; margin-left: 0.5rem\">DATE</span>\n",
       "</mark>\n",
       " monthscompany details company matelabs description ml platform for business professionals dummies and enthusiasts a koramangala th block achievements tasks behind sukh \n",
       "<mark class=\"entity\" style=\"background: #aa9cfc; padding: 0.45em 0.6em; margin: 0 0.25em; line-height: 1; border-radius: 0.35em;\">\n",
       "    sagar bengaluru\n",
       "    <span style=\"font-size: 0.8em; font-weight: bold; line-height: 1; border-radius: 0.35em; vertical-align: middle; margin-left: 0.5rem\">PERSON</span>\n",
       "</mark>\n",
       " \n",
       "<mark class=\"entity\" style=\"background: #feca74; padding: 0.45em 0.6em; margin: 0 0.25em; line-height: 1; border-radius: 0.35em;\">\n",
       "    india\n",
       "    <span style=\"font-size: 0.8em; font-weight: bold; line-height: 1; border-radius: 0.35em; vertical-align: middle; margin-left: 0.5rem\">GPE</span>\n",
       "</mark>\n",
       " developed and deployed auto preprocessing steps of machine learning mainly missing value treatment outlier detection encoding scaling feature selection and dimensionality reduction deployed automated classification and regression model linkedin com in aditya rathore b b reasearch and deployed the time series forecasting model arima sarimax holt winter and prophet worked on meta feature extracting problem github com rathorology implemented a state of the art research paper on outlier detection for mixed attributes company matelabs description </div></span>"
      ],
      "text/plain": [
       "<IPython.core.display.HTML object>"
      ]
     },
     "metadata": {},
     "output_type": "display_data"
    }
   ],
   "source": [
    "displacy.render(doc, jupyter=True, style='ent')"
   ]
  },
  {
   "cell_type": "markdown",
   "id": "5e52e1e4",
   "metadata": {},
   "source": [
    "Unfortunately it is rather hard to obtain some extra knowledge as we would have to make own dictionary with programming languages / skills. aye it has some potential for future improvements of the project."
   ]
  },
  {
   "cell_type": "markdown",
   "id": "15ec90df",
   "metadata": {},
   "source": [
    "#### Similarity using spacy\n",
    "Let us once again go back for checking similarity with built in tool in Spacy package - cosine similarity.\n",
    "\n",
    "It seems that on full dataset it takes significantly less time"
   ]
  },
  {
   "cell_type": "code",
   "execution_count": 108,
   "id": "11147a91",
   "metadata": {},
   "outputs": [],
   "source": [
    "vectorizer = TfidfVectorizer()\n",
    "resumes_vectors = vectorizer.fit_transform(df_resume['resume_text_preprocessed'])\n",
    "job_offers_vectors = vectorizer.transform(df_job['job_text_preprocessed'])"
   ]
  },
  {
   "cell_type": "code",
   "execution_count": 109,
   "id": "f8a2ed9d",
   "metadata": {},
   "outputs": [],
   "source": [
    "cosine_similarities = cosine_similarity(resumes_vectors, job_offers_vectors)"
   ]
  },
  {
   "cell_type": "code",
   "execution_count": 110,
   "id": "62ac0105",
   "metadata": {},
   "outputs": [
    {
     "name": "stdout",
     "output_type": "stream",
     "text": [
      "                                                Resume  \\\n",
      "0    skill program languag python panda numpi scipi...   \n",
      "1    educ detail may may b e uit rgpv data scientis...   \n",
      "2    area interest deep learn control system design...   \n",
      "3    skill r python sap hana tableau sap hana sql s...   \n",
      "4    educ detail mca ymcaust faridabad haryana data...   \n",
      "..                                                 ...   \n",
      "957  comput skill profici ms offic word basic excel...   \n",
      "958  willing accept challeng posit think good learn...   \n",
      "959  person skill quick learner eager learn new thi...   \n",
      "960  comput skill softwar knowledg ms power point m...   \n",
      "961  skill set os window xp databas mysql sql serve...   \n",
      "\n",
      "                                    Best Fit Job Offer  \n",
      "0    armenian card cjsc titl fraud risk analyst ter...  \n",
      "1    numetr manag system inc armenian branch titl s...  \n",
      "2    coca cola hellen bottl compani armenia cjsc ti...  \n",
      "3    questrad intern inc armenian branch titl senio...  \n",
      "4    millenium challeng account armenia snco titl m...  \n",
      "..                                                 ...  \n",
      "957  moniti gfi cjsc titl qa engin term full time s...  \n",
      "958  damari llc titl qa engin start date time asap ...  \n",
      "959  lyco armenia titl senior qa engin start date t...  \n",
      "960  x engin llc titl radio engin durat long term l...  \n",
      "961  epam system inc titl senior test autom engin t...  \n",
      "\n",
      "[962 rows x 2 columns]\n"
     ]
    }
   ],
   "source": [
    "best_fit = np.argmax(cosine_similarities, axis=1)\n",
    "df_best_fit = pd.DataFrame({\"Resume\": df_resume[\"resume_text_preprocessed\"], \"Best Fit Job Offer\": df_job.iloc[best_fit][\"job_text_preprocessed\"].values})\n",
    "\n",
    "print(df_best_fit)"
   ]
  },
  {
   "cell_type": "markdown",
   "id": "e1fcdae9",
   "metadata": {},
   "source": [
    "#### Results\n",
    "Now let us compare 2 choosen resumes / job offers.\n",
    "\n",
    "It looks much better than in previous attempts and takes less time. It should be deffinitely considered as better tool and may be analysed for further improvements\n",
    "\n",
    "The first offer / resume are about specialist for fraud detection / analysis, so we may assume that the match is good and could be recommended\n",
    "\n"
   ]
  },
  {
   "cell_type": "code",
   "execution_count": 111,
   "id": "f75dabdb",
   "metadata": {},
   "outputs": [
    {
     "data": {
      "text/plain": [
       "'skill program languag python panda numpi scipi scikit learn matplotlib sql java javascript jqueri machin learn regress svm nave bay knn random forest decis tree boost techniqu cluster analysi word embed sentiment analysi natur languag process dimension reduct topic model lda nmf pca neural net databas visual mysql sqlserver cassandra hbase elasticsearch js dc js plotli kibana matplotlib ggplot tableau regular express html css angular logstash kafka python flask git docker comput vision open cv understand deep learn educ detail data scienc assur associ data scienc assur associ ernst young llp skill detail javascript exprienc month jqueri exprienc month python exprienc monthscompani detail compani ernst young llp descript fraud investig disput servic assur technolog assist review tar technolog assist review assist acceler review process run analyt gener report core member team help develop autom review platform tool scratch assist e discoveri domain tool implement predict code topic model autom review result reduc labor cost time spent lawyer review understand end end flow solut research develop classif model predict analysi mine inform present text data work analyz output precis monitor entir tool tar assist predict code topic model evid follow ey standard develop classifi model order identifi red flag fraud relat issu tool technolog python scikit learn tfidf word vec doc vec cosin similar nave bay lda nmf topic model vader text blob sentiment analysi matplot lib tableau dashboard report multipl data scienc analyt project usa client text analyt motor vehicl custom review data receiv custom feedback survey data past one year perform sentiment posit neg neutral time seri analysi custom comment across categori creat heat map term survey categori base frequenc word extract posit neg word across survey categori plot word cloud creat custom tableau dashboard effect report visual chatbot develop user friendli chatbot one product handl simpl question hour oper reserv option chat bot serv entir product relat question give overview tool via qa platform also give recommend respons user question build chain relev answer intellig build pipelin question per user requir ask relev recommend question tool technolog python natur languag process nltk spaci topic model sentiment analysi word embed scikit learn javascript jqueri sqlserver inform govern organ make inform decis inform store integr inform govern portfolio synthes intellig across unstructur data sourc facilit action ensur organ best posit counter inform risk scan data multipl sourc format pars differ file format extract meta data inform push result index elast search creat custom interact dashboard use kibana preform rot analysi data give inform data help identifi content either redund outdat trivial preform full text search analysi elast search predefin method tag pii person identifi inform social secur number address name etc frequent target cyber attack tool technolog python flask elast search kibana fraud analyt platform fraud analyt investig platform review red flag case fap fraud analyt investig platform inbuilt case manag suit analyt variou erp system use client interrog account system identifi anomali indic fraud run advanc analyt tool technolog html javascript sqlserver jqueri css bootstrap node js js dc js '"
      ]
     },
     "execution_count": 111,
     "metadata": {},
     "output_type": "execute_result"
    }
   ],
   "source": [
    "df_best_fit['Resume'][0]"
   ]
  },
  {
   "cell_type": "code",
   "execution_count": 112,
   "id": "416ee7f9",
   "metadata": {},
   "outputs": [
    {
     "data": {
      "text/plain": [
       "'armenian card cjsc titl fraud risk analyst term full time open elig criteria elig candid start date time asap durat long term month probat period locat yerevan armenia job descript compani need specialist fulfil posit fraud risk analyst job respons accomplish fraud risk level assess monitor payment system search fraud indic develop implement anti fraud model system carri analysi mathemat model assess exist new busi process execut process center term fraud risk elabor maintain inner anti fraud devic detect suspici oper conduct fraud classif fraudul suspici oper investig incid inner outer fraud potenti danger scheme collabor bank system secur author provid set adjust fraud monitor modul function defin updat predict model carri analyt research perform analysi diagnosi given paramet deviat requir qualif higher educ mathemat econom least year work experi relev field vba program skill good knowledg access profici sql queri ms offic packag word excel power point spss analyt think profici method econom mathemat model defin analyt statist model oper experi deal data file data prepar process knowledg english languag read origin intern standard carri busi correspond knowledg main way method statist data analysi good problem solv skill abil work independ good present report skill team player high sens respons remuner salari competit social packag applic procedur qualifi candid welcom send cv along motiv letter follow e mail address arca pleas indic posit titl subject field messag shortlist applic invit interview phone call pleas pleas clearli mention applic letter learn job opportun career center mention url websit www careercent thank open date juli applic deadlin juli compani armenian card cjsc nation payment system process center armenian bank place free post job career relat opportun avail organ go www careercent websit follow post announc link '"
      ]
     },
     "execution_count": 112,
     "metadata": {},
     "output_type": "execute_result"
    }
   ],
   "source": [
    "df_best_fit['Best Fit Job Offer'][0]"
   ]
  },
  {
   "cell_type": "markdown",
   "id": "a4995179",
   "metadata": {},
   "source": [
    "The second offer / resume is about elecrical engineer - again good match"
   ]
  },
  {
   "cell_type": "code",
   "execution_count": 96,
   "id": "b0a0ce38",
   "metadata": {},
   "outputs": [
    {
     "data": {
      "text/plain": [
       "'educ detail januari januari b e electr shivaji univers septemb hsc pune maharashtra pune univers juli ssc pune maharashtra pune univers electr engin electr engin r k electr pvt ltd skill detail compani detail compani r k electr pvt ltd descript experi year month troubleshoot mainten follow electr equip type mainten util electr mechan mainten two kva diesel gener set kirloskar ht lt switchgear protect system use relay provis interlock cand kirloskar handl ht vacuum sf circuit breaker transform kva lt air circuit breaker mainten stp wtp plant mainten air blower actuat soft starter eot crane mono rail centrifug vertic pump hydraul machin roll machin lath machin drill machin ahu hvac chiller etc basic knowledg plc scada oper troubl shoot switchgear control panel pump motor mainten batteri charger batteri bank motor test ht lt kw monitor control v control panel relay panel involv fault find relay reset monitor correct power factor servic mainten kw submers pump mainten mcc pcc panel servic motor associ compon motor oper valv problem solv power contactor auxiliari contactor relay ct pt effect prevent predict mainten schedul equip order increas uptim reliabl mainten oper day day activ oper prevent mainten day day breakdown mainten convent maintain log book check list kv main feeder kv distribut line maint h l break work electr safeti knowledg variou aspect safeti applic requir familiar variou safeti equip tool lockout tag electr switchgear work issu work permit line clearanc work electr distribut network requir proper usag protect equip accid statist '"
      ]
     },
     "execution_count": 96,
     "metadata": {},
     "output_type": "execute_result"
    }
   ],
   "source": [
    "df_best_fit['Resume'][500]"
   ]
  },
  {
   "cell_type": "code",
   "execution_count": 97,
   "id": "4896c282",
   "metadata": {},
   "outputs": [
    {
     "data": {
      "text/plain": [
       "'coca cola hellen bottl compani armenia cjsc titl electr engin term full time open elig criteria interest candid start date time asap durat long term month probat period locat yerevan armenia job descript electr engin perform duti gener direct electr supervisor work independ perform mainten repair modif plant comput driven control system plant mechan electr system electr engin involv fabric applic instal repair electr electromechan equip instal electr conduit machin build wire job respons assist system startup oper checkout system includ configur wire calibr ground power test diagnos caus electr mechan malfunct failur equip troubleshoot repair electr mechan problem robot system util technic materi equip manual msd safeti materi system draw process instrument diagram pandid requir qualif univers degre electr electron engin work experi relev field experi programm logic control plc experi use dc ac motor vf drive servo control system profici electr instal conduit wire practic complet understand plant electr system includ dc voltag ac voltag v v complet understand relay discret devic control system work comput skill excel word applic procedur interest candid kindli request submit cv azatutyan ave rd blind alley yerevan e mail coca colajob pleas indic name posit electr engin subject line e mail compani grate interest applic howev shortlist candid contact interview pleas clearli mention applic letter learn job opportun career center mention url websit www careercent thank open date januari applic deadlin februari place free post job career relat opportun avail organ go www careercent websit follow post announc link '"
      ]
     },
     "execution_count": 97,
     "metadata": {},
     "output_type": "execute_result"
    }
   ],
   "source": [
    "df_best_fit['Best Fit Job Offer'][500]"
   ]
  },
  {
   "cell_type": "markdown",
   "id": "30fa0879",
   "metadata": {},
   "source": [
    "#### Check the sentiment of Resumes - check if the candidates makes it more colourful"
   ]
  },
  {
   "cell_type": "code",
   "execution_count": 116,
   "id": "68d23d2c",
   "metadata": {},
   "outputs": [
    {
     "name": "stderr",
     "output_type": "stream",
     "text": [
      "[nltk_data] Downloading package vader_lexicon to\n",
      "[nltk_data]     C:\\Users\\justy\\AppData\\Roaming\\nltk_data...\n"
     ]
    }
   ],
   "source": [
    "nltk.download('vader_lexicon')\n",
    "from nltk.sentiment.vader import SentimentIntensityAnalyzer\n",
    "analyser = SentimentIntensityAnalyzer()"
   ]
  },
  {
   "cell_type": "code",
   "execution_count": 117,
   "id": "b195ded3",
   "metadata": {},
   "outputs": [],
   "source": [
    "# move to sentiment analysis\n",
    "def print_sentiment_scores(sentence):\n",
    "    snt = analyser.polarity_scores(sentence)  #call the polarity analyzer\n",
    "    print(\"{:-<40} {}\".format(sentence, str(snt)))"
   ]
  },
  {
   "cell_type": "markdown",
   "id": "0e1eaf67",
   "metadata": {},
   "source": [
    "Let us test if the resumes are rather positive or neutral"
   ]
  },
  {
   "cell_type": "code",
   "execution_count": 119,
   "id": "b2da5673",
   "metadata": {},
   "outputs": [
    {
     "name": "stdout",
     "output_type": "stream",
     "text": [
      "I have the best Excel skills in the world {'neg': 0.0, 'neu': 0.455, 'pos': 0.545, 'compound': 0.802}\n",
      "I have some experience in text mining and natural language processing {'neg': 0.0, 'neu': 0.783, 'pos': 0.217, 'compound': 0.3612}\n"
     ]
    }
   ],
   "source": [
    "# compound value scale = -1 to 1 \n",
    "print_sentiment_scores(\"I have the best Excel skills in the world\")\n",
    "print_sentiment_scores(\"I have some experience in text mining and natural language processing\")"
   ]
  },
  {
   "cell_type": "markdown",
   "id": "c2a8344b",
   "metadata": {},
   "source": [
    "Let us use text before preprocessing to perform the analysis"
   ]
  },
  {
   "cell_type": "code",
   "execution_count": 120,
   "id": "c8143d9f",
   "metadata": {},
   "outputs": [
    {
     "data": {
      "text/plain": [
       "962"
      ]
     },
     "execution_count": 120,
     "metadata": {},
     "output_type": "execute_result"
    }
   ],
   "source": [
    "i=0\n",
    "compval1 = [ ]\n",
    "\n",
    "while (i<len(df_resume[\"Resume_str\"])):\n",
    "\n",
    "    k = analyser.polarity_scores(df_resume.iloc[i]['Resume_str'])\n",
    "    compval1.append(k['compound'])\n",
    "    \n",
    "    i = i+1\n",
    "    \n",
    "# convert sentiment values to numpy for easier usage\n",
    "compval1 = np.array(compval1)\n",
    "len(compval1)"
   ]
  },
  {
   "cell_type": "code",
   "execution_count": 121,
   "id": "1c788016",
   "metadata": {},
   "outputs": [],
   "source": [
    "df_resume['VADER score'] = compval1"
   ]
  },
  {
   "cell_type": "code",
   "execution_count": 122,
   "id": "33d17bb6",
   "metadata": {},
   "outputs": [
    {
     "data": {
      "text/html": [
       "<div>\n",
       "<style scoped>\n",
       "    .dataframe tbody tr th:only-of-type {\n",
       "        vertical-align: middle;\n",
       "    }\n",
       "\n",
       "    .dataframe tbody tr th {\n",
       "        vertical-align: top;\n",
       "    }\n",
       "\n",
       "    .dataframe thead th {\n",
       "        text-align: right;\n",
       "    }\n",
       "</style>\n",
       "<table border=\"1\" class=\"dataframe\">\n",
       "  <thead>\n",
       "    <tr style=\"text-align: right;\">\n",
       "      <th></th>\n",
       "      <th>Category</th>\n",
       "      <th>Resume</th>\n",
       "      <th>Resume_str</th>\n",
       "      <th>length</th>\n",
       "      <th>resume_text_preprocessed</th>\n",
       "      <th>VADER score</th>\n",
       "    </tr>\n",
       "  </thead>\n",
       "  <tbody>\n",
       "    <tr>\n",
       "      <th>0</th>\n",
       "      <td>Data Science</td>\n",
       "      <td>Skills * Programming Languages: Python (pandas...</td>\n",
       "      <td>skills programming languages python pandas num...</td>\n",
       "      <td>4786</td>\n",
       "      <td>skill program languag python panda numpi scipi...</td>\n",
       "      <td>0.9485</td>\n",
       "    </tr>\n",
       "    <tr>\n",
       "      <th>1</th>\n",
       "      <td>Data Science</td>\n",
       "      <td>Education Details \\r\\nMay 2013 to May 2017 B.E...</td>\n",
       "      <td>education details may to may b e uit rgpv data...</td>\n",
       "      <td>1268</td>\n",
       "      <td>educ detail may may b e uit rgpv data scientis...</td>\n",
       "      <td>-0.4588</td>\n",
       "    </tr>\n",
       "    <tr>\n",
       "      <th>2</th>\n",
       "      <td>Data Science</td>\n",
       "      <td>Areas of Interest Deep Learning, Control Syste...</td>\n",
       "      <td>areas of interest deep learning control system...</td>\n",
       "      <td>1871</td>\n",
       "      <td>area interest deep learn control system design...</td>\n",
       "      <td>0.9468</td>\n",
       "    </tr>\n",
       "    <tr>\n",
       "      <th>3</th>\n",
       "      <td>Data Science</td>\n",
       "      <td>Skills â¢ R â¢ Python â¢ SAP HANA â¢ Table...</td>\n",
       "      <td>skills  r  python  sap hana  tableau  sap hana...</td>\n",
       "      <td>6995</td>\n",
       "      <td>skill r python sap hana tableau sap hana sql s...</td>\n",
       "      <td>0.9940</td>\n",
       "    </tr>\n",
       "    <tr>\n",
       "      <th>4</th>\n",
       "      <td>Data Science</td>\n",
       "      <td>Education Details \\r\\n MCA   YMCAUST,  Faridab...</td>\n",
       "      <td>education details mca ymcaust faridabad haryan...</td>\n",
       "      <td>452</td>\n",
       "      <td>educ detail mca ymcaust faridabad haryana data...</td>\n",
       "      <td>0.0000</td>\n",
       "    </tr>\n",
       "    <tr>\n",
       "      <th>5</th>\n",
       "      <td>Data Science</td>\n",
       "      <td>SKILLS C Basics, IOT, Python, MATLAB, Data Sci...</td>\n",
       "      <td>skills c basics iot python matlab data science...</td>\n",
       "      <td>708</td>\n",
       "      <td>skill c basic iot python matlab data scienc ma...</td>\n",
       "      <td>0.6908</td>\n",
       "    </tr>\n",
       "    <tr>\n",
       "      <th>6</th>\n",
       "      <td>Data Science</td>\n",
       "      <td>Skills â¢ Python â¢ Tableau â¢ Data Visuali...</td>\n",
       "      <td>skills  python  tableau  data visualization  r...</td>\n",
       "      <td>1700</td>\n",
       "      <td>skill python tableau data visual r studio mach...</td>\n",
       "      <td>0.9531</td>\n",
       "    </tr>\n",
       "    <tr>\n",
       "      <th>7</th>\n",
       "      <td>Data Science</td>\n",
       "      <td>Education Details \\r\\n B.Tech   Rayat and Bahr...</td>\n",
       "      <td>education details b tech rayat and bahra insti...</td>\n",
       "      <td>8192</td>\n",
       "      <td>educ detail b tech rayat bahra institut engin ...</td>\n",
       "      <td>0.9989</td>\n",
       "    </tr>\n",
       "    <tr>\n",
       "      <th>8</th>\n",
       "      <td>Data Science</td>\n",
       "      <td>Personal Skills â¢ Ability to quickly grasp t...</td>\n",
       "      <td>personal skills  ability to quickly grasp tech...</td>\n",
       "      <td>1778</td>\n",
       "      <td>person skill abil quickli grasp technic aspect...</td>\n",
       "      <td>0.9781</td>\n",
       "    </tr>\n",
       "    <tr>\n",
       "      <th>9</th>\n",
       "      <td>Data Science</td>\n",
       "      <td>Expertise â Data and Quantitative Analysis â...</td>\n",
       "      <td>expertise  data and quantitative analysis  dec...</td>\n",
       "      <td>4381</td>\n",
       "      <td>expertis data quantit analysi decis analyt pre...</td>\n",
       "      <td>0.9709</td>\n",
       "    </tr>\n",
       "    <tr>\n",
       "      <th>10</th>\n",
       "      <td>Data Science</td>\n",
       "      <td>Skills * Programming Languages: Python (pandas...</td>\n",
       "      <td>skills programming languages python pandas num...</td>\n",
       "      <td>4786</td>\n",
       "      <td>skill program languag python panda numpi scipi...</td>\n",
       "      <td>0.9485</td>\n",
       "    </tr>\n",
       "    <tr>\n",
       "      <th>11</th>\n",
       "      <td>Data Science</td>\n",
       "      <td>Education Details \\r\\nMay 2013 to May 2017 B.E...</td>\n",
       "      <td>education details may to may b e uit rgpv data...</td>\n",
       "      <td>1268</td>\n",
       "      <td>educ detail may may b e uit rgpv data scientis...</td>\n",
       "      <td>-0.4588</td>\n",
       "    </tr>\n",
       "    <tr>\n",
       "      <th>12</th>\n",
       "      <td>Data Science</td>\n",
       "      <td>Areas of Interest Deep Learning, Control Syste...</td>\n",
       "      <td>areas of interest deep learning control system...</td>\n",
       "      <td>1871</td>\n",
       "      <td>area interest deep learn control system design...</td>\n",
       "      <td>0.9468</td>\n",
       "    </tr>\n",
       "    <tr>\n",
       "      <th>13</th>\n",
       "      <td>Data Science</td>\n",
       "      <td>Skills â¢ R â¢ Python â¢ SAP HANA â¢ Table...</td>\n",
       "      <td>skills  r  python  sap hana  tableau  sap hana...</td>\n",
       "      <td>6995</td>\n",
       "      <td>skill r python sap hana tableau sap hana sql s...</td>\n",
       "      <td>0.9940</td>\n",
       "    </tr>\n",
       "    <tr>\n",
       "      <th>14</th>\n",
       "      <td>Data Science</td>\n",
       "      <td>Education Details \\r\\n MCA   YMCAUST,  Faridab...</td>\n",
       "      <td>education details mca ymcaust faridabad haryan...</td>\n",
       "      <td>452</td>\n",
       "      <td>educ detail mca ymcaust faridabad haryana data...</td>\n",
       "      <td>0.0000</td>\n",
       "    </tr>\n",
       "    <tr>\n",
       "      <th>15</th>\n",
       "      <td>Data Science</td>\n",
       "      <td>SKILLS C Basics, IOT, Python, MATLAB, Data Sci...</td>\n",
       "      <td>skills c basics iot python matlab data science...</td>\n",
       "      <td>708</td>\n",
       "      <td>skill c basic iot python matlab data scienc ma...</td>\n",
       "      <td>0.6908</td>\n",
       "    </tr>\n",
       "    <tr>\n",
       "      <th>16</th>\n",
       "      <td>Data Science</td>\n",
       "      <td>Skills â¢ Python â¢ Tableau â¢ Data Visuali...</td>\n",
       "      <td>skills  python  tableau  data visualization  r...</td>\n",
       "      <td>1700</td>\n",
       "      <td>skill python tableau data visual r studio mach...</td>\n",
       "      <td>0.9531</td>\n",
       "    </tr>\n",
       "    <tr>\n",
       "      <th>17</th>\n",
       "      <td>Data Science</td>\n",
       "      <td>Education Details \\r\\n B.Tech   Rayat and Bahr...</td>\n",
       "      <td>education details b tech rayat and bahra insti...</td>\n",
       "      <td>8192</td>\n",
       "      <td>educ detail b tech rayat bahra institut engin ...</td>\n",
       "      <td>0.9989</td>\n",
       "    </tr>\n",
       "    <tr>\n",
       "      <th>18</th>\n",
       "      <td>Data Science</td>\n",
       "      <td>Personal Skills â¢ Ability to quickly grasp t...</td>\n",
       "      <td>personal skills  ability to quickly grasp tech...</td>\n",
       "      <td>1778</td>\n",
       "      <td>person skill abil quickli grasp technic aspect...</td>\n",
       "      <td>0.9781</td>\n",
       "    </tr>\n",
       "    <tr>\n",
       "      <th>19</th>\n",
       "      <td>Data Science</td>\n",
       "      <td>Expertise â Data and Quantitative Analysis â...</td>\n",
       "      <td>expertise  data and quantitative analysis  dec...</td>\n",
       "      <td>4381</td>\n",
       "      <td>expertis data quantit analysi decis analyt pre...</td>\n",
       "      <td>0.9709</td>\n",
       "    </tr>\n",
       "    <tr>\n",
       "      <th>20</th>\n",
       "      <td>Data Science</td>\n",
       "      <td>Skills * Programming Languages: Python (pandas...</td>\n",
       "      <td>skills programming languages python pandas num...</td>\n",
       "      <td>4786</td>\n",
       "      <td>skill program languag python panda numpi scipi...</td>\n",
       "      <td>0.9485</td>\n",
       "    </tr>\n",
       "    <tr>\n",
       "      <th>21</th>\n",
       "      <td>Data Science</td>\n",
       "      <td>Education Details \\r\\nMay 2013 to May 2017 B.E...</td>\n",
       "      <td>education details may to may b e uit rgpv data...</td>\n",
       "      <td>1268</td>\n",
       "      <td>educ detail may may b e uit rgpv data scientis...</td>\n",
       "      <td>-0.4588</td>\n",
       "    </tr>\n",
       "    <tr>\n",
       "      <th>22</th>\n",
       "      <td>Data Science</td>\n",
       "      <td>Areas of Interest Deep Learning, Control Syste...</td>\n",
       "      <td>areas of interest deep learning control system...</td>\n",
       "      <td>1871</td>\n",
       "      <td>area interest deep learn control system design...</td>\n",
       "      <td>0.9468</td>\n",
       "    </tr>\n",
       "    <tr>\n",
       "      <th>23</th>\n",
       "      <td>Data Science</td>\n",
       "      <td>Skills â¢ R â¢ Python â¢ SAP HANA â¢ Table...</td>\n",
       "      <td>skills  r  python  sap hana  tableau  sap hana...</td>\n",
       "      <td>6995</td>\n",
       "      <td>skill r python sap hana tableau sap hana sql s...</td>\n",
       "      <td>0.9940</td>\n",
       "    </tr>\n",
       "    <tr>\n",
       "      <th>24</th>\n",
       "      <td>Data Science</td>\n",
       "      <td>Education Details \\r\\n MCA   YMCAUST,  Faridab...</td>\n",
       "      <td>education details mca ymcaust faridabad haryan...</td>\n",
       "      <td>452</td>\n",
       "      <td>educ detail mca ymcaust faridabad haryana data...</td>\n",
       "      <td>0.0000</td>\n",
       "    </tr>\n",
       "    <tr>\n",
       "      <th>25</th>\n",
       "      <td>Data Science</td>\n",
       "      <td>SKILLS C Basics, IOT, Python, MATLAB, Data Sci...</td>\n",
       "      <td>skills c basics iot python matlab data science...</td>\n",
       "      <td>708</td>\n",
       "      <td>skill c basic iot python matlab data scienc ma...</td>\n",
       "      <td>0.6908</td>\n",
       "    </tr>\n",
       "    <tr>\n",
       "      <th>26</th>\n",
       "      <td>Data Science</td>\n",
       "      <td>Skills â¢ Python â¢ Tableau â¢ Data Visuali...</td>\n",
       "      <td>skills  python  tableau  data visualization  r...</td>\n",
       "      <td>1700</td>\n",
       "      <td>skill python tableau data visual r studio mach...</td>\n",
       "      <td>0.9531</td>\n",
       "    </tr>\n",
       "    <tr>\n",
       "      <th>27</th>\n",
       "      <td>Data Science</td>\n",
       "      <td>Education Details \\r\\n B.Tech   Rayat and Bahr...</td>\n",
       "      <td>education details b tech rayat and bahra insti...</td>\n",
       "      <td>8192</td>\n",
       "      <td>educ detail b tech rayat bahra institut engin ...</td>\n",
       "      <td>0.9989</td>\n",
       "    </tr>\n",
       "    <tr>\n",
       "      <th>28</th>\n",
       "      <td>Data Science</td>\n",
       "      <td>Personal Skills â¢ Ability to quickly grasp t...</td>\n",
       "      <td>personal skills  ability to quickly grasp tech...</td>\n",
       "      <td>1778</td>\n",
       "      <td>person skill abil quickli grasp technic aspect...</td>\n",
       "      <td>0.9781</td>\n",
       "    </tr>\n",
       "    <tr>\n",
       "      <th>29</th>\n",
       "      <td>Data Science</td>\n",
       "      <td>Expertise â Data and Quantitative Analysis â...</td>\n",
       "      <td>expertise  data and quantitative analysis  dec...</td>\n",
       "      <td>4381</td>\n",
       "      <td>expertis data quantit analysi decis analyt pre...</td>\n",
       "      <td>0.9709</td>\n",
       "    </tr>\n",
       "  </tbody>\n",
       "</table>\n",
       "</div>"
      ],
      "text/plain": [
       "        Category                                             Resume  \\\n",
       "0   Data Science  Skills * Programming Languages: Python (pandas...   \n",
       "1   Data Science  Education Details \\r\\nMay 2013 to May 2017 B.E...   \n",
       "2   Data Science  Areas of Interest Deep Learning, Control Syste...   \n",
       "3   Data Science  Skills â¢ R â¢ Python â¢ SAP HANA â¢ Table...   \n",
       "4   Data Science  Education Details \\r\\n MCA   YMCAUST,  Faridab...   \n",
       "5   Data Science  SKILLS C Basics, IOT, Python, MATLAB, Data Sci...   \n",
       "6   Data Science  Skills â¢ Python â¢ Tableau â¢ Data Visuali...   \n",
       "7   Data Science  Education Details \\r\\n B.Tech   Rayat and Bahr...   \n",
       "8   Data Science  Personal Skills â¢ Ability to quickly grasp t...   \n",
       "9   Data Science  Expertise â Data and Quantitative Analysis â...   \n",
       "10  Data Science  Skills * Programming Languages: Python (pandas...   \n",
       "11  Data Science  Education Details \\r\\nMay 2013 to May 2017 B.E...   \n",
       "12  Data Science  Areas of Interest Deep Learning, Control Syste...   \n",
       "13  Data Science  Skills â¢ R â¢ Python â¢ SAP HANA â¢ Table...   \n",
       "14  Data Science  Education Details \\r\\n MCA   YMCAUST,  Faridab...   \n",
       "15  Data Science  SKILLS C Basics, IOT, Python, MATLAB, Data Sci...   \n",
       "16  Data Science  Skills â¢ Python â¢ Tableau â¢ Data Visuali...   \n",
       "17  Data Science  Education Details \\r\\n B.Tech   Rayat and Bahr...   \n",
       "18  Data Science  Personal Skills â¢ Ability to quickly grasp t...   \n",
       "19  Data Science  Expertise â Data and Quantitative Analysis â...   \n",
       "20  Data Science  Skills * Programming Languages: Python (pandas...   \n",
       "21  Data Science  Education Details \\r\\nMay 2013 to May 2017 B.E...   \n",
       "22  Data Science  Areas of Interest Deep Learning, Control Syste...   \n",
       "23  Data Science  Skills â¢ R â¢ Python â¢ SAP HANA â¢ Table...   \n",
       "24  Data Science  Education Details \\r\\n MCA   YMCAUST,  Faridab...   \n",
       "25  Data Science  SKILLS C Basics, IOT, Python, MATLAB, Data Sci...   \n",
       "26  Data Science  Skills â¢ Python â¢ Tableau â¢ Data Visuali...   \n",
       "27  Data Science  Education Details \\r\\n B.Tech   Rayat and Bahr...   \n",
       "28  Data Science  Personal Skills â¢ Ability to quickly grasp t...   \n",
       "29  Data Science  Expertise â Data and Quantitative Analysis â...   \n",
       "\n",
       "                                           Resume_str  length  \\\n",
       "0   skills programming languages python pandas num...    4786   \n",
       "1   education details may to may b e uit rgpv data...    1268   \n",
       "2   areas of interest deep learning control system...    1871   \n",
       "3   skills  r  python  sap hana  tableau  sap hana...    6995   \n",
       "4   education details mca ymcaust faridabad haryan...     452   \n",
       "5   skills c basics iot python matlab data science...     708   \n",
       "6   skills  python  tableau  data visualization  r...    1700   \n",
       "7   education details b tech rayat and bahra insti...    8192   \n",
       "8   personal skills  ability to quickly grasp tech...    1778   \n",
       "9   expertise  data and quantitative analysis  dec...    4381   \n",
       "10  skills programming languages python pandas num...    4786   \n",
       "11  education details may to may b e uit rgpv data...    1268   \n",
       "12  areas of interest deep learning control system...    1871   \n",
       "13  skills  r  python  sap hana  tableau  sap hana...    6995   \n",
       "14  education details mca ymcaust faridabad haryan...     452   \n",
       "15  skills c basics iot python matlab data science...     708   \n",
       "16  skills  python  tableau  data visualization  r...    1700   \n",
       "17  education details b tech rayat and bahra insti...    8192   \n",
       "18  personal skills  ability to quickly grasp tech...    1778   \n",
       "19  expertise  data and quantitative analysis  dec...    4381   \n",
       "20  skills programming languages python pandas num...    4786   \n",
       "21  education details may to may b e uit rgpv data...    1268   \n",
       "22  areas of interest deep learning control system...    1871   \n",
       "23  skills  r  python  sap hana  tableau  sap hana...    6995   \n",
       "24  education details mca ymcaust faridabad haryan...     452   \n",
       "25  skills c basics iot python matlab data science...     708   \n",
       "26  skills  python  tableau  data visualization  r...    1700   \n",
       "27  education details b tech rayat and bahra insti...    8192   \n",
       "28  personal skills  ability to quickly grasp tech...    1778   \n",
       "29  expertise  data and quantitative analysis  dec...    4381   \n",
       "\n",
       "                             resume_text_preprocessed  VADER score  \n",
       "0   skill program languag python panda numpi scipi...       0.9485  \n",
       "1   educ detail may may b e uit rgpv data scientis...      -0.4588  \n",
       "2   area interest deep learn control system design...       0.9468  \n",
       "3   skill r python sap hana tableau sap hana sql s...       0.9940  \n",
       "4   educ detail mca ymcaust faridabad haryana data...       0.0000  \n",
       "5   skill c basic iot python matlab data scienc ma...       0.6908  \n",
       "6   skill python tableau data visual r studio mach...       0.9531  \n",
       "7   educ detail b tech rayat bahra institut engin ...       0.9989  \n",
       "8   person skill abil quickli grasp technic aspect...       0.9781  \n",
       "9   expertis data quantit analysi decis analyt pre...       0.9709  \n",
       "10  skill program languag python panda numpi scipi...       0.9485  \n",
       "11  educ detail may may b e uit rgpv data scientis...      -0.4588  \n",
       "12  area interest deep learn control system design...       0.9468  \n",
       "13  skill r python sap hana tableau sap hana sql s...       0.9940  \n",
       "14  educ detail mca ymcaust faridabad haryana data...       0.0000  \n",
       "15  skill c basic iot python matlab data scienc ma...       0.6908  \n",
       "16  skill python tableau data visual r studio mach...       0.9531  \n",
       "17  educ detail b tech rayat bahra institut engin ...       0.9989  \n",
       "18  person skill abil quickli grasp technic aspect...       0.9781  \n",
       "19  expertis data quantit analysi decis analyt pre...       0.9709  \n",
       "20  skill program languag python panda numpi scipi...       0.9485  \n",
       "21  educ detail may may b e uit rgpv data scientis...      -0.4588  \n",
       "22  area interest deep learn control system design...       0.9468  \n",
       "23  skill r python sap hana tableau sap hana sql s...       0.9940  \n",
       "24  educ detail mca ymcaust faridabad haryana data...       0.0000  \n",
       "25  skill c basic iot python matlab data scienc ma...       0.6908  \n",
       "26  skill python tableau data visual r studio mach...       0.9531  \n",
       "27  educ detail b tech rayat bahra institut engin ...       0.9989  \n",
       "28  person skill abil quickli grasp technic aspect...       0.9781  \n",
       "29  expertis data quantit analysi decis analyt pre...       0.9709  "
      ]
     },
     "execution_count": 122,
     "metadata": {},
     "output_type": "execute_result"
    }
   ],
   "source": [
    "df_resume.head(30)"
   ]
  },
  {
   "cell_type": "code",
   "execution_count": 124,
   "id": "d0aedb76",
   "metadata": {},
   "outputs": [],
   "source": [
    "max_sentiment = df_resume[df_resume[\"VADER score\"] == df_resume[\"VADER score\"].max()]"
   ]
  },
  {
   "cell_type": "markdown",
   "id": "f12a712e",
   "metadata": {},
   "source": [
    "Let us check most positive resume. Indeed it contains some words that may be perceived as positive."
   ]
  },
  {
   "cell_type": "code",
   "execution_count": 127,
   "id": "f10c9307",
   "metadata": {},
   "outputs": [
    {
     "data": {
      "text/plain": [
       "'education details bca vinayaka missions university operations manager operations manager skill details operations management exprience less than year monthscompany details company bny mellon international operations india pvt ltd description organization bny mellon international operations india pvt ltd sept till date bny mellon provides a broad range of products and services in the areas of investment management investment services and treasury services our customers are institutions corporations and high net worth individuals as well as consultants and advisors who work with them line of business lob revenue andbilling services randbs revenue and billing services is a global center of excellence that generates invoices and collects fee revenue from investment services clients staff across five locations brooklyn pittsburgh syracuse pune and uk various businesses supported are asset servicing corporate trust treasury services broker dealer services and global collateral management support u s emea and apac regions job profile operations manager bny mellon international operations india pvt ltd responsible for daily operations of the billing department providing services to institutional clients globally led a team of professionals responsible for accurate and timely account setups and invoice production on the billing platforms like advantage fiserv and firre sungard tasked with improving service quality and reducing the overall unbilled revenue provide guidance to staff in their professional development plans by facilitating appropriate coaching and feedback other responsibilities include but not limited to audit business resumption planning evaluating emerging technologies fee contract reviews and negotiations with vendors human resources hiring performance management employee personal development rewards andrecognition programs and defining the strategic direction of the business unit operations service delivery management  monitor client kyc s and compliance monitoring for institutional clients  manage support and train the team in the drafting and reviewing of standard operating procedures to ensure compliance with us and global regulations for billing  assist clients with contract reviews and negotiations  monitor analyze and draft metrics reports on a weekly monthly basis to track progress of compliance efforts to senior management  coordinate with internal stake holders and draft responses to escalated enquiries and client requests  participate in the risk and control self assessments rcsa concurrence meetings for the lob  form the first line of defense as operations and take accountability for any operational risk events ore s  perform root cause analysis of issues and document them accordingly for incident reporting  ensure service delivery standards are always met green sla tat  monitor employee productivity efficiency and performance management  initiate the goal setting exercise for the operations team in the lob  provide direction to employees according to established policies and management guidance  consistently meet the onshore and offshore stake holders to provide real time updates  organize meetings with functional peer groups to discuss monthly mis  actively involved in hiring and resource management for all levels within the department  oversee the employee assistance program eap for the underperforming employees  end to end performance management of staff during semiannual and annual appraisals  established training and development as one of the top priority goal for the department and secured senior management funding  cut new hire to on the job competency from three months to two by introducing e learning modules and brainshark presentations  encourage the team to understand and communicate the company vision and competitive strategy for driving business plan to win andplay to win  initiate quarterly risk and control self assessments rcsa concurrence reviews with all the process stake holders project management transitions management pmo worked as a project manager in bny mellon pmo to manage the transitions of billing operations the responsibilities included but were not limited to  understanding expectations technology documentation assessing capacity and skillset  executing transition plan process timelines slas escalation matrix etc  ensuring smooth go live and regular review meetings post transition  conducted analysis on projects to determine roi and viability of project undertaking before presenting it to the senior operations directors  conceptualized and implemented strategy for capturing project and program metrics and funneling that information to easy to understand dashboards  direct management oversight for a team of employees of which were direct reports  work directly with the information technology architecture team to identify strategic project breakdowns within the program  ensure complete adherence to project management and toll gate framework  ensure users of the operations team get the required application accesses  determined lessons learned through post project reviews and integrated findings into program plan talent management team and function  re structured organization design to differentiate roles develop career paths easy work rotation  performed skill gap analysis to identify training and development opportunities ensured participation and also tracked effectiveness of training programs  developed and implemented function wide rewards and recognitions randr programs previous job profiles in bny mellon during overall tenure assistant manager and team leader line of business lob global corporate trust billing enterprise billing unit alternate investment services ais broker dealer services bds andsub custodian fee billing the trustee services that are provided e g admin services paying agent services registrar by bny mellon to the corporate trust clients are being billed and invoiced for generating revenue worked in the capacity of assistant manager and team leader during the overall tenure managing multiple teams for different sub functions within billing department other responsibilities included  assign the daily work to the team from the respective mailboxes  ensure equal distribution of all sub activities among the team depending on the volumes and ensure timely completion  monitor the log spreadsheets for all the activities and sub activities which are saved in designated shared drive  quality check of the transactions processed  work on efficiency projects  monitor the onshore and rm emails and respond within the same day after getting them actioned  attend the daily handoff call to discuss processed work and updates with onshore counterparts  work on efficiency six sigma quality projects  conduct monthly one on ones with the team members and schedule team meetings  mentoring the new and old hires in the team discuss process updates regularly  managing performance appraisals of employees in the team  to be actively involved in the hiring process  participate in internal and external audits  attend concurrence meetings for risk and control self assessment rcsa work experience company wipro technologies description client microsoft wipro ltd is an indian information technology services corporation it s a leading global information technology consulting and business process services company job profile worked as an application support engineer tier ii  provided technical support to siebel crm users across the globe from microsoft corp  communicated with the users to obtain an understanding of their environment and challenges to troubleshoot the issue and provide solutions  utilized existing structure to translate ticket categories and group names to the system structure  identified and escalated issues to the tieriii production support teams as required to ensure they were addressed and resolved  ensured all siebel crm user sites were up and running by utilizing proactive monitoring tools which increased customer up time to  trained new engineers in providing proactive support to users  compiled data and department metrics into reports for management examination of processes mis reporting  coordinated development team with business users for system deployment and modifications  actively participated in the stbandqtp testing s during the application version releases  perform periodic application health checks  tested implemented and supported database replication including sql server replication types in an editing environment  perform role flip of servers at the backend to reduce application downtime  maintained a consistent eta of month on month for help desk tickets within a hour time span  ensured the knowledge base article s repository is updated regularly to enable the new engineers to go through them for troubleshooting issues work experience company dell global financial services description for dell computer corporation aug th till feb dell inc is one of the world s leading computer systems company dell designs builds and customizes products and services to satisfy a range of customer requirements from the server storage and professional services needs of the largest global corporations to those of customers at home across countries of the world dell does business directly with the customers to meet unique needs job profile worked as an account receivables senior associate for dell inc  handling a portfolio of about u s corporate customers  handling a team of senior credit controllers  walking the floor coaching and guiding the controllers  minimizing credit losses by managing the team to collect delinquent accounts  handling escalations through emails and over the phone  identify late stage delinquent accounts and resolve with appropriate verbal and written correspondence or notices  performing ledger accounts review  discussing interim and annual appraisals with the team members and to ensure their closure in the stipulated time  research and resolve problem transactions identified on a daily basis maintain records concerning changes in accounts as a result of negotiations on the collection of customer s outstanding accounts refunds tax credits etc  release orders with credit task codes from assigned queues  intervening and communicating with supporting departments such as sales order processing etc when there is delayed no response from the same  mentor new hires and assists team members in improving performance as required  setting up and leading the conference calls with customers and other internal departments to discuss the issues on the accounts and deriving measures to resolve them  taking team hurdles and driving team results attending weekly and monthly review calls with the management to discuss process related issues and ways to improvise them  work through real time cases made up of potential order errors or situations where specific customer requirements are not met  makes decisions on how to resolve issues in most expeditious manner  makes recommendations on business rules additions designed to capture commonly occurring order errors  to keep the motivation level high among the team members by organizing fun at work activities also have been nominated as the hr and transport spoc for the coe work experience ge capital international services gecis ge capital is the financial services unit of the american multinational conglomerate general electric it provides commercial lending and leasing as well as a range of financial services for commercial aviation energy and support for ge s industrial business units company description made outbound calls and sent emails informing institutional clients about their delinquent payments as per standard operating procedures  developed one point lessons for key customers and shared with the team  maintained accuracy rate throughout the year  to generate a daily report on the team s performance this included ways and means of improvement in coe revenue  had gained credibility among the team members and first level of escalation for any issues in the absence of the manager been single point of contact spoc for any hr issues in team '"
      ]
     },
     "execution_count": 127,
     "metadata": {},
     "output_type": "execute_result"
    }
   ],
   "source": [
    "max_sentiment = max_sentiment.reset_index()\n",
    "max_sentiment['Resume_str'][0]"
   ]
  },
  {
   "cell_type": "markdown",
   "id": "cf81a1d7",
   "metadata": {},
   "source": [
    "Let us also check histogram how resumes snetiment is distributed. We should expect that there are significant number in neutral (around 0) and positive (between 0 and 1). I assume no or hardly any negative resumes will appear and if they appear maybe it would be a good tool to screen your Resume before sending just to have confirmation we are not too negative or too positive."
   ]
  },
  {
   "cell_type": "code",
   "execution_count": 129,
   "id": "03cc7cad",
   "metadata": {},
   "outputs": [
    {
     "data": {
      "text/plain": [
       "Text(0.5, 0, 'Sentiment of Resumes')"
      ]
     },
     "execution_count": 129,
     "metadata": {},
     "output_type": "execute_result"
    },
    {
     "data": {
      "image/png": "[encoded data removed]",
      "text/plain": [
       "<Figure size 432x288 with 1 Axes>"
      ]
     },
     "metadata": {
      "needs_background": "light"
     },
     "output_type": "display_data"
    }
   ],
   "source": [
    "df_resume['VADER score'].plot(bins=50,kind='hist')\n",
    "plt.xlabel('Sentiment of Resumes')"
   ]
  },
  {
   "cell_type": "markdown",
   "id": "0af5c98f",
   "metadata": {},
   "source": [
    "As we can see there are mostly very positive resumes, however there are some that are more balanced and even a few with negative score."
   ]
  },
  {
   "cell_type": "markdown",
   "id": "bb764f9b",
   "metadata": {},
   "source": [
    "Let us take a look at the most negative Resume. As we can see it is not that negative, it just about a job that is connected with fire / fighting / nuclear which are rather negative without context. That is why sentiment analysis should be used with more context for such topics as resumes"
   ]
  },
  {
   "cell_type": "code",
   "execution_count": 131,
   "id": "0edd7e85",
   "metadata": {},
   "outputs": [
    {
     "data": {
      "text/plain": [
       "'education details electrical engineering skill details microsft office and excell power point exprience monthscompany details company indian navy description academia  matric  diploma in electrical engineering  nuclear biological chemical defence and damage control including fire fighting  leadership certificate course weeks  management certificate course weeks  advance fire fighting including industrial safety weeks'"
      ]
     },
     "execution_count": 131,
     "metadata": {},
     "output_type": "execute_result"
    }
   ],
   "source": [
    "min_sentiment = df_resume[df_resume[\"VADER score\"] == df_resume[\"VADER score\"].min()]\n",
    "min_sentiment = min_sentiment.reset_index()\n",
    "min_sentiment['Resume_str'][0]"
   ]
  },
  {
   "cell_type": "markdown",
   "id": "7ec83f51",
   "metadata": {},
   "source": [
    "Last but not least let us check which Category of jobs have the most poitive resumes on average"
   ]
  },
  {
   "cell_type": "code",
   "execution_count": 132,
   "id": "5355ed6e",
   "metadata": {},
   "outputs": [
    {
     "data": {
      "text/plain": [
       "([0,\n",
       "  1,\n",
       "  2,\n",
       "  3,\n",
       "  4,\n",
       "  5,\n",
       "  6,\n",
       "  7,\n",
       "  8,\n",
       "  9,\n",
       "  10,\n",
       "  11,\n",
       "  12,\n",
       "  13,\n",
       "  14,\n",
       "  15,\n",
       "  16,\n",
       "  17,\n",
       "  18,\n",
       "  19,\n",
       "  20,\n",
       "  21,\n",
       "  22,\n",
       "  23,\n",
       "  24],\n",
       " [Text(0, 0, ''),\n",
       "  Text(0, 0, ''),\n",
       "  Text(0, 0, ''),\n",
       "  Text(0, 0, ''),\n",
       "  Text(0, 0, ''),\n",
       "  Text(0, 0, ''),\n",
       "  Text(0, 0, ''),\n",
       "  Text(0, 0, ''),\n",
       "  Text(0, 0, ''),\n",
       "  Text(0, 0, ''),\n",
       "  Text(0, 0, ''),\n",
       "  Text(0, 0, ''),\n",
       "  Text(0, 0, ''),\n",
       "  Text(0, 0, ''),\n",
       "  Text(0, 0, ''),\n",
       "  Text(0, 0, ''),\n",
       "  Text(0, 0, ''),\n",
       "  Text(0, 0, ''),\n",
       "  Text(0, 0, ''),\n",
       "  Text(0, 0, ''),\n",
       "  Text(0, 0, ''),\n",
       "  Text(0, 0, ''),\n",
       "  Text(0, 0, ''),\n",
       "  Text(0, 0, ''),\n",
       "  Text(0, 0, '')])"
      ]
     },
     "execution_count": 132,
     "metadata": {},
     "output_type": "execute_result"
    },
    {
     "data": {
      "image/png": "[encoded data removed]",
      "text/plain": [
       "<Figure size 432x288 with 1 Axes>"
      ]
     },
     "metadata": {
      "needs_background": "light"
     },
     "output_type": "display_data"
    }
   ],
   "source": [
    "df_mean2 = df_resume.groupby(\"Category\")[\"VADER score\"].mean()\n",
    "plt.bar(df_mean2.index, df_mean2.values)\n",
    "plt.xticks(rotation=90)"
   ]
  },
  {
   "cell_type": "markdown",
   "id": "b2929f17",
   "metadata": {},
   "source": [
    "Most probably advocates and electrical engineers may use some rather negative words such as with previous example, that is why those groups may be such low on average. It is rather hard to explain why other groups differ but some of them are quite counterintuitive. For HR resumes I would expect highly positive words as it is rather 'people' job."
   ]
  },
  {
   "cell_type": "markdown",
   "id": "adae5cd3",
   "metadata": {},
   "source": [
    "### Conculsions\n",
    "We acheived our goals that we set at the beggining. We were able to predict job offer category (IT / Non-IT) and the resume candidate profile quite well. The recommendation system based on cosine similarity did quite well and we may say that for simple usage it would fit fine. Based on the analysis we may see that it is posible and wortk to analyse text as it may have real use cases that may save time and money. Moreover we have tried sentiment analysis that can be somehow also useful to track if our Resume is well balanced and not too 'colourful'."
   ]
  }
 ],
 "metadata": {
  "kernelspec": {
   "display_name": "Python 3 (ipykernel)",
   "language": "python",
   "name": "python3"
  },
  "language_info": {
   "codemirror_mode": {
    "name": "ipython",
    "version": 3
   },
   "file_extension": ".py",
   "mimetype": "text/x-python",
   "name": "python",
   "nbconvert_exporter": "python",
   "pygments_lexer": "ipython3",
   "version": "3.9.9"
  }
 },
 "nbformat": 4,
 "nbformat_minor": 5
}
